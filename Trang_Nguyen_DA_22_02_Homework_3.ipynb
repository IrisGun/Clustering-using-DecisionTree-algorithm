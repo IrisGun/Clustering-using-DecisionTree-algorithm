{
  "nbformat": 4,
  "nbformat_minor": 0,
  "metadata": {
    "colab": {
      "name": "Trang Nguyen - DA 22.02 Homework 3.ipynb",
      "provenance": [],
      "collapsed_sections": [],
      "include_colab_link": true
    },
    "kernelspec": {
      "display_name": "Python 3",
      "language": "python",
      "name": "python3"
    },
    "language_info": {
      "codemirror_mode": {
        "name": "ipython",
        "version": 3
      },
      "file_extension": ".py",
      "mimetype": "text/x-python",
      "name": "python",
      "nbconvert_exporter": "python",
      "pygments_lexer": "ipython3",
      "version": "3.8.3"
    }
  },
  "cells": [
    {
      "cell_type": "markdown",
      "metadata": {
        "id": "view-in-github",
        "colab_type": "text"
      },
      "source": [
        "<a href=\"https://colab.research.google.com/github/IrisGun/Decision-Tree-Predicting-survivals-from-the-Titanic-Disaster/blob/main/Trang_Nguyen_DA_22_02_Homework_3.ipynb\" target=\"_parent\"><img src=\"https://colab.research.google.com/assets/colab-badge.svg\" alt=\"Open In Colab\"/></a>"
      ]
    },
    {
      "cell_type": "markdown",
      "metadata": {
        "id": "Gm07X3yP0Txz"
      },
      "source": [
        "\n",
        "\n",
        "# Problem 1 - Linear Regression: Predicting California House Price (50 points)\n"
      ]
    },
    {
      "cell_type": "markdown",
      "source": [
        "## Xây dựng mô hình dự đoán giá nhà ở bang California bằng hồi quy tuyến tính."
      ],
      "metadata": {
        "id": "9ya_9fPSokCC"
      }
    },
    {
      "cell_type": "code",
      "source": [
        "import numpy as np\n",
        "import pandas as pd\n",
        "import warnings\n",
        "warnings.filterwarnings(\"ignore\")\n",
        "\n",
        "# preprocessing\n",
        "from sklearn.preprocessing import MinMaxScaler, StandardScaler\n",
        "from sklearn.model_selection import train_test_split\n",
        "\n",
        "# models\n",
        "## Scikit-Learn\n",
        "from sklearn.linear_model import LinearRegression, Lasso, Ridge\n",
        "from sklearn.ensemble import RandomForestRegressor\n",
        "from sklearn.tree import DecisionTreeRegressor\n",
        "\n",
        "## Statsmodels\n",
        "import statsmodels.api as sm\n",
        "from scipy import stats\n",
        "from statsmodels.stats.outliers_influence import variance_inflation_factor\n",
        "\n",
        "# feature selection\n",
        "from sklearn.feature_selection import SelectKBest, SelectPercentile, f_regression, mutual_info_regression\n",
        "\n",
        "# data\n",
        "from sklearn.datasets import fetch_california_housing\n",
        "\n",
        "# metrics\n",
        "from sklearn.metrics import mean_squared_error, r2_score\n",
        "\n",
        "# seaborn for visualization\n",
        "import seaborn as sns\n",
        "color = sns.color_palette()\n",
        "sns.set_style('darkgrid')\n",
        "\n",
        "# statistics\n",
        "from scipy import stats\n",
        "from scipy.stats import norm, skew #for some statistics\n",
        "\n",
        "# # plotting\n",
        "import matplotlib\n",
        "import matplotlib.pyplot as plt\n",
        "font = {'size' : 10}\n",
        "matplotlib.rc('font', **font)\n",
        "\n",
        "## Helper function\n",
        "# visualize the distribution of values a column, specified by 'column' ~ a column of a data frame, the name of the column is 'column_name' ~ a string\n",
        "# trực quan hóa phân phối giá trị của 1 cột trong dataframe, 'column' là 1 cột của 1 dataframe, biến 'column_name' là tên của cột đó.\n",
        "def visualize_distr(column_name, column):\n",
        "    sns.distplot(column , fit=norm);\n",
        "\n",
        "    # Get the fitted parameters used by the function\n",
        "    (mu, sigma) = norm.fit(column)\n",
        "    print( '\\n mu = {:.2f} and sigma = {:.2f}\\n'.format(mu, sigma))\n",
        "\n",
        "    #Now plot the distribution\n",
        "    plt.legend(['Normal dist. ($\\mu=$ {:.2f} and $\\sigma=$ {:.2f} )'.format(mu, sigma)],\n",
        "            loc='best')\n",
        "    plt.ylabel('Frequency')\n",
        "    plt.title(column_name + ' distribution')\n"
      ],
      "metadata": {
        "id": "lbLAX6671AW7"
      },
      "execution_count": null,
      "outputs": []
    },
    {
      "cell_type": "markdown",
      "metadata": {
        "id": "OYZjR2yRqdIa"
      },
      "source": [
        "## 1. Data loading (5 points)\n"
      ]
    },
    {
      "cell_type": "markdown",
      "source": [
        "Run the following code cell to load the data and create a data frame.\\\n",
        "Chạy đoạn code dưới dây để tải data và tạo ra 1 dataframe."
      ],
      "metadata": {
        "id": "_GB-viqF4zV6"
      }
    },
    {
      "cell_type": "code",
      "source": [
        "# load the data\n",
        "data = fetch_california_housing()\n",
        "\n",
        "# create a Pandas Data Frame\n",
        "df_features = pd.DataFrame(data['data'], columns=data['feature_names'])\n",
        "df_targets  = pd.DataFrame(data['target'], columns=['value'])\n",
        "# Concat the features and the target (df_targets is the output of our Linear Regression)\n",
        "df = pd.concat([df_features, df_targets], axis=1)"
      ],
      "metadata": {
        "id": "84hyHlj5qf1G"
      },
      "execution_count": null,
      "outputs": []
    },
    {
      "cell_type": "markdown",
      "source": [
        "Requirements:\n",
        "  - Read dataset, then show the first 5 rows of the dataset. (2 points)\\\n",
        "  Gọi hàm thích hợp để in ra 5 dòng đầu của dataframe."
      ],
      "metadata": {
        "id": "2vuhLAtv42xU"
      }
    },
    {
      "cell_type": "code",
      "source": [
        "# Print the first 5 rows of the data (2 points): 1 line of code\n",
        "# YOUR CODE HERE\n",
        "df.head()"
      ],
      "metadata": {
        "id": "nV4KwElG2TyC",
        "colab": {
          "base_uri": "https://localhost:8080/",
          "height": 206
        },
        "outputId": "587b4101-5ee4-47e2-f2b4-f1f3e42883bf"
      },
      "execution_count": null,
      "outputs": [
        {
          "output_type": "execute_result",
          "data": {
            "text/plain": [
              "   MedInc  HouseAge  AveRooms  AveBedrms  Population  AveOccup  Latitude  \\\n",
              "0  8.3252      41.0  6.984127   1.023810       322.0  2.555556     37.88   \n",
              "1  8.3014      21.0  6.238137   0.971880      2401.0  2.109842     37.86   \n",
              "2  7.2574      52.0  8.288136   1.073446       496.0  2.802260     37.85   \n",
              "3  5.6431      52.0  5.817352   1.073059       558.0  2.547945     37.85   \n",
              "4  3.8462      52.0  6.281853   1.081081       565.0  2.181467     37.85   \n",
              "\n",
              "   Longitude  value  \n",
              "0    -122.23  4.526  \n",
              "1    -122.22  3.585  \n",
              "2    -122.24  3.521  \n",
              "3    -122.25  3.413  \n",
              "4    -122.25  3.422  "
            ],
            "text/html": [
              "\n",
              "  <div id=\"df-dcd89445-a068-4580-b66a-7099223c10b5\">\n",
              "    <div class=\"colab-df-container\">\n",
              "      <div>\n",
              "<style scoped>\n",
              "    .dataframe tbody tr th:only-of-type {\n",
              "        vertical-align: middle;\n",
              "    }\n",
              "\n",
              "    .dataframe tbody tr th {\n",
              "        vertical-align: top;\n",
              "    }\n",
              "\n",
              "    .dataframe thead th {\n",
              "        text-align: right;\n",
              "    }\n",
              "</style>\n",
              "<table border=\"1\" class=\"dataframe\">\n",
              "  <thead>\n",
              "    <tr style=\"text-align: right;\">\n",
              "      <th></th>\n",
              "      <th>MedInc</th>\n",
              "      <th>HouseAge</th>\n",
              "      <th>AveRooms</th>\n",
              "      <th>AveBedrms</th>\n",
              "      <th>Population</th>\n",
              "      <th>AveOccup</th>\n",
              "      <th>Latitude</th>\n",
              "      <th>Longitude</th>\n",
              "      <th>value</th>\n",
              "    </tr>\n",
              "  </thead>\n",
              "  <tbody>\n",
              "    <tr>\n",
              "      <th>0</th>\n",
              "      <td>8.3252</td>\n",
              "      <td>41.0</td>\n",
              "      <td>6.984127</td>\n",
              "      <td>1.023810</td>\n",
              "      <td>322.0</td>\n",
              "      <td>2.555556</td>\n",
              "      <td>37.88</td>\n",
              "      <td>-122.23</td>\n",
              "      <td>4.526</td>\n",
              "    </tr>\n",
              "    <tr>\n",
              "      <th>1</th>\n",
              "      <td>8.3014</td>\n",
              "      <td>21.0</td>\n",
              "      <td>6.238137</td>\n",
              "      <td>0.971880</td>\n",
              "      <td>2401.0</td>\n",
              "      <td>2.109842</td>\n",
              "      <td>37.86</td>\n",
              "      <td>-122.22</td>\n",
              "      <td>3.585</td>\n",
              "    </tr>\n",
              "    <tr>\n",
              "      <th>2</th>\n",
              "      <td>7.2574</td>\n",
              "      <td>52.0</td>\n",
              "      <td>8.288136</td>\n",
              "      <td>1.073446</td>\n",
              "      <td>496.0</td>\n",
              "      <td>2.802260</td>\n",
              "      <td>37.85</td>\n",
              "      <td>-122.24</td>\n",
              "      <td>3.521</td>\n",
              "    </tr>\n",
              "    <tr>\n",
              "      <th>3</th>\n",
              "      <td>5.6431</td>\n",
              "      <td>52.0</td>\n",
              "      <td>5.817352</td>\n",
              "      <td>1.073059</td>\n",
              "      <td>558.0</td>\n",
              "      <td>2.547945</td>\n",
              "      <td>37.85</td>\n",
              "      <td>-122.25</td>\n",
              "      <td>3.413</td>\n",
              "    </tr>\n",
              "    <tr>\n",
              "      <th>4</th>\n",
              "      <td>3.8462</td>\n",
              "      <td>52.0</td>\n",
              "      <td>6.281853</td>\n",
              "      <td>1.081081</td>\n",
              "      <td>565.0</td>\n",
              "      <td>2.181467</td>\n",
              "      <td>37.85</td>\n",
              "      <td>-122.25</td>\n",
              "      <td>3.422</td>\n",
              "    </tr>\n",
              "  </tbody>\n",
              "</table>\n",
              "</div>\n",
              "      <button class=\"colab-df-convert\" onclick=\"convertToInteractive('df-dcd89445-a068-4580-b66a-7099223c10b5')\"\n",
              "              title=\"Convert this dataframe to an interactive table.\"\n",
              "              style=\"display:none;\">\n",
              "        \n",
              "  <svg xmlns=\"http://www.w3.org/2000/svg\" height=\"24px\"viewBox=\"0 0 24 24\"\n",
              "       width=\"24px\">\n",
              "    <path d=\"M0 0h24v24H0V0z\" fill=\"none\"/>\n",
              "    <path d=\"M18.56 5.44l.94 2.06.94-2.06 2.06-.94-2.06-.94-.94-2.06-.94 2.06-2.06.94zm-11 1L8.5 8.5l.94-2.06 2.06-.94-2.06-.94L8.5 2.5l-.94 2.06-2.06.94zm10 10l.94 2.06.94-2.06 2.06-.94-2.06-.94-.94-2.06-.94 2.06-2.06.94z\"/><path d=\"M17.41 7.96l-1.37-1.37c-.4-.4-.92-.59-1.43-.59-.52 0-1.04.2-1.43.59L10.3 9.45l-7.72 7.72c-.78.78-.78 2.05 0 2.83L4 21.41c.39.39.9.59 1.41.59.51 0 1.02-.2 1.41-.59l7.78-7.78 2.81-2.81c.8-.78.8-2.07 0-2.86zM5.41 20L4 18.59l7.72-7.72 1.47 1.35L5.41 20z\"/>\n",
              "  </svg>\n",
              "      </button>\n",
              "      \n",
              "  <style>\n",
              "    .colab-df-container {\n",
              "      display:flex;\n",
              "      flex-wrap:wrap;\n",
              "      gap: 12px;\n",
              "    }\n",
              "\n",
              "    .colab-df-convert {\n",
              "      background-color: #E8F0FE;\n",
              "      border: none;\n",
              "      border-radius: 50%;\n",
              "      cursor: pointer;\n",
              "      display: none;\n",
              "      fill: #1967D2;\n",
              "      height: 32px;\n",
              "      padding: 0 0 0 0;\n",
              "      width: 32px;\n",
              "    }\n",
              "\n",
              "    .colab-df-convert:hover {\n",
              "      background-color: #E2EBFA;\n",
              "      box-shadow: 0px 1px 2px rgba(60, 64, 67, 0.3), 0px 1px 3px 1px rgba(60, 64, 67, 0.15);\n",
              "      fill: #174EA6;\n",
              "    }\n",
              "\n",
              "    [theme=dark] .colab-df-convert {\n",
              "      background-color: #3B4455;\n",
              "      fill: #D2E3FC;\n",
              "    }\n",
              "\n",
              "    [theme=dark] .colab-df-convert:hover {\n",
              "      background-color: #434B5C;\n",
              "      box-shadow: 0px 1px 3px 1px rgba(0, 0, 0, 0.15);\n",
              "      filter: drop-shadow(0px 1px 2px rgba(0, 0, 0, 0.3));\n",
              "      fill: #FFFFFF;\n",
              "    }\n",
              "  </style>\n",
              "\n",
              "      <script>\n",
              "        const buttonEl =\n",
              "          document.querySelector('#df-dcd89445-a068-4580-b66a-7099223c10b5 button.colab-df-convert');\n",
              "        buttonEl.style.display =\n",
              "          google.colab.kernel.accessAllowed ? 'block' : 'none';\n",
              "\n",
              "        async function convertToInteractive(key) {\n",
              "          const element = document.querySelector('#df-dcd89445-a068-4580-b66a-7099223c10b5');\n",
              "          const dataTable =\n",
              "            await google.colab.kernel.invokeFunction('convertToInteractive',\n",
              "                                                     [key], {});\n",
              "          if (!dataTable) return;\n",
              "\n",
              "          const docLinkHtml = 'Like what you see? Visit the ' +\n",
              "            '<a target=\"_blank\" href=https://colab.research.google.com/notebooks/data_table.ipynb>data table notebook</a>'\n",
              "            + ' to learn more about interactive tables.';\n",
              "          element.innerHTML = '';\n",
              "          dataTable['output_type'] = 'display_data';\n",
              "          await google.colab.output.renderOutput(dataTable, element);\n",
              "          const docLink = document.createElement('div');\n",
              "          docLink.innerHTML = docLinkHtml;\n",
              "          element.appendChild(docLink);\n",
              "        }\n",
              "      </script>\n",
              "    </div>\n",
              "  </div>\n",
              "  "
            ]
          },
          "metadata": {},
          "execution_count": 3
        }
      ]
    },
    {
      "cell_type": "markdown",
      "source": [
        "Requirements:\n",
        "  - Use `visualize_distr` function to plot the distribution of the column `value` ~ the target of our linear regression. (3 points)\\\n",
        "  Gọi hàm `visualize_distr` định nghĩa ở trên để trực quan hóa phân phối của giá trị cột `value`. "
      ],
      "metadata": {
        "id": "vR0VFzzy48AI"
      }
    },
    {
      "cell_type": "code",
      "source": [
        "# Use the helper function defined above to plot the distribution of value (3 points): 1 line of code\n",
        "# YOUR CODE HERE\n",
        "visualize_distr(\"Price Value\",df.value)"
      ],
      "metadata": {
        "id": "Y7LANwHXsxsv",
        "colab": {
          "base_uri": "https://localhost:8080/",
          "height": 347
        },
        "outputId": "21dbe8c4-899a-4c60-e1c6-0754664096e0"
      },
      "execution_count": null,
      "outputs": [
        {
          "output_type": "stream",
          "name": "stdout",
          "text": [
            "\n",
            " mu = 2.07 and sigma = 1.15\n",
            "\n"
          ]
        },
        {
          "output_type": "display_data",
          "data": {
            "text/plain": [
              "<Figure size 432x288 with 1 Axes>"
            ],
            "image/png": "[encoded data removed]"
          },
          "metadata": {
            "needs_background": "light"
          }
        }
      ]
    },
    {
      "cell_type": "markdown",
      "source": [
        "## 2. Data Processing (15 points)"
      ],
      "metadata": {
        "id": "9NZuA47Y3GdJ"
      }
    },
    {
      "cell_type": "markdown",
      "source": [
        "### 2.1 Fill in the misssing entries"
      ],
      "metadata": {
        "id": "Rz6-PBRK3SS5"
      }
    },
    {
      "cell_type": "markdown",
      "source": [
        "Run the following code cell to confirm that there is no missing entries (fortunately!) ✌\\\n",
        "Chạy đoạn code dưới đây để xác nhận là không cột nào bị khuyết data."
      ],
      "metadata": {
        "id": "OvF6Ygzn5DW4"
      }
    },
    {
      "cell_type": "code",
      "source": [
        "df_na = (df.isnull().sum() / len(df)) * 100\n",
        "df_na = df_na.drop(df_na[df_na == 0].index).sort_values(ascending=False)[:30]\n",
        "missing_data = pd.DataFrame({'miss_rate' :df_na})\n",
        "missing_data.head(20)"
      ],
      "metadata": {
        "id": "ClH4Ka1w3O2T",
        "colab": {
          "base_uri": "https://localhost:8080/",
          "height": 49
        },
        "outputId": "399975a5-56ce-4770-b4fd-a3702e928131"
      },
      "execution_count": null,
      "outputs": [
        {
          "output_type": "execute_result",
          "data": {
            "text/plain": [
              "Empty DataFrame\n",
              "Columns: [miss_rate]\n",
              "Index: []"
            ],
            "text/html": [
              "\n",
              "  <div id=\"df-a9f8cdfd-7fd2-48c0-96cc-d1bf2126b791\">\n",
              "    <div class=\"colab-df-container\">\n",
              "      <div>\n",
              "<style scoped>\n",
              "    .dataframe tbody tr th:only-of-type {\n",
              "        vertical-align: middle;\n",
              "    }\n",
              "\n",
              "    .dataframe tbody tr th {\n",
              "        vertical-align: top;\n",
              "    }\n",
              "\n",
              "    .dataframe thead th {\n",
              "        text-align: right;\n",
              "    }\n",
              "</style>\n",
              "<table border=\"1\" class=\"dataframe\">\n",
              "  <thead>\n",
              "    <tr style=\"text-align: right;\">\n",
              "      <th></th>\n",
              "      <th>miss_rate</th>\n",
              "    </tr>\n",
              "  </thead>\n",
              "  <tbody>\n",
              "  </tbody>\n",
              "</table>\n",
              "</div>\n",
              "      <button class=\"colab-df-convert\" onclick=\"convertToInteractive('df-a9f8cdfd-7fd2-48c0-96cc-d1bf2126b791')\"\n",
              "              title=\"Convert this dataframe to an interactive table.\"\n",
              "              style=\"display:none;\">\n",
              "        \n",
              "  <svg xmlns=\"http://www.w3.org/2000/svg\" height=\"24px\"viewBox=\"0 0 24 24\"\n",
              "       width=\"24px\">\n",
              "    <path d=\"M0 0h24v24H0V0z\" fill=\"none\"/>\n",
              "    <path d=\"M18.56 5.44l.94 2.06.94-2.06 2.06-.94-2.06-.94-.94-2.06-.94 2.06-2.06.94zm-11 1L8.5 8.5l.94-2.06 2.06-.94-2.06-.94L8.5 2.5l-.94 2.06-2.06.94zm10 10l.94 2.06.94-2.06 2.06-.94-2.06-.94-.94-2.06-.94 2.06-2.06.94z\"/><path d=\"M17.41 7.96l-1.37-1.37c-.4-.4-.92-.59-1.43-.59-.52 0-1.04.2-1.43.59L10.3 9.45l-7.72 7.72c-.78.78-.78 2.05 0 2.83L4 21.41c.39.39.9.59 1.41.59.51 0 1.02-.2 1.41-.59l7.78-7.78 2.81-2.81c.8-.78.8-2.07 0-2.86zM5.41 20L4 18.59l7.72-7.72 1.47 1.35L5.41 20z\"/>\n",
              "  </svg>\n",
              "      </button>\n",
              "      \n",
              "  <style>\n",
              "    .colab-df-container {\n",
              "      display:flex;\n",
              "      flex-wrap:wrap;\n",
              "      gap: 12px;\n",
              "    }\n",
              "\n",
              "    .colab-df-convert {\n",
              "      background-color: #E8F0FE;\n",
              "      border: none;\n",
              "      border-radius: 50%;\n",
              "      cursor: pointer;\n",
              "      display: none;\n",
              "      fill: #1967D2;\n",
              "      height: 32px;\n",
              "      padding: 0 0 0 0;\n",
              "      width: 32px;\n",
              "    }\n",
              "\n",
              "    .colab-df-convert:hover {\n",
              "      background-color: #E2EBFA;\n",
              "      box-shadow: 0px 1px 2px rgba(60, 64, 67, 0.3), 0px 1px 3px 1px rgba(60, 64, 67, 0.15);\n",
              "      fill: #174EA6;\n",
              "    }\n",
              "\n",
              "    [theme=dark] .colab-df-convert {\n",
              "      background-color: #3B4455;\n",
              "      fill: #D2E3FC;\n",
              "    }\n",
              "\n",
              "    [theme=dark] .colab-df-convert:hover {\n",
              "      background-color: #434B5C;\n",
              "      box-shadow: 0px 1px 3px 1px rgba(0, 0, 0, 0.15);\n",
              "      filter: drop-shadow(0px 1px 2px rgba(0, 0, 0, 0.3));\n",
              "      fill: #FFFFFF;\n",
              "    }\n",
              "  </style>\n",
              "\n",
              "      <script>\n",
              "        const buttonEl =\n",
              "          document.querySelector('#df-a9f8cdfd-7fd2-48c0-96cc-d1bf2126b791 button.colab-df-convert');\n",
              "        buttonEl.style.display =\n",
              "          google.colab.kernel.accessAllowed ? 'block' : 'none';\n",
              "\n",
              "        async function convertToInteractive(key) {\n",
              "          const element = document.querySelector('#df-a9f8cdfd-7fd2-48c0-96cc-d1bf2126b791');\n",
              "          const dataTable =\n",
              "            await google.colab.kernel.invokeFunction('convertToInteractive',\n",
              "                                                     [key], {});\n",
              "          if (!dataTable) return;\n",
              "\n",
              "          const docLinkHtml = 'Like what you see? Visit the ' +\n",
              "            '<a target=\"_blank\" href=https://colab.research.google.com/notebooks/data_table.ipynb>data table notebook</a>'\n",
              "            + ' to learn more about interactive tables.';\n",
              "          element.innerHTML = '';\n",
              "          dataTable['output_type'] = 'display_data';\n",
              "          await google.colab.output.renderOutput(dataTable, element);\n",
              "          const docLink = document.createElement('div');\n",
              "          docLink.innerHTML = docLinkHtml;\n",
              "          element.appendChild(docLink);\n",
              "        }\n",
              "      </script>\n",
              "    </div>\n",
              "  </div>\n",
              "  "
            ]
          },
          "metadata": {},
          "execution_count": 5
        }
      ]
    },
    {
      "cell_type": "markdown",
      "source": [
        "### 2.2 Remove highly correlated variables (5 points)"
      ],
      "metadata": {
        "id": "ON22a7wt3dh5"
      }
    },
    {
      "cell_type": "markdown",
      "source": [
        "Run the following code cell to check the pairwise correlation among the features.\\\n",
        "Chạy đoạn code dưới đây để tính hệ số tương quan của các cột features."
      ],
      "metadata": {
        "id": "JpMFZXcf36TJ"
      }
    },
    {
      "cell_type": "code",
      "source": [
        "\n",
        "# Calculate the Correlation matrix of data frame without Dependent variable (Just on 25% of data)\n",
        "corr_matrix = df.drop(columns=['value'])._get_numeric_data().sample(frac=0.25).corr()\n",
        "\n",
        "# Plot the heatmap of Correlation\n",
        "f, ax = plt.subplots(figsize=(15, 15))\n",
        "sns.heatmap(corr_matrix, vmax=1, annot=True, square=True);\n",
        "plt.show()"
      ],
      "metadata": {
        "id": "rag8hgps3Iku",
        "colab": {
          "base_uri": "https://localhost:8080/",
          "height": 850
        },
        "outputId": "b45397d4-df1a-46e5-8522-72c6fb42a083"
      },
      "execution_count": null,
      "outputs": [
        {
          "output_type": "display_data",
          "data": {
            "text/plain": [
              "<Figure size 1080x1080 with 2 Axes>"
            ],
            "image/png": "[encoded data removed]"
          },
          "metadata": {
            "needs_background": "light"
          }
        }
      ]
    },
    {
      "cell_type": "markdown",
      "source": [
        "Run the following code cell to find the column pairs having correlation > 0.8 (or < -0.8). From each pair, the code indentifies 1 column to remove.\\\n",
        "Chạy đoạn code dưới đây để tìm ra các cặp cột có hệ số tương quan > 0.8 (hoặc < -0.8). Từ mỗi cặp, Python sẽ lấy ra 1 cột để gỡ đi."
      ],
      "metadata": {
        "id": "IbwL0c4P3-U5"
      }
    },
    {
      "cell_type": "code",
      "source": [
        "# threshold above which is considered too high of a correlation. Complete this line of code by filling in the appropriate value (1 point)\n",
        "corr_threshold = 0.8\n",
        "\n",
        "# Create correlation matrix\n",
        "corr_matrix = corr_matrix.abs()\n",
        "\n",
        "# Select upper triangle of correlation matrix\n",
        "upper = corr_matrix.where(np.triu(np.ones(corr_matrix.shape), k=1).astype(np.bool))\n",
        "\n",
        "# Find index of feature columns with correlation greater than the correlation threshold (which are the unnecessary columns and will be dropped)\n",
        "to_drop_corr = [column for column in upper.columns if any(upper[column] >= corr_threshold)]"
      ],
      "metadata": {
        "id": "7Sa5977D3_ql"
      },
      "execution_count": null,
      "outputs": []
    },
    {
      "cell_type": "markdown",
      "source": [
        "Requirements:\n",
        "- Complete the following code cell so that `train_df` will be our training data after dropping the unnecessary columns. The unnecessary columns are specified in `to_drop_corr`.  (5 points)\\\n",
        "Hoàn thành đoạn code đươi dây để `train_df` là dataframe mới sau khi bỏ đi những cột cần bỏ. Tên của những cột cần bỏ được lưu trong list `to_drop_corr`."
      ],
      "metadata": {
        "id": "AIl_imWe4Yeu"
      }
    },
    {
      "cell_type": "code",
      "source": [
        "# Complete the following line: train_df is the data frame obtained by dropping the unnecessary columns (5 points).\n",
        "train_df = df.drop(columns=to_drop_corr)\n",
        "\n"
      ],
      "metadata": {
        "id": "i7LhRM4j4icW"
      },
      "execution_count": null,
      "outputs": []
    },
    {
      "cell_type": "markdown",
      "source": [
        "### 2.3 Feature Scaling (5 points)"
      ],
      "metadata": {
        "id": "iHOj3c5B7Bq8"
      }
    },
    {
      "cell_type": "markdown",
      "source": [
        "Run the following code cell to extract indices the data column (excluding the `value` column). The indices of the data column will be in the variable `input_cols`.\\\n",
        "Chạy đoạn code dưới đây. Sau khi hoàn thành, `input_cols` sẽ là 1 list lưu tên của những cột được dùng trong việc phát triển mô hình và đưa ra dự đoán."
      ],
      "metadata": {
        "id": "4AAjUeBQ768z"
      }
    },
    {
      "cell_type": "code",
      "source": [
        "# Exclude the value (target of prediction) column and select all numerical columns\n",
        "input_cols = train_df.drop(columns=['value']).select_dtypes(include='number').columns\n",
        "print(input_cols)\n",
        "train_df[input_cols].head()"
      ],
      "metadata": {
        "id": "hPbv3WgR7UL-",
        "colab": {
          "base_uri": "https://localhost:8080/",
          "height": 223
        },
        "outputId": "0603bf46-4970-4bdc-b67a-681e517505b4"
      },
      "execution_count": null,
      "outputs": [
        {
          "output_type": "stream",
          "name": "stdout",
          "text": [
            "Index(['MedInc', 'HouseAge', 'AveRooms', 'Population', 'AveOccup', 'Latitude'], dtype='object')\n"
          ]
        },
        {
          "output_type": "execute_result",
          "data": {
            "text/plain": [
              "   MedInc  HouseAge  AveRooms  Population  AveOccup  Latitude\n",
              "0  8.3252      41.0  6.984127       322.0  2.555556     37.88\n",
              "1  8.3014      21.0  6.238137      2401.0  2.109842     37.86\n",
              "2  7.2574      52.0  8.288136       496.0  2.802260     37.85\n",
              "3  5.6431      52.0  5.817352       558.0  2.547945     37.85\n",
              "4  3.8462      52.0  6.281853       565.0  2.181467     37.85"
            ],
            "text/html": [
              "\n",
              "  <div id=\"df-e245f315-8510-44cb-9b47-772e140d7e87\">\n",
              "    <div class=\"colab-df-container\">\n",
              "      <div>\n",
              "<style scoped>\n",
              "    .dataframe tbody tr th:only-of-type {\n",
              "        vertical-align: middle;\n",
              "    }\n",
              "\n",
              "    .dataframe tbody tr th {\n",
              "        vertical-align: top;\n",
              "    }\n",
              "\n",
              "    .dataframe thead th {\n",
              "        text-align: right;\n",
              "    }\n",
              "</style>\n",
              "<table border=\"1\" class=\"dataframe\">\n",
              "  <thead>\n",
              "    <tr style=\"text-align: right;\">\n",
              "      <th></th>\n",
              "      <th>MedInc</th>\n",
              "      <th>HouseAge</th>\n",
              "      <th>AveRooms</th>\n",
              "      <th>Population</th>\n",
              "      <th>AveOccup</th>\n",
              "      <th>Latitude</th>\n",
              "    </tr>\n",
              "  </thead>\n",
              "  <tbody>\n",
              "    <tr>\n",
              "      <th>0</th>\n",
              "      <td>8.3252</td>\n",
              "      <td>41.0</td>\n",
              "      <td>6.984127</td>\n",
              "      <td>322.0</td>\n",
              "      <td>2.555556</td>\n",
              "      <td>37.88</td>\n",
              "    </tr>\n",
              "    <tr>\n",
              "      <th>1</th>\n",
              "      <td>8.3014</td>\n",
              "      <td>21.0</td>\n",
              "      <td>6.238137</td>\n",
              "      <td>2401.0</td>\n",
              "      <td>2.109842</td>\n",
              "      <td>37.86</td>\n",
              "    </tr>\n",
              "    <tr>\n",
              "      <th>2</th>\n",
              "      <td>7.2574</td>\n",
              "      <td>52.0</td>\n",
              "      <td>8.288136</td>\n",
              "      <td>496.0</td>\n",
              "      <td>2.802260</td>\n",
              "      <td>37.85</td>\n",
              "    </tr>\n",
              "    <tr>\n",
              "      <th>3</th>\n",
              "      <td>5.6431</td>\n",
              "      <td>52.0</td>\n",
              "      <td>5.817352</td>\n",
              "      <td>558.0</td>\n",
              "      <td>2.547945</td>\n",
              "      <td>37.85</td>\n",
              "    </tr>\n",
              "    <tr>\n",
              "      <th>4</th>\n",
              "      <td>3.8462</td>\n",
              "      <td>52.0</td>\n",
              "      <td>6.281853</td>\n",
              "      <td>565.0</td>\n",
              "      <td>2.181467</td>\n",
              "      <td>37.85</td>\n",
              "    </tr>\n",
              "  </tbody>\n",
              "</table>\n",
              "</div>\n",
              "      <button class=\"colab-df-convert\" onclick=\"convertToInteractive('df-e245f315-8510-44cb-9b47-772e140d7e87')\"\n",
              "              title=\"Convert this dataframe to an interactive table.\"\n",
              "              style=\"display:none;\">\n",
              "        \n",
              "  <svg xmlns=\"http://www.w3.org/2000/svg\" height=\"24px\"viewBox=\"0 0 24 24\"\n",
              "       width=\"24px\">\n",
              "    <path d=\"M0 0h24v24H0V0z\" fill=\"none\"/>\n",
              "    <path d=\"M18.56 5.44l.94 2.06.94-2.06 2.06-.94-2.06-.94-.94-2.06-.94 2.06-2.06.94zm-11 1L8.5 8.5l.94-2.06 2.06-.94-2.06-.94L8.5 2.5l-.94 2.06-2.06.94zm10 10l.94 2.06.94-2.06 2.06-.94-2.06-.94-.94-2.06-.94 2.06-2.06.94z\"/><path d=\"M17.41 7.96l-1.37-1.37c-.4-.4-.92-.59-1.43-.59-.52 0-1.04.2-1.43.59L10.3 9.45l-7.72 7.72c-.78.78-.78 2.05 0 2.83L4 21.41c.39.39.9.59 1.41.59.51 0 1.02-.2 1.41-.59l7.78-7.78 2.81-2.81c.8-.78.8-2.07 0-2.86zM5.41 20L4 18.59l7.72-7.72 1.47 1.35L5.41 20z\"/>\n",
              "  </svg>\n",
              "      </button>\n",
              "      \n",
              "  <style>\n",
              "    .colab-df-container {\n",
              "      display:flex;\n",
              "      flex-wrap:wrap;\n",
              "      gap: 12px;\n",
              "    }\n",
              "\n",
              "    .colab-df-convert {\n",
              "      background-color: #E8F0FE;\n",
              "      border: none;\n",
              "      border-radius: 50%;\n",
              "      cursor: pointer;\n",
              "      display: none;\n",
              "      fill: #1967D2;\n",
              "      height: 32px;\n",
              "      padding: 0 0 0 0;\n",
              "      width: 32px;\n",
              "    }\n",
              "\n",
              "    .colab-df-convert:hover {\n",
              "      background-color: #E2EBFA;\n",
              "      box-shadow: 0px 1px 2px rgba(60, 64, 67, 0.3), 0px 1px 3px 1px rgba(60, 64, 67, 0.15);\n",
              "      fill: #174EA6;\n",
              "    }\n",
              "\n",
              "    [theme=dark] .colab-df-convert {\n",
              "      background-color: #3B4455;\n",
              "      fill: #D2E3FC;\n",
              "    }\n",
              "\n",
              "    [theme=dark] .colab-df-convert:hover {\n",
              "      background-color: #434B5C;\n",
              "      box-shadow: 0px 1px 3px 1px rgba(0, 0, 0, 0.15);\n",
              "      filter: drop-shadow(0px 1px 2px rgba(0, 0, 0, 0.3));\n",
              "      fill: #FFFFFF;\n",
              "    }\n",
              "  </style>\n",
              "\n",
              "      <script>\n",
              "        const buttonEl =\n",
              "          document.querySelector('#df-e245f315-8510-44cb-9b47-772e140d7e87 button.colab-df-convert');\n",
              "        buttonEl.style.display =\n",
              "          google.colab.kernel.accessAllowed ? 'block' : 'none';\n",
              "\n",
              "        async function convertToInteractive(key) {\n",
              "          const element = document.querySelector('#df-e245f315-8510-44cb-9b47-772e140d7e87');\n",
              "          const dataTable =\n",
              "            await google.colab.kernel.invokeFunction('convertToInteractive',\n",
              "                                                     [key], {});\n",
              "          if (!dataTable) return;\n",
              "\n",
              "          const docLinkHtml = 'Like what you see? Visit the ' +\n",
              "            '<a target=\"_blank\" href=https://colab.research.google.com/notebooks/data_table.ipynb>data table notebook</a>'\n",
              "            + ' to learn more about interactive tables.';\n",
              "          element.innerHTML = '';\n",
              "          dataTable['output_type'] = 'display_data';\n",
              "          await google.colab.output.renderOutput(dataTable, element);\n",
              "          const docLink = document.createElement('div');\n",
              "          docLink.innerHTML = docLinkHtml;\n",
              "          element.appendChild(docLink);\n",
              "        }\n",
              "      </script>\n",
              "    </div>\n",
              "  </div>\n",
              "  "
            ]
          },
          "metadata": {},
          "execution_count": 9
        }
      ]
    },
    {
      "cell_type": "markdown",
      "source": [
        "Complete the following code cell to Min-Max Scale the data (5 points).<br> \n",
        "Dùng Min-Max Scaler để scale các cột dữ liệu về cùng 1 khoảng giá trị 0-1.\\\n",
        "Requirements:\n",
        "- Define a MinMax Scaler (1 point). Gọi ra 1 MinMax Scaler.\n",
        "- Fit the scaler to our data and return the scaled data to `scaled_df` (2 points). NOTE: only fit the scaler to the input columns (excluding the 'value' column). Lưu ý: chỉ sử dụng `train_df[input_cols]`.\n",
        "- Scale the data by 1 line of code (1 point).\n",
        "- Describe the scaled data with count, mean, std, min,... (1 point)."
      ],
      "metadata": {
        "id": "2vADOMLT8Jjs"
      }
    },
    {
      "cell_type": "code",
      "source": [
        "train_df[input_cols]"
      ],
      "metadata": {
        "colab": {
          "base_uri": "https://localhost:8080/",
          "height": 424
        },
        "id": "PcGoQrqeaXSj",
        "outputId": "957cfc9b-89c4-4d9a-fd12-843f743308f2"
      },
      "execution_count": null,
      "outputs": [
        {
          "output_type": "execute_result",
          "data": {
            "text/plain": [
              "       MedInc  HouseAge  AveRooms  Population  AveOccup  Latitude\n",
              "0      8.3252      41.0  6.984127       322.0  2.555556     37.88\n",
              "1      8.3014      21.0  6.238137      2401.0  2.109842     37.86\n",
              "2      7.2574      52.0  8.288136       496.0  2.802260     37.85\n",
              "3      5.6431      52.0  5.817352       558.0  2.547945     37.85\n",
              "4      3.8462      52.0  6.281853       565.0  2.181467     37.85\n",
              "...       ...       ...       ...         ...       ...       ...\n",
              "20635  1.5603      25.0  5.045455       845.0  2.560606     39.48\n",
              "20636  2.5568      18.0  6.114035       356.0  3.122807     39.49\n",
              "20637  1.7000      17.0  5.205543      1007.0  2.325635     39.43\n",
              "20638  1.8672      18.0  5.329513       741.0  2.123209     39.43\n",
              "20639  2.3886      16.0  5.254717      1387.0  2.616981     39.37\n",
              "\n",
              "[20640 rows x 6 columns]"
            ],
            "text/html": [
              "\n",
              "  <div id=\"df-996403c9-3d34-4af9-80ae-61c367d9a074\">\n",
              "    <div class=\"colab-df-container\">\n",
              "      <div>\n",
              "<style scoped>\n",
              "    .dataframe tbody tr th:only-of-type {\n",
              "        vertical-align: middle;\n",
              "    }\n",
              "\n",
              "    .dataframe tbody tr th {\n",
              "        vertical-align: top;\n",
              "    }\n",
              "\n",
              "    .dataframe thead th {\n",
              "        text-align: right;\n",
              "    }\n",
              "</style>\n",
              "<table border=\"1\" class=\"dataframe\">\n",
              "  <thead>\n",
              "    <tr style=\"text-align: right;\">\n",
              "      <th></th>\n",
              "      <th>MedInc</th>\n",
              "      <th>HouseAge</th>\n",
              "      <th>AveRooms</th>\n",
              "      <th>Population</th>\n",
              "      <th>AveOccup</th>\n",
              "      <th>Latitude</th>\n",
              "    </tr>\n",
              "  </thead>\n",
              "  <tbody>\n",
              "    <tr>\n",
              "      <th>0</th>\n",
              "      <td>8.3252</td>\n",
              "      <td>41.0</td>\n",
              "      <td>6.984127</td>\n",
              "      <td>322.0</td>\n",
              "      <td>2.555556</td>\n",
              "      <td>37.88</td>\n",
              "    </tr>\n",
              "    <tr>\n",
              "      <th>1</th>\n",
              "      <td>8.3014</td>\n",
              "      <td>21.0</td>\n",
              "      <td>6.238137</td>\n",
              "      <td>2401.0</td>\n",
              "      <td>2.109842</td>\n",
              "      <td>37.86</td>\n",
              "    </tr>\n",
              "    <tr>\n",
              "      <th>2</th>\n",
              "      <td>7.2574</td>\n",
              "      <td>52.0</td>\n",
              "      <td>8.288136</td>\n",
              "      <td>496.0</td>\n",
              "      <td>2.802260</td>\n",
              "      <td>37.85</td>\n",
              "    </tr>\n",
              "    <tr>\n",
              "      <th>3</th>\n",
              "      <td>5.6431</td>\n",
              "      <td>52.0</td>\n",
              "      <td>5.817352</td>\n",
              "      <td>558.0</td>\n",
              "      <td>2.547945</td>\n",
              "      <td>37.85</td>\n",
              "    </tr>\n",
              "    <tr>\n",
              "      <th>4</th>\n",
              "      <td>3.8462</td>\n",
              "      <td>52.0</td>\n",
              "      <td>6.281853</td>\n",
              "      <td>565.0</td>\n",
              "      <td>2.181467</td>\n",
              "      <td>37.85</td>\n",
              "    </tr>\n",
              "    <tr>\n",
              "      <th>...</th>\n",
              "      <td>...</td>\n",
              "      <td>...</td>\n",
              "      <td>...</td>\n",
              "      <td>...</td>\n",
              "      <td>...</td>\n",
              "      <td>...</td>\n",
              "    </tr>\n",
              "    <tr>\n",
              "      <th>20635</th>\n",
              "      <td>1.5603</td>\n",
              "      <td>25.0</td>\n",
              "      <td>5.045455</td>\n",
              "      <td>845.0</td>\n",
              "      <td>2.560606</td>\n",
              "      <td>39.48</td>\n",
              "    </tr>\n",
              "    <tr>\n",
              "      <th>20636</th>\n",
              "      <td>2.5568</td>\n",
              "      <td>18.0</td>\n",
              "      <td>6.114035</td>\n",
              "      <td>356.0</td>\n",
              "      <td>3.122807</td>\n",
              "      <td>39.49</td>\n",
              "    </tr>\n",
              "    <tr>\n",
              "      <th>20637</th>\n",
              "      <td>1.7000</td>\n",
              "      <td>17.0</td>\n",
              "      <td>5.205543</td>\n",
              "      <td>1007.0</td>\n",
              "      <td>2.325635</td>\n",
              "      <td>39.43</td>\n",
              "    </tr>\n",
              "    <tr>\n",
              "      <th>20638</th>\n",
              "      <td>1.8672</td>\n",
              "      <td>18.0</td>\n",
              "      <td>5.329513</td>\n",
              "      <td>741.0</td>\n",
              "      <td>2.123209</td>\n",
              "      <td>39.43</td>\n",
              "    </tr>\n",
              "    <tr>\n",
              "      <th>20639</th>\n",
              "      <td>2.3886</td>\n",
              "      <td>16.0</td>\n",
              "      <td>5.254717</td>\n",
              "      <td>1387.0</td>\n",
              "      <td>2.616981</td>\n",
              "      <td>39.37</td>\n",
              "    </tr>\n",
              "  </tbody>\n",
              "</table>\n",
              "<p>20640 rows × 6 columns</p>\n",
              "</div>\n",
              "      <button class=\"colab-df-convert\" onclick=\"convertToInteractive('df-996403c9-3d34-4af9-80ae-61c367d9a074')\"\n",
              "              title=\"Convert this dataframe to an interactive table.\"\n",
              "              style=\"display:none;\">\n",
              "        \n",
              "  <svg xmlns=\"http://www.w3.org/2000/svg\" height=\"24px\"viewBox=\"0 0 24 24\"\n",
              "       width=\"24px\">\n",
              "    <path d=\"M0 0h24v24H0V0z\" fill=\"none\"/>\n",
              "    <path d=\"M18.56 5.44l.94 2.06.94-2.06 2.06-.94-2.06-.94-.94-2.06-.94 2.06-2.06.94zm-11 1L8.5 8.5l.94-2.06 2.06-.94-2.06-.94L8.5 2.5l-.94 2.06-2.06.94zm10 10l.94 2.06.94-2.06 2.06-.94-2.06-.94-.94-2.06-.94 2.06-2.06.94z\"/><path d=\"M17.41 7.96l-1.37-1.37c-.4-.4-.92-.59-1.43-.59-.52 0-1.04.2-1.43.59L10.3 9.45l-7.72 7.72c-.78.78-.78 2.05 0 2.83L4 21.41c.39.39.9.59 1.41.59.51 0 1.02-.2 1.41-.59l7.78-7.78 2.81-2.81c.8-.78.8-2.07 0-2.86zM5.41 20L4 18.59l7.72-7.72 1.47 1.35L5.41 20z\"/>\n",
              "  </svg>\n",
              "      </button>\n",
              "      \n",
              "  <style>\n",
              "    .colab-df-container {\n",
              "      display:flex;\n",
              "      flex-wrap:wrap;\n",
              "      gap: 12px;\n",
              "    }\n",
              "\n",
              "    .colab-df-convert {\n",
              "      background-color: #E8F0FE;\n",
              "      border: none;\n",
              "      border-radius: 50%;\n",
              "      cursor: pointer;\n",
              "      display: none;\n",
              "      fill: #1967D2;\n",
              "      height: 32px;\n",
              "      padding: 0 0 0 0;\n",
              "      width: 32px;\n",
              "    }\n",
              "\n",
              "    .colab-df-convert:hover {\n",
              "      background-color: #E2EBFA;\n",
              "      box-shadow: 0px 1px 2px rgba(60, 64, 67, 0.3), 0px 1px 3px 1px rgba(60, 64, 67, 0.15);\n",
              "      fill: #174EA6;\n",
              "    }\n",
              "\n",
              "    [theme=dark] .colab-df-convert {\n",
              "      background-color: #3B4455;\n",
              "      fill: #D2E3FC;\n",
              "    }\n",
              "\n",
              "    [theme=dark] .colab-df-convert:hover {\n",
              "      background-color: #434B5C;\n",
              "      box-shadow: 0px 1px 3px 1px rgba(0, 0, 0, 0.15);\n",
              "      filter: drop-shadow(0px 1px 2px rgba(0, 0, 0, 0.3));\n",
              "      fill: #FFFFFF;\n",
              "    }\n",
              "  </style>\n",
              "\n",
              "      <script>\n",
              "        const buttonEl =\n",
              "          document.querySelector('#df-996403c9-3d34-4af9-80ae-61c367d9a074 button.colab-df-convert');\n",
              "        buttonEl.style.display =\n",
              "          google.colab.kernel.accessAllowed ? 'block' : 'none';\n",
              "\n",
              "        async function convertToInteractive(key) {\n",
              "          const element = document.querySelector('#df-996403c9-3d34-4af9-80ae-61c367d9a074');\n",
              "          const dataTable =\n",
              "            await google.colab.kernel.invokeFunction('convertToInteractive',\n",
              "                                                     [key], {});\n",
              "          if (!dataTable) return;\n",
              "\n",
              "          const docLinkHtml = 'Like what you see? Visit the ' +\n",
              "            '<a target=\"_blank\" href=https://colab.research.google.com/notebooks/data_table.ipynb>data table notebook</a>'\n",
              "            + ' to learn more about interactive tables.';\n",
              "          element.innerHTML = '';\n",
              "          dataTable['output_type'] = 'display_data';\n",
              "          await google.colab.output.renderOutput(dataTable, element);\n",
              "          const docLink = document.createElement('div');\n",
              "          docLink.innerHTML = docLinkHtml;\n",
              "          element.appendChild(docLink);\n",
              "        }\n",
              "      </script>\n",
              "    </div>\n",
              "  </div>\n",
              "  "
            ]
          },
          "metadata": {},
          "execution_count": 10
        }
      ]
    },
    {
      "cell_type": "code",
      "source": [
        "# Define a MinMax Scaler (1 point)\n",
        "scaler = MinMaxScaler()\n",
        "\n",
        "# Fit the scaler to our data and return the scaled data into 'scaled_df' (2 points). NOTE: only fit to the input columns (excluding the 'value' column).\n",
        "scaled_df = scaler.fit_transform(train_df[input_cols])\n",
        "\n",
        "# scale our data (1 point)\n",
        "train_df[input_cols] = scaled_df\n",
        "\n",
        "# describe the scaled data with count, mean, std, min,... (1 point)\n",
        "train_df.describe()"
      ],
      "metadata": {
        "id": "baQnPpLc8PT3",
        "colab": {
          "base_uri": "https://localhost:8080/",
          "height": 300
        },
        "outputId": "8d9af66d-deb1-421c-eb42-c24bcc7bb882"
      },
      "execution_count": null,
      "outputs": [
        {
          "output_type": "execute_result",
          "data": {
            "text/plain": [
              "             MedInc      HouseAge      AveRooms    Population      AveOccup  \\\n",
              "count  20640.000000  20640.000000  20640.000000  20640.000000  20640.000000   \n",
              "mean       0.232464      0.541951      0.032488      0.039869      0.001914   \n",
              "std        0.131020      0.246776      0.017539      0.031740      0.008358   \n",
              "min        0.000000      0.000000      0.000000      0.000000      0.000000   \n",
              "25%        0.142308      0.333333      0.025482      0.021974      0.001398   \n",
              "50%        0.209301      0.549020      0.031071      0.032596      0.001711   \n",
              "75%        0.292641      0.705882      0.036907      0.048264      0.002084   \n",
              "max        1.000000      1.000000      1.000000      1.000000      1.000000   \n",
              "\n",
              "           Latitude         value  \n",
              "count  20640.000000  20640.000000  \n",
              "mean       0.328572      2.068558  \n",
              "std        0.226988      1.153956  \n",
              "min        0.000000      0.149990  \n",
              "25%        0.147715      1.196000  \n",
              "50%        0.182784      1.797000  \n",
              "75%        0.549416      2.647250  \n",
              "max        1.000000      5.000010  "
            ],
            "text/html": [
              "\n",
              "  <div id=\"df-ff8762e0-7cc4-4026-90e2-07ec24b4711c\">\n",
              "    <div class=\"colab-df-container\">\n",
              "      <div>\n",
              "<style scoped>\n",
              "    .dataframe tbody tr th:only-of-type {\n",
              "        vertical-align: middle;\n",
              "    }\n",
              "\n",
              "    .dataframe tbody tr th {\n",
              "        vertical-align: top;\n",
              "    }\n",
              "\n",
              "    .dataframe thead th {\n",
              "        text-align: right;\n",
              "    }\n",
              "</style>\n",
              "<table border=\"1\" class=\"dataframe\">\n",
              "  <thead>\n",
              "    <tr style=\"text-align: right;\">\n",
              "      <th></th>\n",
              "      <th>MedInc</th>\n",
              "      <th>HouseAge</th>\n",
              "      <th>AveRooms</th>\n",
              "      <th>Population</th>\n",
              "      <th>AveOccup</th>\n",
              "      <th>Latitude</th>\n",
              "      <th>value</th>\n",
              "    </tr>\n",
              "  </thead>\n",
              "  <tbody>\n",
              "    <tr>\n",
              "      <th>count</th>\n",
              "      <td>20640.000000</td>\n",
              "      <td>20640.000000</td>\n",
              "      <td>20640.000000</td>\n",
              "      <td>20640.000000</td>\n",
              "      <td>20640.000000</td>\n",
              "      <td>20640.000000</td>\n",
              "      <td>20640.000000</td>\n",
              "    </tr>\n",
              "    <tr>\n",
              "      <th>mean</th>\n",
              "      <td>0.232464</td>\n",
              "      <td>0.541951</td>\n",
              "      <td>0.032488</td>\n",
              "      <td>0.039869</td>\n",
              "      <td>0.001914</td>\n",
              "      <td>0.328572</td>\n",
              "      <td>2.068558</td>\n",
              "    </tr>\n",
              "    <tr>\n",
              "      <th>std</th>\n",
              "      <td>0.131020</td>\n",
              "      <td>0.246776</td>\n",
              "      <td>0.017539</td>\n",
              "      <td>0.031740</td>\n",
              "      <td>0.008358</td>\n",
              "      <td>0.226988</td>\n",
              "      <td>1.153956</td>\n",
              "    </tr>\n",
              "    <tr>\n",
              "      <th>min</th>\n",
              "      <td>0.000000</td>\n",
              "      <td>0.000000</td>\n",
              "      <td>0.000000</td>\n",
              "      <td>0.000000</td>\n",
              "      <td>0.000000</td>\n",
              "      <td>0.000000</td>\n",
              "      <td>0.149990</td>\n",
              "    </tr>\n",
              "    <tr>\n",
              "      <th>25%</th>\n",
              "      <td>0.142308</td>\n",
              "      <td>0.333333</td>\n",
              "      <td>0.025482</td>\n",
              "      <td>0.021974</td>\n",
              "      <td>0.001398</td>\n",
              "      <td>0.147715</td>\n",
              "      <td>1.196000</td>\n",
              "    </tr>\n",
              "    <tr>\n",
              "      <th>50%</th>\n",
              "      <td>0.209301</td>\n",
              "      <td>0.549020</td>\n",
              "      <td>0.031071</td>\n",
              "      <td>0.032596</td>\n",
              "      <td>0.001711</td>\n",
              "      <td>0.182784</td>\n",
              "      <td>1.797000</td>\n",
              "    </tr>\n",
              "    <tr>\n",
              "      <th>75%</th>\n",
              "      <td>0.292641</td>\n",
              "      <td>0.705882</td>\n",
              "      <td>0.036907</td>\n",
              "      <td>0.048264</td>\n",
              "      <td>0.002084</td>\n",
              "      <td>0.549416</td>\n",
              "      <td>2.647250</td>\n",
              "    </tr>\n",
              "    <tr>\n",
              "      <th>max</th>\n",
              "      <td>1.000000</td>\n",
              "      <td>1.000000</td>\n",
              "      <td>1.000000</td>\n",
              "      <td>1.000000</td>\n",
              "      <td>1.000000</td>\n",
              "      <td>1.000000</td>\n",
              "      <td>5.000010</td>\n",
              "    </tr>\n",
              "  </tbody>\n",
              "</table>\n",
              "</div>\n",
              "      <button class=\"colab-df-convert\" onclick=\"convertToInteractive('df-ff8762e0-7cc4-4026-90e2-07ec24b4711c')\"\n",
              "              title=\"Convert this dataframe to an interactive table.\"\n",
              "              style=\"display:none;\">\n",
              "        \n",
              "  <svg xmlns=\"http://www.w3.org/2000/svg\" height=\"24px\"viewBox=\"0 0 24 24\"\n",
              "       width=\"24px\">\n",
              "    <path d=\"M0 0h24v24H0V0z\" fill=\"none\"/>\n",
              "    <path d=\"M18.56 5.44l.94 2.06.94-2.06 2.06-.94-2.06-.94-.94-2.06-.94 2.06-2.06.94zm-11 1L8.5 8.5l.94-2.06 2.06-.94-2.06-.94L8.5 2.5l-.94 2.06-2.06.94zm10 10l.94 2.06.94-2.06 2.06-.94-2.06-.94-.94-2.06-.94 2.06-2.06.94z\"/><path d=\"M17.41 7.96l-1.37-1.37c-.4-.4-.92-.59-1.43-.59-.52 0-1.04.2-1.43.59L10.3 9.45l-7.72 7.72c-.78.78-.78 2.05 0 2.83L4 21.41c.39.39.9.59 1.41.59.51 0 1.02-.2 1.41-.59l7.78-7.78 2.81-2.81c.8-.78.8-2.07 0-2.86zM5.41 20L4 18.59l7.72-7.72 1.47 1.35L5.41 20z\"/>\n",
              "  </svg>\n",
              "      </button>\n",
              "      \n",
              "  <style>\n",
              "    .colab-df-container {\n",
              "      display:flex;\n",
              "      flex-wrap:wrap;\n",
              "      gap: 12px;\n",
              "    }\n",
              "\n",
              "    .colab-df-convert {\n",
              "      background-color: #E8F0FE;\n",
              "      border: none;\n",
              "      border-radius: 50%;\n",
              "      cursor: pointer;\n",
              "      display: none;\n",
              "      fill: #1967D2;\n",
              "      height: 32px;\n",
              "      padding: 0 0 0 0;\n",
              "      width: 32px;\n",
              "    }\n",
              "\n",
              "    .colab-df-convert:hover {\n",
              "      background-color: #E2EBFA;\n",
              "      box-shadow: 0px 1px 2px rgba(60, 64, 67, 0.3), 0px 1px 3px 1px rgba(60, 64, 67, 0.15);\n",
              "      fill: #174EA6;\n",
              "    }\n",
              "\n",
              "    [theme=dark] .colab-df-convert {\n",
              "      background-color: #3B4455;\n",
              "      fill: #D2E3FC;\n",
              "    }\n",
              "\n",
              "    [theme=dark] .colab-df-convert:hover {\n",
              "      background-color: #434B5C;\n",
              "      box-shadow: 0px 1px 3px 1px rgba(0, 0, 0, 0.15);\n",
              "      filter: drop-shadow(0px 1px 2px rgba(0, 0, 0, 0.3));\n",
              "      fill: #FFFFFF;\n",
              "    }\n",
              "  </style>\n",
              "\n",
              "      <script>\n",
              "        const buttonEl =\n",
              "          document.querySelector('#df-ff8762e0-7cc4-4026-90e2-07ec24b4711c button.colab-df-convert');\n",
              "        buttonEl.style.display =\n",
              "          google.colab.kernel.accessAllowed ? 'block' : 'none';\n",
              "\n",
              "        async function convertToInteractive(key) {\n",
              "          const element = document.querySelector('#df-ff8762e0-7cc4-4026-90e2-07ec24b4711c');\n",
              "          const dataTable =\n",
              "            await google.colab.kernel.invokeFunction('convertToInteractive',\n",
              "                                                     [key], {});\n",
              "          if (!dataTable) return;\n",
              "\n",
              "          const docLinkHtml = 'Like what you see? Visit the ' +\n",
              "            '<a target=\"_blank\" href=https://colab.research.google.com/notebooks/data_table.ipynb>data table notebook</a>'\n",
              "            + ' to learn more about interactive tables.';\n",
              "          element.innerHTML = '';\n",
              "          dataTable['output_type'] = 'display_data';\n",
              "          await google.colab.output.renderOutput(dataTable, element);\n",
              "          const docLink = document.createElement('div');\n",
              "          docLink.innerHTML = docLinkHtml;\n",
              "          element.appendChild(docLink);\n",
              "        }\n",
              "      </script>\n",
              "    </div>\n",
              "  </div>\n",
              "  "
            ]
          },
          "metadata": {},
          "execution_count": 11
        }
      ]
    },
    {
      "cell_type": "markdown",
      "source": [
        "### 2.4 Train-Test Split (5 points)"
      ],
      "metadata": {
        "id": "eLuVvbt-7E1R"
      }
    },
    {
      "cell_type": "markdown",
      "source": [
        "Requirements:\n",
        "- Split the data into `X_train, y_train, X_test, y_test` with the defined `test_size_ratio` (5 points).\\\n",
        "Chia dữ liệu thành 1 tập train-test với tỷ lệ 80-20. Lưu ý là `X_train` và `X_test` không được chứa cột `value`."
      ],
      "metadata": {
        "id": "SRHdpQCxA3bq"
      }
    },
    {
      "cell_type": "code",
      "source": [
        "# Split the data into X_train, X_test, y_train, and y_test with the defined test_size_ratio (5 points). NOTE: X_train and X_test only contain the input columns, NOT the 'value' column.\n",
        "test_size_ratio=0.2\n",
        "X_train, X_test, y_train, y_test = train_test_split(train_df.drop(columns=['value']), train_df.value, \n",
        "                                                    test_size=test_size_ratio,random_state=1)"
      ],
      "metadata": {
        "id": "zMsE7i-67IJi"
      },
      "execution_count": null,
      "outputs": []
    },
    {
      "cell_type": "markdown",
      "source": [
        "Run the following code cell to print the shape of `X_train, y_train, X_test, y_test`.\\\n",
        "In ra kích thước của các tập dữ liệu vừa chia.\n",
        "\n"
      ],
      "metadata": {
        "id": "g5wpsJaXAuPo"
      }
    },
    {
      "cell_type": "code",
      "source": [
        "print(\"X_train.shape:\", X_train.shape)\n",
        "print(\"y_train.shape:\", y_train.shape)\n",
        "print(\"X_test.shape:\", X_test.shape)\n",
        "print(\"y_test.shape:\", y_test.shape)"
      ],
      "metadata": {
        "id": "pa8IvYA1Aktv",
        "colab": {
          "base_uri": "https://localhost:8080/"
        },
        "outputId": "83cf139c-b443-475a-9bf4-c95a10d0e389"
      },
      "execution_count": null,
      "outputs": [
        {
          "output_type": "stream",
          "name": "stdout",
          "text": [
            "X_train.shape: (16512, 6)\n",
            "y_train.shape: (16512,)\n",
            "X_test.shape: (4128, 6)\n",
            "y_test.shape: (4128,)\n"
          ]
        }
      ]
    },
    {
      "cell_type": "markdown",
      "source": [
        "## 3. Linear Regression with scikit-learn (15 points)"
      ],
      "metadata": {
        "id": "g_ZSDK89BhQS"
      }
    },
    {
      "cell_type": "markdown",
      "source": [
        "### 3.1 Basic (10 points)"
      ],
      "metadata": {
        "id": "S2X5oAhJsM7W"
      }
    },
    {
      "cell_type": "markdown",
      "source": [
        "Requirements:\n",
        "- Train a linear regression model on the train set.\\\n",
        "Dùng linear regression để học dữ liệu train."
      ],
      "metadata": {
        "id": "UwRw1EHJIf75"
      }
    },
    {
      "cell_type": "code",
      "source": [
        "reg_model=LinearRegression().fit(X_train,y_train)"
      ],
      "metadata": {
        "id": "fW6mKqMyG5EG"
      },
      "execution_count": null,
      "outputs": []
    },
    {
      "cell_type": "markdown",
      "source": [
        "Requirements:\n",
        "- Use the trained linear regression model to make predictions on the test set.\\\n",
        "Dùng mô hình linear regression vừa mới trained để dự đoán trên tập test."
      ],
      "metadata": {
        "id": "_PtuplQzqwVE"
      }
    },
    {
      "cell_type": "code",
      "source": [
        "y_pred=reg_model.predict(X_test)"
      ],
      "metadata": {
        "id": "OjkrF0G0qa8p"
      },
      "execution_count": null,
      "outputs": []
    },
    {
      "cell_type": "markdown",
      "source": [
        "Requirements:\n",
        "- Print the R-squared and Root Mean Squared Error.\\\n",
        "Đánh giá mô hình với 2 tiêu chí là R-squared và Root Mean Squared Error và in ra."
      ],
      "metadata": {
        "id": "wZyvtCtBpX-y"
      }
    },
    {
      "cell_type": "code",
      "source": [
        "# Evaluation on Test set\n",
        "# Print R-squared (1 point)\n",
        "print(f'R-squared = {r2_score(y_test,y_pred):.4f}')\n",
        "# Print Mean Squared Error (1 point)\n",
        "print(f'MSE       = {mean_squared_error(y_test,y_pred):.2f}')\n",
        "\n",
        "\n",
        "reg_r2 = r2_score(y_test,y_pred)\n",
        "reg_mse= mean_squared_error(y_test,y_pred)"
      ],
      "metadata": {
        "id": "RBlyQJroowot",
        "colab": {
          "base_uri": "https://localhost:8080/"
        },
        "outputId": "3fea5bce-053c-421f-c854-019d33385051"
      },
      "execution_count": null,
      "outputs": [
        {
          "output_type": "stream",
          "name": "stdout",
          "text": [
            "R-squared = 0.5167\n",
            "MSE       = 0.63\n"
          ]
        }
      ]
    },
    {
      "cell_type": "markdown",
      "source": [
        "### 3.2 Variance Inflation Factor (5 poitns)"
      ],
      "metadata": {
        "id": "ROhMc572tWgb"
      }
    },
    {
      "cell_type": "markdown",
      "source": [
        "Requirements:\n",
        "- Complete the following code cell so that `vif[\"VIF Factor\"]` will be the VIF of EACH column of `X_train`.\\\n",
        "Hoàn thành đoạn code để `vif[\"VIF Factor\"]` sẽ là Variance Inflation Factor của các cột trong `X_train`.\n",
        "\n",
        "\n"
      ],
      "metadata": {
        "id": "9NGfppuUIukk"
      }
    },
    {
      "cell_type": "code",
      "source": [
        "vif = pd.DataFrame()\n",
        "# Complete the following line so that 'vif[\"VIF Factor\"]' will be a column of VIF of each column of X_train.\n",
        "vif[\"VIF Factor\"] = [variance_inflation_factor(X_train.values, i) for i in range(X_train.shape[1])]\n",
        "\n",
        "vif[\"features\"] = X_train.columns\n",
        "vif"
      ],
      "metadata": {
        "id": "Rl4p76hLIQy3",
        "colab": {
          "base_uri": "https://localhost:8080/",
          "height": 237
        },
        "outputId": "3e1b50ac-270e-470c-abc8-72ec9190f76b"
      },
      "execution_count": null,
      "outputs": [
        {
          "output_type": "execute_result",
          "data": {
            "text/plain": [
              "   VIF Factor    features\n",
              "0    4.084838      MedInc\n",
              "1    3.291107    HouseAge\n",
              "2    4.139080    AveRooms\n",
              "3    2.097812  Population\n",
              "4    1.051249    AveOccup\n",
              "5    2.795096    Latitude"
            ],
            "text/html": [
              "\n",
              "  <div id=\"df-bc40b2fa-ca3a-4346-9295-4638b02d50e9\">\n",
              "    <div class=\"colab-df-container\">\n",
              "      <div>\n",
              "<style scoped>\n",
              "    .dataframe tbody tr th:only-of-type {\n",
              "        vertical-align: middle;\n",
              "    }\n",
              "\n",
              "    .dataframe tbody tr th {\n",
              "        vertical-align: top;\n",
              "    }\n",
              "\n",
              "    .dataframe thead th {\n",
              "        text-align: right;\n",
              "    }\n",
              "</style>\n",
              "<table border=\"1\" class=\"dataframe\">\n",
              "  <thead>\n",
              "    <tr style=\"text-align: right;\">\n",
              "      <th></th>\n",
              "      <th>VIF Factor</th>\n",
              "      <th>features</th>\n",
              "    </tr>\n",
              "  </thead>\n",
              "  <tbody>\n",
              "    <tr>\n",
              "      <th>0</th>\n",
              "      <td>4.084838</td>\n",
              "      <td>MedInc</td>\n",
              "    </tr>\n",
              "    <tr>\n",
              "      <th>1</th>\n",
              "      <td>3.291107</td>\n",
              "      <td>HouseAge</td>\n",
              "    </tr>\n",
              "    <tr>\n",
              "      <th>2</th>\n",
              "      <td>4.139080</td>\n",
              "      <td>AveRooms</td>\n",
              "    </tr>\n",
              "    <tr>\n",
              "      <th>3</th>\n",
              "      <td>2.097812</td>\n",
              "      <td>Population</td>\n",
              "    </tr>\n",
              "    <tr>\n",
              "      <th>4</th>\n",
              "      <td>1.051249</td>\n",
              "      <td>AveOccup</td>\n",
              "    </tr>\n",
              "    <tr>\n",
              "      <th>5</th>\n",
              "      <td>2.795096</td>\n",
              "      <td>Latitude</td>\n",
              "    </tr>\n",
              "  </tbody>\n",
              "</table>\n",
              "</div>\n",
              "      <button class=\"colab-df-convert\" onclick=\"convertToInteractive('df-bc40b2fa-ca3a-4346-9295-4638b02d50e9')\"\n",
              "              title=\"Convert this dataframe to an interactive table.\"\n",
              "              style=\"display:none;\">\n",
              "        \n",
              "  <svg xmlns=\"http://www.w3.org/2000/svg\" height=\"24px\"viewBox=\"0 0 24 24\"\n",
              "       width=\"24px\">\n",
              "    <path d=\"M0 0h24v24H0V0z\" fill=\"none\"/>\n",
              "    <path d=\"M18.56 5.44l.94 2.06.94-2.06 2.06-.94-2.06-.94-.94-2.06-.94 2.06-2.06.94zm-11 1L8.5 8.5l.94-2.06 2.06-.94-2.06-.94L8.5 2.5l-.94 2.06-2.06.94zm10 10l.94 2.06.94-2.06 2.06-.94-2.06-.94-.94-2.06-.94 2.06-2.06.94z\"/><path d=\"M17.41 7.96l-1.37-1.37c-.4-.4-.92-.59-1.43-.59-.52 0-1.04.2-1.43.59L10.3 9.45l-7.72 7.72c-.78.78-.78 2.05 0 2.83L4 21.41c.39.39.9.59 1.41.59.51 0 1.02-.2 1.41-.59l7.78-7.78 2.81-2.81c.8-.78.8-2.07 0-2.86zM5.41 20L4 18.59l7.72-7.72 1.47 1.35L5.41 20z\"/>\n",
              "  </svg>\n",
              "      </button>\n",
              "      \n",
              "  <style>\n",
              "    .colab-df-container {\n",
              "      display:flex;\n",
              "      flex-wrap:wrap;\n",
              "      gap: 12px;\n",
              "    }\n",
              "\n",
              "    .colab-df-convert {\n",
              "      background-color: #E8F0FE;\n",
              "      border: none;\n",
              "      border-radius: 50%;\n",
              "      cursor: pointer;\n",
              "      display: none;\n",
              "      fill: #1967D2;\n",
              "      height: 32px;\n",
              "      padding: 0 0 0 0;\n",
              "      width: 32px;\n",
              "    }\n",
              "\n",
              "    .colab-df-convert:hover {\n",
              "      background-color: #E2EBFA;\n",
              "      box-shadow: 0px 1px 2px rgba(60, 64, 67, 0.3), 0px 1px 3px 1px rgba(60, 64, 67, 0.15);\n",
              "      fill: #174EA6;\n",
              "    }\n",
              "\n",
              "    [theme=dark] .colab-df-convert {\n",
              "      background-color: #3B4455;\n",
              "      fill: #D2E3FC;\n",
              "    }\n",
              "\n",
              "    [theme=dark] .colab-df-convert:hover {\n",
              "      background-color: #434B5C;\n",
              "      box-shadow: 0px 1px 3px 1px rgba(0, 0, 0, 0.15);\n",
              "      filter: drop-shadow(0px 1px 2px rgba(0, 0, 0, 0.3));\n",
              "      fill: #FFFFFF;\n",
              "    }\n",
              "  </style>\n",
              "\n",
              "      <script>\n",
              "        const buttonEl =\n",
              "          document.querySelector('#df-bc40b2fa-ca3a-4346-9295-4638b02d50e9 button.colab-df-convert');\n",
              "        buttonEl.style.display =\n",
              "          google.colab.kernel.accessAllowed ? 'block' : 'none';\n",
              "\n",
              "        async function convertToInteractive(key) {\n",
              "          const element = document.querySelector('#df-bc40b2fa-ca3a-4346-9295-4638b02d50e9');\n",
              "          const dataTable =\n",
              "            await google.colab.kernel.invokeFunction('convertToInteractive',\n",
              "                                                     [key], {});\n",
              "          if (!dataTable) return;\n",
              "\n",
              "          const docLinkHtml = 'Like what you see? Visit the ' +\n",
              "            '<a target=\"_blank\" href=https://colab.research.google.com/notebooks/data_table.ipynb>data table notebook</a>'\n",
              "            + ' to learn more about interactive tables.';\n",
              "          element.innerHTML = '';\n",
              "          dataTable['output_type'] = 'display_data';\n",
              "          await google.colab.output.renderOutput(dataTable, element);\n",
              "          const docLink = document.createElement('div');\n",
              "          docLink.innerHTML = docLinkHtml;\n",
              "          element.appendChild(docLink);\n",
              "        }\n",
              "      </script>\n",
              "    </div>\n",
              "  </div>\n",
              "  "
            ]
          },
          "metadata": {},
          "execution_count": 17
        }
      ]
    },
    {
      "cell_type": "markdown",
      "source": [
        "Requirements:\n",
        "- Repeat the whole Linear Regression training, prediction, and evaluation process with only the input columns associated with VIF < 10. (2 points)\\\n",
        "Lặp lại quá trình chia tập train-set, train mô hình, dự đoán, và đánh giá mô hình Linear Regression. Tuy nhiên, chỉ sử dụng những cột input có VIF < 10."
      ],
      "metadata": {
        "id": "sPsAHQf_JK2t"
      }
    },
    {
      "cell_type": "code",
      "source": [
        "# selected_cols: the columns having VIF < 10.\n",
        "vif_threshold = 10\n",
        "input_cols_vif = vif[vif['VIF Factor']<vif_threshold].features\n",
        "selected_cols  = input_cols[input_cols.isin(input_cols_vif)]\n",
        "\n",
        "\n",
        "# Split the data into X_train, X_test, y_train, and y_test with the defined test_size_ratio. NOTE: X_train and X_test only contain the selected columns.\n",
        "# YOUR CODE HERE\n",
        "#Scale\n",
        "train_df[selected_cols] = MinMaxScaler().fit_transform(train_df[selected_cols])\n",
        "\n",
        "#Split\n",
        "test_size_ratio=0.2\n",
        "X_train, X_test, y_train, y_test= train_test_split(train_df[selected_cols],train_df.value,\n",
        "                                                   test_size=test_size_ratio,random_state=1)\n",
        "\n",
        "# Train the model on the train set & Predict on the test set\n",
        "reg_model_vif = LinearRegression().fit(X_train,y_train)\n",
        "y_pred = reg_model_vif.predict(X_test)\n",
        "\n",
        "# Evaluation on Test set: R-squared and Root Mean Squared Error.\n",
        "reg_vif_r2 = r2_score(y_test,y_pred)\n",
        "reg_vif_MSE = mean_squared_error(y_test,y_pred)\n",
        "# Print R-squared\n",
        "print(f'R-squared = {r2_score(y_test,y_pred):.4f}')\n",
        "# Print Root Mean Squared Error\n",
        "print(f'MSE = {mean_squared_error(y_test,y_pred):.4f}')\n"
      ],
      "metadata": {
        "id": "5MT_VhBYJkvk",
        "colab": {
          "base_uri": "https://localhost:8080/"
        },
        "outputId": "537345fc-ab51-490a-ee14-1e911eb2fc86"
      },
      "execution_count": null,
      "outputs": [
        {
          "output_type": "stream",
          "name": "stdout",
          "text": [
            "R-squared = 0.5167\n",
            "MSE = 0.6339\n"
          ]
        }
      ]
    },
    {
      "cell_type": "markdown",
      "source": [
        "Requirements:\n",
        "- What do you think about this performance?\\\n",
        "Bạn đánh giá thế nào về kết quả này? Tại sao lại như vậy?"
      ],
      "metadata": {
        "id": "q24BKB8fKn1s"
      }
    },
    {
      "cell_type": "code",
      "source": [
        "## YOUR ANSWER HERE ##\n",
        "reg_metric=list(zip(['Reg', 'Reg_VIF'],[reg_r2,reg_vif_r2],[reg_mse, reg_vif_MSE]))\n",
        "pd.DataFrame(reg_metric, columns=['Model','R2','MSE'])"
      ],
      "metadata": {
        "id": "YbT3srByues0",
        "colab": {
          "base_uri": "https://localhost:8080/",
          "height": 112
        },
        "outputId": "c0da574a-65c6-4d5f-8131-f3fead2158b8"
      },
      "execution_count": null,
      "outputs": [
        {
          "output_type": "execute_result",
          "data": {
            "text/plain": [
              "     Model        R2       MSE\n",
              "0      Reg  0.516699  0.633941\n",
              "1  Reg_VIF  0.516699  0.633941"
            ],
            "text/html": [
              "\n",
              "  <div id=\"df-bf0fcffe-b4a4-4a6e-b6b2-1c4931254240\">\n",
              "    <div class=\"colab-df-container\">\n",
              "      <div>\n",
              "<style scoped>\n",
              "    .dataframe tbody tr th:only-of-type {\n",
              "        vertical-align: middle;\n",
              "    }\n",
              "\n",
              "    .dataframe tbody tr th {\n",
              "        vertical-align: top;\n",
              "    }\n",
              "\n",
              "    .dataframe thead th {\n",
              "        text-align: right;\n",
              "    }\n",
              "</style>\n",
              "<table border=\"1\" class=\"dataframe\">\n",
              "  <thead>\n",
              "    <tr style=\"text-align: right;\">\n",
              "      <th></th>\n",
              "      <th>Model</th>\n",
              "      <th>R2</th>\n",
              "      <th>MSE</th>\n",
              "    </tr>\n",
              "  </thead>\n",
              "  <tbody>\n",
              "    <tr>\n",
              "      <th>0</th>\n",
              "      <td>Reg</td>\n",
              "      <td>0.516699</td>\n",
              "      <td>0.633941</td>\n",
              "    </tr>\n",
              "    <tr>\n",
              "      <th>1</th>\n",
              "      <td>Reg_VIF</td>\n",
              "      <td>0.516699</td>\n",
              "      <td>0.633941</td>\n",
              "    </tr>\n",
              "  </tbody>\n",
              "</table>\n",
              "</div>\n",
              "      <button class=\"colab-df-convert\" onclick=\"convertToInteractive('df-bf0fcffe-b4a4-4a6e-b6b2-1c4931254240')\"\n",
              "              title=\"Convert this dataframe to an interactive table.\"\n",
              "              style=\"display:none;\">\n",
              "        \n",
              "  <svg xmlns=\"http://www.w3.org/2000/svg\" height=\"24px\"viewBox=\"0 0 24 24\"\n",
              "       width=\"24px\">\n",
              "    <path d=\"M0 0h24v24H0V0z\" fill=\"none\"/>\n",
              "    <path d=\"M18.56 5.44l.94 2.06.94-2.06 2.06-.94-2.06-.94-.94-2.06-.94 2.06-2.06.94zm-11 1L8.5 8.5l.94-2.06 2.06-.94-2.06-.94L8.5 2.5l-.94 2.06-2.06.94zm10 10l.94 2.06.94-2.06 2.06-.94-2.06-.94-.94-2.06-.94 2.06-2.06.94z\"/><path d=\"M17.41 7.96l-1.37-1.37c-.4-.4-.92-.59-1.43-.59-.52 0-1.04.2-1.43.59L10.3 9.45l-7.72 7.72c-.78.78-.78 2.05 0 2.83L4 21.41c.39.39.9.59 1.41.59.51 0 1.02-.2 1.41-.59l7.78-7.78 2.81-2.81c.8-.78.8-2.07 0-2.86zM5.41 20L4 18.59l7.72-7.72 1.47 1.35L5.41 20z\"/>\n",
              "  </svg>\n",
              "      </button>\n",
              "      \n",
              "  <style>\n",
              "    .colab-df-container {\n",
              "      display:flex;\n",
              "      flex-wrap:wrap;\n",
              "      gap: 12px;\n",
              "    }\n",
              "\n",
              "    .colab-df-convert {\n",
              "      background-color: #E8F0FE;\n",
              "      border: none;\n",
              "      border-radius: 50%;\n",
              "      cursor: pointer;\n",
              "      display: none;\n",
              "      fill: #1967D2;\n",
              "      height: 32px;\n",
              "      padding: 0 0 0 0;\n",
              "      width: 32px;\n",
              "    }\n",
              "\n",
              "    .colab-df-convert:hover {\n",
              "      background-color: #E2EBFA;\n",
              "      box-shadow: 0px 1px 2px rgba(60, 64, 67, 0.3), 0px 1px 3px 1px rgba(60, 64, 67, 0.15);\n",
              "      fill: #174EA6;\n",
              "    }\n",
              "\n",
              "    [theme=dark] .colab-df-convert {\n",
              "      background-color: #3B4455;\n",
              "      fill: #D2E3FC;\n",
              "    }\n",
              "\n",
              "    [theme=dark] .colab-df-convert:hover {\n",
              "      background-color: #434B5C;\n",
              "      box-shadow: 0px 1px 3px 1px rgba(0, 0, 0, 0.15);\n",
              "      filter: drop-shadow(0px 1px 2px rgba(0, 0, 0, 0.3));\n",
              "      fill: #FFFFFF;\n",
              "    }\n",
              "  </style>\n",
              "\n",
              "      <script>\n",
              "        const buttonEl =\n",
              "          document.querySelector('#df-bf0fcffe-b4a4-4a6e-b6b2-1c4931254240 button.colab-df-convert');\n",
              "        buttonEl.style.display =\n",
              "          google.colab.kernel.accessAllowed ? 'block' : 'none';\n",
              "\n",
              "        async function convertToInteractive(key) {\n",
              "          const element = document.querySelector('#df-bf0fcffe-b4a4-4a6e-b6b2-1c4931254240');\n",
              "          const dataTable =\n",
              "            await google.colab.kernel.invokeFunction('convertToInteractive',\n",
              "                                                     [key], {});\n",
              "          if (!dataTable) return;\n",
              "\n",
              "          const docLinkHtml = 'Like what you see? Visit the ' +\n",
              "            '<a target=\"_blank\" href=https://colab.research.google.com/notebooks/data_table.ipynb>data table notebook</a>'\n",
              "            + ' to learn more about interactive tables.';\n",
              "          element.innerHTML = '';\n",
              "          dataTable['output_type'] = 'display_data';\n",
              "          await google.colab.output.renderOutput(dataTable, element);\n",
              "          const docLink = document.createElement('div');\n",
              "          docLink.innerHTML = docLinkHtml;\n",
              "          element.appendChild(docLink);\n",
              "        }\n",
              "      </script>\n",
              "    </div>\n",
              "  </div>\n",
              "  "
            ]
          },
          "metadata": {},
          "execution_count": 19
        }
      ]
    },
    {
      "cell_type": "markdown",
      "source": [
        "__Nhận xét:__ \n",
        "- Sau khi bỏ 2 biến có VIF>10, mô hình có chỉ số R2 giảm và MSE tăng \\\n",
        "=> Mô hình ban đầu trước khi loại bỏ 2 biến nhìn chung có kết quả tốt hơn.\\\n",
        "=> Việc loại bỏ biến tương quan dựa vào VIF (VIF>10) có vẻ không hiệu quả trong trường hợp này khi so sánh với việc sử dụng hệ số correlation (corr>0.8)"
      ],
      "metadata": {
        "id": "Cbj6iftlCO7z"
      }
    },
    {
      "cell_type": "code",
      "source": [
        "train_df.describe()"
      ],
      "metadata": {
        "colab": {
          "base_uri": "https://localhost:8080/",
          "height": 300
        },
        "id": "-mB9wDuYVTmN",
        "outputId": "90eb8075-f674-4de3-e775-f22ab44d93d0"
      },
      "execution_count": null,
      "outputs": [
        {
          "output_type": "execute_result",
          "data": {
            "text/plain": [
              "             MedInc      HouseAge      AveRooms    Population      AveOccup  \\\n",
              "count  20640.000000  20640.000000  20640.000000  20640.000000  20640.000000   \n",
              "mean       0.232464      0.541951      0.032488      0.039869      0.001914   \n",
              "std        0.131020      0.246776      0.017539      0.031740      0.008358   \n",
              "min        0.000000      0.000000      0.000000      0.000000      0.000000   \n",
              "25%        0.142308      0.333333      0.025482      0.021974      0.001398   \n",
              "50%        0.209301      0.549020      0.031071      0.032596      0.001711   \n",
              "75%        0.292641      0.705882      0.036907      0.048264      0.002084   \n",
              "max        1.000000      1.000000      1.000000      1.000000      1.000000   \n",
              "\n",
              "           Latitude         value  \n",
              "count  20640.000000  20640.000000  \n",
              "mean       0.328572      2.068558  \n",
              "std        0.226988      1.153956  \n",
              "min        0.000000      0.149990  \n",
              "25%        0.147715      1.196000  \n",
              "50%        0.182784      1.797000  \n",
              "75%        0.549416      2.647250  \n",
              "max        1.000000      5.000010  "
            ],
            "text/html": [
              "\n",
              "  <div id=\"df-ed120142-0fef-4caf-ab58-19bfddcd41c0\">\n",
              "    <div class=\"colab-df-container\">\n",
              "      <div>\n",
              "<style scoped>\n",
              "    .dataframe tbody tr th:only-of-type {\n",
              "        vertical-align: middle;\n",
              "    }\n",
              "\n",
              "    .dataframe tbody tr th {\n",
              "        vertical-align: top;\n",
              "    }\n",
              "\n",
              "    .dataframe thead th {\n",
              "        text-align: right;\n",
              "    }\n",
              "</style>\n",
              "<table border=\"1\" class=\"dataframe\">\n",
              "  <thead>\n",
              "    <tr style=\"text-align: right;\">\n",
              "      <th></th>\n",
              "      <th>MedInc</th>\n",
              "      <th>HouseAge</th>\n",
              "      <th>AveRooms</th>\n",
              "      <th>Population</th>\n",
              "      <th>AveOccup</th>\n",
              "      <th>Latitude</th>\n",
              "      <th>value</th>\n",
              "    </tr>\n",
              "  </thead>\n",
              "  <tbody>\n",
              "    <tr>\n",
              "      <th>count</th>\n",
              "      <td>20640.000000</td>\n",
              "      <td>20640.000000</td>\n",
              "      <td>20640.000000</td>\n",
              "      <td>20640.000000</td>\n",
              "      <td>20640.000000</td>\n",
              "      <td>20640.000000</td>\n",
              "      <td>20640.000000</td>\n",
              "    </tr>\n",
              "    <tr>\n",
              "      <th>mean</th>\n",
              "      <td>0.232464</td>\n",
              "      <td>0.541951</td>\n",
              "      <td>0.032488</td>\n",
              "      <td>0.039869</td>\n",
              "      <td>0.001914</td>\n",
              "      <td>0.328572</td>\n",
              "      <td>2.068558</td>\n",
              "    </tr>\n",
              "    <tr>\n",
              "      <th>std</th>\n",
              "      <td>0.131020</td>\n",
              "      <td>0.246776</td>\n",
              "      <td>0.017539</td>\n",
              "      <td>0.031740</td>\n",
              "      <td>0.008358</td>\n",
              "      <td>0.226988</td>\n",
              "      <td>1.153956</td>\n",
              "    </tr>\n",
              "    <tr>\n",
              "      <th>min</th>\n",
              "      <td>0.000000</td>\n",
              "      <td>0.000000</td>\n",
              "      <td>0.000000</td>\n",
              "      <td>0.000000</td>\n",
              "      <td>0.000000</td>\n",
              "      <td>0.000000</td>\n",
              "      <td>0.149990</td>\n",
              "    </tr>\n",
              "    <tr>\n",
              "      <th>25%</th>\n",
              "      <td>0.142308</td>\n",
              "      <td>0.333333</td>\n",
              "      <td>0.025482</td>\n",
              "      <td>0.021974</td>\n",
              "      <td>0.001398</td>\n",
              "      <td>0.147715</td>\n",
              "      <td>1.196000</td>\n",
              "    </tr>\n",
              "    <tr>\n",
              "      <th>50%</th>\n",
              "      <td>0.209301</td>\n",
              "      <td>0.549020</td>\n",
              "      <td>0.031071</td>\n",
              "      <td>0.032596</td>\n",
              "      <td>0.001711</td>\n",
              "      <td>0.182784</td>\n",
              "      <td>1.797000</td>\n",
              "    </tr>\n",
              "    <tr>\n",
              "      <th>75%</th>\n",
              "      <td>0.292641</td>\n",
              "      <td>0.705882</td>\n",
              "      <td>0.036907</td>\n",
              "      <td>0.048264</td>\n",
              "      <td>0.002084</td>\n",
              "      <td>0.549416</td>\n",
              "      <td>2.647250</td>\n",
              "    </tr>\n",
              "    <tr>\n",
              "      <th>max</th>\n",
              "      <td>1.000000</td>\n",
              "      <td>1.000000</td>\n",
              "      <td>1.000000</td>\n",
              "      <td>1.000000</td>\n",
              "      <td>1.000000</td>\n",
              "      <td>1.000000</td>\n",
              "      <td>5.000010</td>\n",
              "    </tr>\n",
              "  </tbody>\n",
              "</table>\n",
              "</div>\n",
              "      <button class=\"colab-df-convert\" onclick=\"convertToInteractive('df-ed120142-0fef-4caf-ab58-19bfddcd41c0')\"\n",
              "              title=\"Convert this dataframe to an interactive table.\"\n",
              "              style=\"display:none;\">\n",
              "        \n",
              "  <svg xmlns=\"http://www.w3.org/2000/svg\" height=\"24px\"viewBox=\"0 0 24 24\"\n",
              "       width=\"24px\">\n",
              "    <path d=\"M0 0h24v24H0V0z\" fill=\"none\"/>\n",
              "    <path d=\"M18.56 5.44l.94 2.06.94-2.06 2.06-.94-2.06-.94-.94-2.06-.94 2.06-2.06.94zm-11 1L8.5 8.5l.94-2.06 2.06-.94-2.06-.94L8.5 2.5l-.94 2.06-2.06.94zm10 10l.94 2.06.94-2.06 2.06-.94-2.06-.94-.94-2.06-.94 2.06-2.06.94z\"/><path d=\"M17.41 7.96l-1.37-1.37c-.4-.4-.92-.59-1.43-.59-.52 0-1.04.2-1.43.59L10.3 9.45l-7.72 7.72c-.78.78-.78 2.05 0 2.83L4 21.41c.39.39.9.59 1.41.59.51 0 1.02-.2 1.41-.59l7.78-7.78 2.81-2.81c.8-.78.8-2.07 0-2.86zM5.41 20L4 18.59l7.72-7.72 1.47 1.35L5.41 20z\"/>\n",
              "  </svg>\n",
              "      </button>\n",
              "      \n",
              "  <style>\n",
              "    .colab-df-container {\n",
              "      display:flex;\n",
              "      flex-wrap:wrap;\n",
              "      gap: 12px;\n",
              "    }\n",
              "\n",
              "    .colab-df-convert {\n",
              "      background-color: #E8F0FE;\n",
              "      border: none;\n",
              "      border-radius: 50%;\n",
              "      cursor: pointer;\n",
              "      display: none;\n",
              "      fill: #1967D2;\n",
              "      height: 32px;\n",
              "      padding: 0 0 0 0;\n",
              "      width: 32px;\n",
              "    }\n",
              "\n",
              "    .colab-df-convert:hover {\n",
              "      background-color: #E2EBFA;\n",
              "      box-shadow: 0px 1px 2px rgba(60, 64, 67, 0.3), 0px 1px 3px 1px rgba(60, 64, 67, 0.15);\n",
              "      fill: #174EA6;\n",
              "    }\n",
              "\n",
              "    [theme=dark] .colab-df-convert {\n",
              "      background-color: #3B4455;\n",
              "      fill: #D2E3FC;\n",
              "    }\n",
              "\n",
              "    [theme=dark] .colab-df-convert:hover {\n",
              "      background-color: #434B5C;\n",
              "      box-shadow: 0px 1px 3px 1px rgba(0, 0, 0, 0.15);\n",
              "      filter: drop-shadow(0px 1px 2px rgba(0, 0, 0, 0.3));\n",
              "      fill: #FFFFFF;\n",
              "    }\n",
              "  </style>\n",
              "\n",
              "      <script>\n",
              "        const buttonEl =\n",
              "          document.querySelector('#df-ed120142-0fef-4caf-ab58-19bfddcd41c0 button.colab-df-convert');\n",
              "        buttonEl.style.display =\n",
              "          google.colab.kernel.accessAllowed ? 'block' : 'none';\n",
              "\n",
              "        async function convertToInteractive(key) {\n",
              "          const element = document.querySelector('#df-ed120142-0fef-4caf-ab58-19bfddcd41c0');\n",
              "          const dataTable =\n",
              "            await google.colab.kernel.invokeFunction('convertToInteractive',\n",
              "                                                     [key], {});\n",
              "          if (!dataTable) return;\n",
              "\n",
              "          const docLinkHtml = 'Like what you see? Visit the ' +\n",
              "            '<a target=\"_blank\" href=https://colab.research.google.com/notebooks/data_table.ipynb>data table notebook</a>'\n",
              "            + ' to learn more about interactive tables.';\n",
              "          element.innerHTML = '';\n",
              "          dataTable['output_type'] = 'display_data';\n",
              "          await google.colab.output.renderOutput(dataTable, element);\n",
              "          const docLink = document.createElement('div');\n",
              "          docLink.innerHTML = docLinkHtml;\n",
              "          element.appendChild(docLink);\n",
              "        }\n",
              "      </script>\n",
              "    </div>\n",
              "  </div>\n",
              "  "
            ]
          },
          "metadata": {},
          "execution_count": 20
        }
      ]
    },
    {
      "cell_type": "markdown",
      "source": [
        "- value dao động từ khoảng 0.1499 đến 5.0000, trong khi MSE>0.6 chứng tỏ cả 2 mô hình đều Regression đều chưa đủ tốt \n",
        "- R-squared ~50% là các biến trong mô hình chỉ giải thichs được khoảng 50% đầu ra\n",
        "\n",
        "__Từ các kết luận trên:__\n",
        "- Chọn một mô hình khác powerful hơn\n",
        "- Thay đổi feature đầu vào (collect thêm data, select features tốt)\n"
      ],
      "metadata": {
        "id": "0PkDsx4pWXg9"
      }
    },
    {
      "cell_type": "markdown",
      "source": [
        "# 4. Interpret the model with `statsmodels` (5 points)"
      ],
      "metadata": {
        "id": "nQH5W2lIn_dq"
      }
    },
    {
      "cell_type": "markdown",
      "source": [
        "Requirements:\n",
        "- Train-Test Split: 1 line of code.\\\n",
        "Chia lại tập train-test.\n",
        "- Train & Interpret the model with `statsmodels`: 3 lines of code.\\\n",
        "Train và diễn giải mô hình với `statsmodels`"
      ],
      "metadata": {
        "id": "ICiHclVxoPDS"
      }
    },
    {
      "cell_type": "code",
      "source": [
        "# Train-Test Split according to the test_size_ratio defined above. Hint: 1 line of code.\n",
        "X_train, X_test, y_train,y_test = train_test_split(train_df.drop(columns=['value']), train_df.value,\n",
        "                                                   test_size=test_size_ratio, random_state=1)\n",
        "\n",
        "# Train & Interpret the model with statsmodel. Hint: 3 lines of code.\n",
        "est=sm.OLS(y_train,X_train)\n",
        "est_2=est.fit()\n",
        "print(est_2.summary())"
      ],
      "metadata": {
        "id": "PA9FSK4NoQg3",
        "colab": {
          "base_uri": "https://localhost:8080/"
        },
        "outputId": "12e5eb30-9f5a-4ce1-e700-8e77e484b114"
      },
      "execution_count": null,
      "outputs": [
        {
          "output_type": "stream",
          "name": "stdout",
          "text": [
            "                                 OLS Regression Results                                \n",
            "=======================================================================================\n",
            "Dep. Variable:                  value   R-squared (uncentered):                   0.886\n",
            "Model:                            OLS   Adj. R-squared (uncentered):              0.886\n",
            "Method:                 Least Squares   F-statistic:                          2.142e+04\n",
            "Date:                Sun, 24 Jul 2022   Prob (F-statistic):                        0.00\n",
            "Time:                        18:25:03   Log-Likelihood:                         -19787.\n",
            "No. Observations:               16512   AIC:                                  3.959e+04\n",
            "Df Residuals:                   16506   BIC:                                  3.963e+04\n",
            "Df Model:                           6                                                  \n",
            "Covariance Type:            nonrobust                                                  \n",
            "==============================================================================\n",
            "                 coef    std err          t      P>|t|      [0.025      0.975]\n",
            "------------------------------------------------------------------------------\n",
            "MedInc         6.5648      0.047    138.869      0.000       6.472       6.657\n",
            "HouseAge       1.1155      0.019     58.592      0.000       1.078       1.153\n",
            "AveRooms      -1.0973      0.339     -3.238      0.001      -1.762      -0.433\n",
            "Population     1.9223      0.178     10.801      0.000       1.573       2.271\n",
            "AveOccup      -5.3784      0.672     -8.009      0.000      -6.695      -4.062\n",
            "Latitude      -0.3029      0.026    -11.593      0.000      -0.354      -0.252\n",
            "==============================================================================\n",
            "Omnibus:                     3386.688   Durbin-Watson:                   1.973\n",
            "Prob(Omnibus):                  0.000   Jarque-Bera (JB):             7969.898\n",
            "Skew:                           1.154   Prob(JB):                         0.00\n",
            "Kurtosis:                       5.501   Cond. No.                         76.8\n",
            "==============================================================================\n",
            "\n",
            "Warnings:\n",
            "[1] Standard Errors assume that the covariance matrix of the errors is correctly specified.\n"
          ]
        }
      ]
    },
    {
      "cell_type": "code",
      "source": [
        "#VIF-based feature removed model:\n",
        "\n",
        "X_train_vif, X_test_vif, y_train_vif, y_test_vif = train_test_split(train_df[selected_cols], train_df.value,\n",
        "                                                   test_size=test_size_ratio, random_state=1)\n",
        "\n",
        "# Train & Interpret the model with statsmodel. Hint: 3 lines of code.\n",
        "est=sm.OLS(y_train_vif,X_train_vif)\n",
        "est_vif=est.fit()\n",
        "print(est_vif.summary())"
      ],
      "metadata": {
        "colab": {
          "base_uri": "https://localhost:8080/"
        },
        "id": "_3cjFwLYZvH5",
        "outputId": "bb20a173-a843-40d0-a4bf-9c1d46722427"
      },
      "execution_count": null,
      "outputs": [
        {
          "output_type": "stream",
          "name": "stdout",
          "text": [
            "                                 OLS Regression Results                                \n",
            "=======================================================================================\n",
            "Dep. Variable:                  value   R-squared (uncentered):                   0.886\n",
            "Model:                            OLS   Adj. R-squared (uncentered):              0.886\n",
            "Method:                 Least Squares   F-statistic:                          2.142e+04\n",
            "Date:                Sun, 24 Jul 2022   Prob (F-statistic):                        0.00\n",
            "Time:                        18:25:03   Log-Likelihood:                         -19787.\n",
            "No. Observations:               16512   AIC:                                  3.959e+04\n",
            "Df Residuals:                   16506   BIC:                                  3.963e+04\n",
            "Df Model:                           6                                                  \n",
            "Covariance Type:            nonrobust                                                  \n",
            "==============================================================================\n",
            "                 coef    std err          t      P>|t|      [0.025      0.975]\n",
            "------------------------------------------------------------------------------\n",
            "MedInc         6.5648      0.047    138.869      0.000       6.472       6.657\n",
            "HouseAge       1.1155      0.019     58.592      0.000       1.078       1.153\n",
            "AveRooms      -1.0973      0.339     -3.238      0.001      -1.762      -0.433\n",
            "Population     1.9223      0.178     10.801      0.000       1.573       2.271\n",
            "AveOccup      -5.3784      0.672     -8.009      0.000      -6.695      -4.062\n",
            "Latitude      -0.3029      0.026    -11.593      0.000      -0.354      -0.252\n",
            "==============================================================================\n",
            "Omnibus:                     3386.688   Durbin-Watson:                   1.973\n",
            "Prob(Omnibus):                  0.000   Jarque-Bera (JB):             7969.898\n",
            "Skew:                           1.154   Prob(JB):                         0.00\n",
            "Kurtosis:                       5.501   Cond. No.                         76.8\n",
            "==============================================================================\n",
            "\n",
            "Warnings:\n",
            "[1] Standard Errors assume that the covariance matrix of the errors is correctly specified.\n"
          ]
        }
      ]
    },
    {
      "cell_type": "markdown",
      "source": [
        "<br> Requirements:\n",
        "- Type your answer to the question: looking at the above interpretation, should we remove any variable/features? Why? (1 point)\\\n",
        "Nhìn vào kết quả này, theo bạn chúng ta có nên bỏ đi features nào không? Tại sao?"
      ],
      "metadata": {
        "id": "F5ytOCu1oUJ2"
      }
    },
    {
      "cell_type": "code",
      "source": [
        "# Answer to the question (1 point): the variables/features we should remove is/are: . Reason: \n"
      ],
      "metadata": {
        "id": "RTcqvsjOoV-d"
      },
      "execution_count": null,
      "outputs": []
    },
    {
      "cell_type": "markdown",
      "source": [
        "Từ kết quả có thể nhận định những điểm sau:\n",
        "- p-value của các biến đều <1% => Các biến đều có ý nghĩa thống kê với mô hình\n",
        "- Mô hình chưa bỏ bớt biến có Adjusted R-squared slightly higher \n",
        "- Đây không phải là mô hình lớn và phức tạp (<10 features, ~20k rows in total), computing cost không phải một trở ngại lớn. \n",
        "\n",
        "Từ các quan sát trên có thể kết luận:\\\n",
        "*Actually  no features should be removed at this point.*"
      ],
      "metadata": {
        "id": "FJLO3pQ1afZL"
      }
    },
    {
      "cell_type": "markdown",
      "source": [
        "## 5. (Advanced topics) Select features with `statsmodels` and `seletKbest` (10 points)"
      ],
      "metadata": {
        "id": "5hDaWyZ0BliU"
      }
    },
    {
      "cell_type": "markdown",
      "source": [
        "Requirements: (5 points)\n",
        "- Use `selectKBest` to select the best 5 features.\\\n",
        "Sử dụng `selectKBest` để chọn ra 5 thuộc tính tốt nhất.\n",
        "- Repeat the process: train-test split, train, predict on the test set, and evaluate the model.\\\n",
        "Lặp lại quá trình chia tập train-test, train mô hình, dự đoán trên tập test, đánh giá hiệu quả của mô hình."
      ],
      "metadata": {
        "id": "2KdtNcoPD7_e"
      }
    },
    {
      "cell_type": "code",
      "source": [
        "print(X_train.shape)\n",
        "n=5\n",
        "selector = SelectKBest(f_regression, k=n)\n",
        "selector.fit(X_train,y_train)\n",
        "X_new=selector.transform(X_train)\n",
        "print('{} best selected features are: {}'.format(n, selector.get_feature_names_out()))\n"
      ],
      "metadata": {
        "colab": {
          "base_uri": "https://localhost:8080/"
        },
        "id": "7ICuHR2ecrvB",
        "outputId": "a05d0222-4d00-4329-fc6a-05e54b37a2d1"
      },
      "execution_count": null,
      "outputs": [
        {
          "output_type": "stream",
          "name": "stdout",
          "text": [
            "(16512, 6)\n",
            "5 best selected features are: ['MedInc' 'HouseAge' 'AveRooms' 'Population' 'Latitude']\n"
          ]
        }
      ]
    },
    {
      "cell_type": "code",
      "source": [
        "# Select KBest: 4 points.\n",
        "# Split Train-Test\n",
        "X_train, X_test, y_train, y_test = train_test_split(train_df.drop(columns=['value']),train_df.value,\n",
        "                                                    test_size=test_size_ratio,random_state=1)\n",
        "\n",
        "# Number of selected features: 4 <?> The requirement about stated number 5 so I will stick with 5 features instead of 4\n",
        "n=5\n",
        "selector = SelectKBest(f_regression, k=n)\n",
        "selector.fit(X_train,y_train)\n",
        "print('{} best selected features are: {}'.format(n, selector.get_feature_names_out()))\n",
        "X_train_selected = selector.transform(X_train)\n",
        "\n",
        "\n",
        "# Create linear regression object & train on the training set\n",
        "reg_model_1= LinearRegression().fit(X_train_selected, y_train)\n",
        "\n",
        "# Predict on Test set\n",
        "X_test_selected = selector.transform(X_test) \n",
        "y_pred = reg_model_1.predict(X_test_selected)\n",
        "\n",
        "# Evaluation on Test set\n",
        "# R-squared\n",
        "print('R2: ',r2_score(y_test,y_pred))\n",
        "# Mean Squared Error\n",
        "print('MSE: ',mean_squared_error(y_test, y_pred))\n"
      ],
      "metadata": {
        "id": "Ey_8bu0zEDDh",
        "colab": {
          "base_uri": "https://localhost:8080/"
        },
        "outputId": "c607c39b-3902-4f26-c8ee-d93a1c4d5759"
      },
      "execution_count": null,
      "outputs": [
        {
          "output_type": "stream",
          "name": "stdout",
          "text": [
            "5 best selected features are: ['MedInc' 'HouseAge' 'AveRooms' 'Population' 'Latitude']\n",
            "R2:  0.5155344647727533\n",
            "MSE:  0.6354690065788394\n"
          ]
        }
      ]
    },
    {
      "cell_type": "markdown",
      "source": [
        "Requirements: (5 points)\n",
        "- Select the features with `p-value` < 0.05.\\\n",
        "Lọc ra những features có p-value < 0.05.\n",
        "- Repeat the process: train-test split, train, predict on the test set, and evaluate the model with the chosen features.\\\n",
        "Lặp lại quá trình chia tập train-test, train mô hình, dự đoán trên tập test, đánh giá hiệu quả của mô hình. Chỉ sử dụng những features được lọc ra."
      ],
      "metadata": {
        "id": "syLFHtNCvTLi"
      }
    },
    {
      "cell_type": "code",
      "source": [
        "# p-values: 4 points.\n",
        "# Compute F-statistics and p-values\n",
        "f,p = f_regression(X_train, y_train)\n",
        "\n",
        "# Create a DataFrame for F-statistics and p-values\n",
        "df_significance = pd.DataFrame({'Feature': train_df.drop(columns='value').select_dtypes(include='number').columns,\n",
        "                                'F-statistics': f, 'p-value':p})\n",
        "display(df_significance)\n",
        "\n",
        "# Select the features associated with p-values < significance level\n",
        "alpha=0.05\n",
        "selected_features = df_significance[df_significance['p-value']<alpha]['Feature']\n",
        "\n",
        "# Split Train-Test, Create object, Train, Test, and Evaluate.\n",
        "\n",
        "X_train2, X_test2, y_train2, y_test2 = train_test_split(train_df[list(selected_features)],train_df.value,\n",
        "                                                        test_size=test_size_ratio,random_state=1)\n",
        "reg_model_2 = LinearRegression().fit(X_train2, y_train2)\n",
        "y_pred2 = reg_model_2.predict(X_test2)\n",
        "\n",
        "# Evaluation on Test set\n",
        "# R-squared\n",
        "print('R2: ',r2_score(y_test2,y_pred2))\n",
        "# Mean Squared Error\n",
        "print('MSE: ',mean_squared_error(y_test2, y_pred2))"
      ],
      "metadata": {
        "id": "YJ3ILb-0EUA8",
        "colab": {
          "base_uri": "https://localhost:8080/",
          "height": 272
        },
        "outputId": "a40f04d1-56b8-4c13-8b8f-4fa5872d5134"
      },
      "execution_count": null,
      "outputs": [
        {
          "output_type": "display_data",
          "data": {
            "text/plain": [
              "      Feature  F-statistics       p-value\n",
              "0      MedInc  14854.602105  0.000000e+00\n",
              "1    HouseAge    186.749135  2.767101e-42\n",
              "2    AveRooms    362.155218  6.840794e-80\n",
              "3  Population      9.423725  2.145436e-03\n",
              "4    AveOccup      7.979570  4.736491e-03\n",
              "5    Latitude    327.062183  2.095139e-72"
            ],
            "text/html": [
              "\n",
              "  <div id=\"df-cd826b4c-0270-4b31-8ba3-0a620bb57d46\">\n",
              "    <div class=\"colab-df-container\">\n",
              "      <div>\n",
              "<style scoped>\n",
              "    .dataframe tbody tr th:only-of-type {\n",
              "        vertical-align: middle;\n",
              "    }\n",
              "\n",
              "    .dataframe tbody tr th {\n",
              "        vertical-align: top;\n",
              "    }\n",
              "\n",
              "    .dataframe thead th {\n",
              "        text-align: right;\n",
              "    }\n",
              "</style>\n",
              "<table border=\"1\" class=\"dataframe\">\n",
              "  <thead>\n",
              "    <tr style=\"text-align: right;\">\n",
              "      <th></th>\n",
              "      <th>Feature</th>\n",
              "      <th>F-statistics</th>\n",
              "      <th>p-value</th>\n",
              "    </tr>\n",
              "  </thead>\n",
              "  <tbody>\n",
              "    <tr>\n",
              "      <th>0</th>\n",
              "      <td>MedInc</td>\n",
              "      <td>14854.602105</td>\n",
              "      <td>0.000000e+00</td>\n",
              "    </tr>\n",
              "    <tr>\n",
              "      <th>1</th>\n",
              "      <td>HouseAge</td>\n",
              "      <td>186.749135</td>\n",
              "      <td>2.767101e-42</td>\n",
              "    </tr>\n",
              "    <tr>\n",
              "      <th>2</th>\n",
              "      <td>AveRooms</td>\n",
              "      <td>362.155218</td>\n",
              "      <td>6.840794e-80</td>\n",
              "    </tr>\n",
              "    <tr>\n",
              "      <th>3</th>\n",
              "      <td>Population</td>\n",
              "      <td>9.423725</td>\n",
              "      <td>2.145436e-03</td>\n",
              "    </tr>\n",
              "    <tr>\n",
              "      <th>4</th>\n",
              "      <td>AveOccup</td>\n",
              "      <td>7.979570</td>\n",
              "      <td>4.736491e-03</td>\n",
              "    </tr>\n",
              "    <tr>\n",
              "      <th>5</th>\n",
              "      <td>Latitude</td>\n",
              "      <td>327.062183</td>\n",
              "      <td>2.095139e-72</td>\n",
              "    </tr>\n",
              "  </tbody>\n",
              "</table>\n",
              "</div>\n",
              "      <button class=\"colab-df-convert\" onclick=\"convertToInteractive('df-cd826b4c-0270-4b31-8ba3-0a620bb57d46')\"\n",
              "              title=\"Convert this dataframe to an interactive table.\"\n",
              "              style=\"display:none;\">\n",
              "        \n",
              "  <svg xmlns=\"http://www.w3.org/2000/svg\" height=\"24px\"viewBox=\"0 0 24 24\"\n",
              "       width=\"24px\">\n",
              "    <path d=\"M0 0h24v24H0V0z\" fill=\"none\"/>\n",
              "    <path d=\"M18.56 5.44l.94 2.06.94-2.06 2.06-.94-2.06-.94-.94-2.06-.94 2.06-2.06.94zm-11 1L8.5 8.5l.94-2.06 2.06-.94-2.06-.94L8.5 2.5l-.94 2.06-2.06.94zm10 10l.94 2.06.94-2.06 2.06-.94-2.06-.94-.94-2.06-.94 2.06-2.06.94z\"/><path d=\"M17.41 7.96l-1.37-1.37c-.4-.4-.92-.59-1.43-.59-.52 0-1.04.2-1.43.59L10.3 9.45l-7.72 7.72c-.78.78-.78 2.05 0 2.83L4 21.41c.39.39.9.59 1.41.59.51 0 1.02-.2 1.41-.59l7.78-7.78 2.81-2.81c.8-.78.8-2.07 0-2.86zM5.41 20L4 18.59l7.72-7.72 1.47 1.35L5.41 20z\"/>\n",
              "  </svg>\n",
              "      </button>\n",
              "      \n",
              "  <style>\n",
              "    .colab-df-container {\n",
              "      display:flex;\n",
              "      flex-wrap:wrap;\n",
              "      gap: 12px;\n",
              "    }\n",
              "\n",
              "    .colab-df-convert {\n",
              "      background-color: #E8F0FE;\n",
              "      border: none;\n",
              "      border-radius: 50%;\n",
              "      cursor: pointer;\n",
              "      display: none;\n",
              "      fill: #1967D2;\n",
              "      height: 32px;\n",
              "      padding: 0 0 0 0;\n",
              "      width: 32px;\n",
              "    }\n",
              "\n",
              "    .colab-df-convert:hover {\n",
              "      background-color: #E2EBFA;\n",
              "      box-shadow: 0px 1px 2px rgba(60, 64, 67, 0.3), 0px 1px 3px 1px rgba(60, 64, 67, 0.15);\n",
              "      fill: #174EA6;\n",
              "    }\n",
              "\n",
              "    [theme=dark] .colab-df-convert {\n",
              "      background-color: #3B4455;\n",
              "      fill: #D2E3FC;\n",
              "    }\n",
              "\n",
              "    [theme=dark] .colab-df-convert:hover {\n",
              "      background-color: #434B5C;\n",
              "      box-shadow: 0px 1px 3px 1px rgba(0, 0, 0, 0.15);\n",
              "      filter: drop-shadow(0px 1px 2px rgba(0, 0, 0, 0.3));\n",
              "      fill: #FFFFFF;\n",
              "    }\n",
              "  </style>\n",
              "\n",
              "      <script>\n",
              "        const buttonEl =\n",
              "          document.querySelector('#df-cd826b4c-0270-4b31-8ba3-0a620bb57d46 button.colab-df-convert');\n",
              "        buttonEl.style.display =\n",
              "          google.colab.kernel.accessAllowed ? 'block' : 'none';\n",
              "\n",
              "        async function convertToInteractive(key) {\n",
              "          const element = document.querySelector('#df-cd826b4c-0270-4b31-8ba3-0a620bb57d46');\n",
              "          const dataTable =\n",
              "            await google.colab.kernel.invokeFunction('convertToInteractive',\n",
              "                                                     [key], {});\n",
              "          if (!dataTable) return;\n",
              "\n",
              "          const docLinkHtml = 'Like what you see? Visit the ' +\n",
              "            '<a target=\"_blank\" href=https://colab.research.google.com/notebooks/data_table.ipynb>data table notebook</a>'\n",
              "            + ' to learn more about interactive tables.';\n",
              "          element.innerHTML = '';\n",
              "          dataTable['output_type'] = 'display_data';\n",
              "          await google.colab.output.renderOutput(dataTable, element);\n",
              "          const docLink = document.createElement('div');\n",
              "          docLink.innerHTML = docLinkHtml;\n",
              "          element.appendChild(docLink);\n",
              "        }\n",
              "      </script>\n",
              "    </div>\n",
              "  </div>\n",
              "  "
            ]
          },
          "metadata": {}
        },
        {
          "output_type": "stream",
          "name": "stdout",
          "text": [
            "R2:  0.5166991309718191\n",
            "MSE:  0.6339413245897191\n"
          ]
        }
      ]
    },
    {
      "cell_type": "markdown",
      "source": [
        "## 6. Random Forest Regression (Optional).\n",
        "\n",
        "---\n",
        "\n"
      ],
      "metadata": {
        "id": "2UV_lcRHB8aN"
      }
    },
    {
      "cell_type": "markdown",
      "source": [
        "Complete the following code cell to do Regression using Random Forest. Learners are encouraged to complete this part.\\\n",
        "Dùng Random Forest cho bài toán hồi quy của chúng ta. Khuyến khích học viên hoàn thành phần này."
      ],
      "metadata": {
        "id": "vC-0XyD3Mfhk"
      }
    },
    {
      "cell_type": "code",
      "source": [
        "# Train-Test Split\n",
        "X_train, X_test, y_train, y_test = train_test_split(train_df.drop(columns=['value']),train_df.value,\n",
        "                                                    test_size=test_size_ratio,random_state=1)\n",
        "\n",
        "\n",
        "# Create Random Forest regressor object & Train the model on the Training set.\n",
        "rfr = RandomForestRegressor(random_state=1)\n",
        "rfr.fit(X_train, y_train)\n",
        "\n",
        "# Predict on the Test set\n",
        "y_pred=rfr.predict(X_test)\n",
        "\n",
        "\n",
        "# Evaluation on Test set: R-squared & Root Mean squared Error. \n",
        "print('R2: ',r2_score(y_test,y_pred))\n",
        "# Mean Squared Error\n",
        "print('MSE: ',mean_squared_error(y_test, y_pred))\n",
        "\n",
        "\n"
      ],
      "metadata": {
        "id": "p0ltXd86K5Vq",
        "colab": {
          "base_uri": "https://localhost:8080/"
        },
        "outputId": "0bb443a0-7ec5-48cc-a966-decb1e8a4206"
      },
      "execution_count": null,
      "outputs": [
        {
          "output_type": "stream",
          "name": "stdout",
          "text": [
            "R2:  0.7314601060665793\n",
            "MSE:  0.35224132000352126\n"
          ]
        }
      ]
    },
    {
      "cell_type": "markdown",
      "source": [
        "## 7. Decision Tree Regression (Optional).\n"
      ],
      "metadata": {
        "id": "CIcZMswsfmG2"
      }
    },
    {
      "cell_type": "markdown",
      "source": [
        "Complete the following code cell to do Regression using Decision Tree. Learners are encouraged to complete this part.\\\n",
        "Dùng Decision Tree cho bài toán hồi quy của chúng ta. Khuyến khích học viên hoàn thành phần này."
      ],
      "metadata": {
        "id": "L123jrTEfo-U"
      }
    },
    {
      "cell_type": "code",
      "source": [
        "# Train-Test Split\n",
        "X_train, X_test, y_train, y_test = train_test_split(train_df.drop(columns=['value']),train_df.value,\n",
        "                                                    test_size=test_size_ratio,random_state=1)\n",
        "\n",
        "\n",
        "# Create Decision Tree regressor object & Train the model on the Training set.\n",
        "dtreg = DecisionTreeRegressor(random_state=1)\n",
        "dtreg.fit(X_train, y_train)\n",
        "\n",
        "# Predict on the Test set\n",
        "y_pred = dtreg.predict(X_test)\n",
        "\n",
        "\n",
        "# Evaluation on Test set: R-squared & Root Mean squared Error. \n",
        "print('R2: ',r2_score(y_test,y_pred))\n",
        "# Mean Squared Error\n",
        "print('MSE: ',mean_squared_error(y_test, y_pred))\n"
      ],
      "metadata": {
        "id": "6se3fSSOfuT3",
        "colab": {
          "base_uri": "https://localhost:8080/"
        },
        "outputId": "4f5d46b2-0260-4ffb-9cc3-3af0dbef1485"
      },
      "execution_count": null,
      "outputs": [
        {
          "output_type": "stream",
          "name": "stdout",
          "text": [
            "R2:  0.48975042954251935\n",
            "MSE:  0.6692896895004118\n"
          ]
        }
      ]
    },
    {
      "cell_type": "markdown",
      "source": [
        "# Problem 2 - Decision Tree: Predicting survivals from the Titanic Disaster (50 points)\n",
        "\n",
        "\n"
      ],
      "metadata": {
        "id": "wFZYSMPE0lRX"
      }
    },
    {
      "cell_type": "markdown",
      "source": [
        "## Xây dựng mô hình dự đoán người sống sốt sau thảm họa tàu Titanic."
      ],
      "metadata": {
        "id": "el_RCcBWoh-5"
      }
    },
    {
      "cell_type": "markdown",
      "source": [
        "https://query.data.world/s/ckuvwmg55m3tkazkrw3u2os35jm6cg"
      ],
      "metadata": {
        "id": "sEES5Ki8umJW"
      }
    },
    {
      "cell_type": "code",
      "metadata": {
        "id": "nKNwVePW-fhs"
      },
      "source": [
        "# Import libraries\n",
        "import numpy as np\n",
        "import pandas as pd\n",
        "from sklearn.preprocessing import MinMaxScaler, StandardScaler\n",
        "from sklearn.model_selection import train_test_split\n",
        "from sklearn.linear_model import LogisticRegression\n",
        "from sklearn.metrics import classification_report, roc_auc_score, plot_confusion_matrix\n",
        "from sklearn.tree import DecisionTreeClassifier\n",
        "\n",
        "\n",
        "\n",
        "# plotting\n",
        "import matplotlib\n",
        "import matplotlib.pyplot as plt\n",
        "font = {'size' : 18}\n",
        "matplotlib.rc('font', **font)\n",
        "\n",
        "pd.set_option('display.max_columns',None)"
      ],
      "execution_count": null,
      "outputs": []
    },
    {
      "cell_type": "markdown",
      "metadata": {
        "id": "wiMBMI7rECER"
      },
      "source": [
        "## 1. Data loading (10 points)\n",
        "Requirement:\n",
        "  - Load the dataset from csv to pandas. (5 points)"
      ]
    },
    {
      "cell_type": "code",
      "source": [
        "## YOUR CODE HERE ##\n",
        "data='https://query.data.world/s/ckuvwmg55m3tkazkrw3u2os35jm6cg'\n",
        "df=pd.read_csv(data)\n",
        "print(df.shape)\n",
        "df.head(n=20)\n",
        "df.tail()"
      ],
      "metadata": {
        "id": "nMZyo9M2rl7w",
        "colab": {
          "base_uri": "https://localhost:8080/",
          "height": 223
        },
        "outputId": "e7b7dc1b-e559-4a6b-cc28-9b33ca1daeae"
      },
      "execution_count": null,
      "outputs": [
        {
          "output_type": "stream",
          "name": "stdout",
          "text": [
            "(1310, 14)\n"
          ]
        },
        {
          "output_type": "execute_result",
          "data": {
            "text/plain": [
              "      pclass  survived                       name     sex   age  sibsp  parch  \\\n",
              "1305     3.0       0.0      Zabour, Miss. Thamine  female   NaN    1.0    0.0   \n",
              "1306     3.0       0.0  Zakarian, Mr. Mapriededer    male  26.5    0.0    0.0   \n",
              "1307     3.0       0.0        Zakarian, Mr. Ortin    male  27.0    0.0    0.0   \n",
              "1308     3.0       0.0         Zimmerman, Mr. Leo    male  29.0    0.0    0.0   \n",
              "1309     NaN       NaN                        NaN     NaN   NaN    NaN    NaN   \n",
              "\n",
              "      ticket     fare cabin embarked boat   body home.dest  \n",
              "1305    2665  14.4542   NaN        C  NaN    NaN       NaN  \n",
              "1306    2656   7.2250   NaN        C  NaN  304.0       NaN  \n",
              "1307    2670   7.2250   NaN        C  NaN    NaN       NaN  \n",
              "1308  315082   7.8750   NaN        S  NaN    NaN       NaN  \n",
              "1309     NaN      NaN   NaN      NaN  NaN    NaN       NaN  "
            ],
            "text/html": [
              "\n",
              "  <div id=\"df-4880135f-eda9-4f45-9700-e205847a2614\">\n",
              "    <div class=\"colab-df-container\">\n",
              "      <div>\n",
              "<style scoped>\n",
              "    .dataframe tbody tr th:only-of-type {\n",
              "        vertical-align: middle;\n",
              "    }\n",
              "\n",
              "    .dataframe tbody tr th {\n",
              "        vertical-align: top;\n",
              "    }\n",
              "\n",
              "    .dataframe thead th {\n",
              "        text-align: right;\n",
              "    }\n",
              "</style>\n",
              "<table border=\"1\" class=\"dataframe\">\n",
              "  <thead>\n",
              "    <tr style=\"text-align: right;\">\n",
              "      <th></th>\n",
              "      <th>pclass</th>\n",
              "      <th>survived</th>\n",
              "      <th>name</th>\n",
              "      <th>sex</th>\n",
              "      <th>age</th>\n",
              "      <th>sibsp</th>\n",
              "      <th>parch</th>\n",
              "      <th>ticket</th>\n",
              "      <th>fare</th>\n",
              "      <th>cabin</th>\n",
              "      <th>embarked</th>\n",
              "      <th>boat</th>\n",
              "      <th>body</th>\n",
              "      <th>home.dest</th>\n",
              "    </tr>\n",
              "  </thead>\n",
              "  <tbody>\n",
              "    <tr>\n",
              "      <th>1305</th>\n",
              "      <td>3.0</td>\n",
              "      <td>0.0</td>\n",
              "      <td>Zabour, Miss. Thamine</td>\n",
              "      <td>female</td>\n",
              "      <td>NaN</td>\n",
              "      <td>1.0</td>\n",
              "      <td>0.0</td>\n",
              "      <td>2665</td>\n",
              "      <td>14.4542</td>\n",
              "      <td>NaN</td>\n",
              "      <td>C</td>\n",
              "      <td>NaN</td>\n",
              "      <td>NaN</td>\n",
              "      <td>NaN</td>\n",
              "    </tr>\n",
              "    <tr>\n",
              "      <th>1306</th>\n",
              "      <td>3.0</td>\n",
              "      <td>0.0</td>\n",
              "      <td>Zakarian, Mr. Mapriededer</td>\n",
              "      <td>male</td>\n",
              "      <td>26.5</td>\n",
              "      <td>0.0</td>\n",
              "      <td>0.0</td>\n",
              "      <td>2656</td>\n",
              "      <td>7.2250</td>\n",
              "      <td>NaN</td>\n",
              "      <td>C</td>\n",
              "      <td>NaN</td>\n",
              "      <td>304.0</td>\n",
              "      <td>NaN</td>\n",
              "    </tr>\n",
              "    <tr>\n",
              "      <th>1307</th>\n",
              "      <td>3.0</td>\n",
              "      <td>0.0</td>\n",
              "      <td>Zakarian, Mr. Ortin</td>\n",
              "      <td>male</td>\n",
              "      <td>27.0</td>\n",
              "      <td>0.0</td>\n",
              "      <td>0.0</td>\n",
              "      <td>2670</td>\n",
              "      <td>7.2250</td>\n",
              "      <td>NaN</td>\n",
              "      <td>C</td>\n",
              "      <td>NaN</td>\n",
              "      <td>NaN</td>\n",
              "      <td>NaN</td>\n",
              "    </tr>\n",
              "    <tr>\n",
              "      <th>1308</th>\n",
              "      <td>3.0</td>\n",
              "      <td>0.0</td>\n",
              "      <td>Zimmerman, Mr. Leo</td>\n",
              "      <td>male</td>\n",
              "      <td>29.0</td>\n",
              "      <td>0.0</td>\n",
              "      <td>0.0</td>\n",
              "      <td>315082</td>\n",
              "      <td>7.8750</td>\n",
              "      <td>NaN</td>\n",
              "      <td>S</td>\n",
              "      <td>NaN</td>\n",
              "      <td>NaN</td>\n",
              "      <td>NaN</td>\n",
              "    </tr>\n",
              "    <tr>\n",
              "      <th>1309</th>\n",
              "      <td>NaN</td>\n",
              "      <td>NaN</td>\n",
              "      <td>NaN</td>\n",
              "      <td>NaN</td>\n",
              "      <td>NaN</td>\n",
              "      <td>NaN</td>\n",
              "      <td>NaN</td>\n",
              "      <td>NaN</td>\n",
              "      <td>NaN</td>\n",
              "      <td>NaN</td>\n",
              "      <td>NaN</td>\n",
              "      <td>NaN</td>\n",
              "      <td>NaN</td>\n",
              "      <td>NaN</td>\n",
              "    </tr>\n",
              "  </tbody>\n",
              "</table>\n",
              "</div>\n",
              "      <button class=\"colab-df-convert\" onclick=\"convertToInteractive('df-4880135f-eda9-4f45-9700-e205847a2614')\"\n",
              "              title=\"Convert this dataframe to an interactive table.\"\n",
              "              style=\"display:none;\">\n",
              "        \n",
              "  <svg xmlns=\"http://www.w3.org/2000/svg\" height=\"24px\"viewBox=\"0 0 24 24\"\n",
              "       width=\"24px\">\n",
              "    <path d=\"M0 0h24v24H0V0z\" fill=\"none\"/>\n",
              "    <path d=\"M18.56 5.44l.94 2.06.94-2.06 2.06-.94-2.06-.94-.94-2.06-.94 2.06-2.06.94zm-11 1L8.5 8.5l.94-2.06 2.06-.94-2.06-.94L8.5 2.5l-.94 2.06-2.06.94zm10 10l.94 2.06.94-2.06 2.06-.94-2.06-.94-.94-2.06-.94 2.06-2.06.94z\"/><path d=\"M17.41 7.96l-1.37-1.37c-.4-.4-.92-.59-1.43-.59-.52 0-1.04.2-1.43.59L10.3 9.45l-7.72 7.72c-.78.78-.78 2.05 0 2.83L4 21.41c.39.39.9.59 1.41.59.51 0 1.02-.2 1.41-.59l7.78-7.78 2.81-2.81c.8-.78.8-2.07 0-2.86zM5.41 20L4 18.59l7.72-7.72 1.47 1.35L5.41 20z\"/>\n",
              "  </svg>\n",
              "      </button>\n",
              "      \n",
              "  <style>\n",
              "    .colab-df-container {\n",
              "      display:flex;\n",
              "      flex-wrap:wrap;\n",
              "      gap: 12px;\n",
              "    }\n",
              "\n",
              "    .colab-df-convert {\n",
              "      background-color: #E8F0FE;\n",
              "      border: none;\n",
              "      border-radius: 50%;\n",
              "      cursor: pointer;\n",
              "      display: none;\n",
              "      fill: #1967D2;\n",
              "      height: 32px;\n",
              "      padding: 0 0 0 0;\n",
              "      width: 32px;\n",
              "    }\n",
              "\n",
              "    .colab-df-convert:hover {\n",
              "      background-color: #E2EBFA;\n",
              "      box-shadow: 0px 1px 2px rgba(60, 64, 67, 0.3), 0px 1px 3px 1px rgba(60, 64, 67, 0.15);\n",
              "      fill: #174EA6;\n",
              "    }\n",
              "\n",
              "    [theme=dark] .colab-df-convert {\n",
              "      background-color: #3B4455;\n",
              "      fill: #D2E3FC;\n",
              "    }\n",
              "\n",
              "    [theme=dark] .colab-df-convert:hover {\n",
              "      background-color: #434B5C;\n",
              "      box-shadow: 0px 1px 3px 1px rgba(0, 0, 0, 0.15);\n",
              "      filter: drop-shadow(0px 1px 2px rgba(0, 0, 0, 0.3));\n",
              "      fill: #FFFFFF;\n",
              "    }\n",
              "  </style>\n",
              "\n",
              "      <script>\n",
              "        const buttonEl =\n",
              "          document.querySelector('#df-4880135f-eda9-4f45-9700-e205847a2614 button.colab-df-convert');\n",
              "        buttonEl.style.display =\n",
              "          google.colab.kernel.accessAllowed ? 'block' : 'none';\n",
              "\n",
              "        async function convertToInteractive(key) {\n",
              "          const element = document.querySelector('#df-4880135f-eda9-4f45-9700-e205847a2614');\n",
              "          const dataTable =\n",
              "            await google.colab.kernel.invokeFunction('convertToInteractive',\n",
              "                                                     [key], {});\n",
              "          if (!dataTable) return;\n",
              "\n",
              "          const docLinkHtml = 'Like what you see? Visit the ' +\n",
              "            '<a target=\"_blank\" href=https://colab.research.google.com/notebooks/data_table.ipynb>data table notebook</a>'\n",
              "            + ' to learn more about interactive tables.';\n",
              "          element.innerHTML = '';\n",
              "          dataTable['output_type'] = 'display_data';\n",
              "          await google.colab.output.renderOutput(dataTable, element);\n",
              "          const docLink = document.createElement('div');\n",
              "          docLink.innerHTML = docLinkHtml;\n",
              "          element.appendChild(docLink);\n",
              "        }\n",
              "      </script>\n",
              "    </div>\n",
              "  </div>\n",
              "  "
            ]
          },
          "metadata": {},
          "execution_count": 31
        }
      ]
    },
    {
      "cell_type": "markdown",
      "source": [
        "\n",
        "First glance and Summary:\\\n",
        "__Feature:__\n",
        "\n",
        "\n",
        "1.   survival: 0 - No, 1 - Yes\n",
        "2.   calss: Passenger Class (1st, 2nd, 3rd)\n",
        "3. sibsp: Number of Siblings/Spouses Abroard\n",
        "4. parch - Number of Parents/Children Aboard\n",
        "5. ticket: Ticket number\n",
        "6. fare: Passenger Fare\n",
        "7. embarked: Port of Embarkation (C=Cherbourg, Q=Queenstown, S=Southampton)\n",
        "8. boat: Lifeboat (if survived)\n",
        "9. body: Body number (if did not survive and body was recovered)\n",
        "10. home_dest: Home destination (?)\n",
        "11. name: Name of passensger which includes their title after the comma regarding gender and marital status such as Mr., Ms., .. job and position such as Col. (colonel), Dr., etc.\n",
        "\n"
      ],
      "metadata": {
        "id": "mamyvCXM4wba"
      }
    },
    {
      "cell_type": "code",
      "source": [
        "df.info()"
      ],
      "metadata": {
        "colab": {
          "base_uri": "https://localhost:8080/"
        },
        "id": "nVV5TOoDF2gs",
        "outputId": "4d0ce9ee-a01a-4533-a38e-2c53496eb7f2"
      },
      "execution_count": null,
      "outputs": [
        {
          "output_type": "stream",
          "name": "stdout",
          "text": [
            "<class 'pandas.core.frame.DataFrame'>\n",
            "RangeIndex: 1310 entries, 0 to 1309\n",
            "Data columns (total 14 columns):\n",
            " #   Column     Non-Null Count  Dtype  \n",
            "---  ------     --------------  -----  \n",
            " 0   pclass     1309 non-null   float64\n",
            " 1   survived   1309 non-null   float64\n",
            " 2   name       1309 non-null   object \n",
            " 3   sex        1309 non-null   object \n",
            " 4   age        1046 non-null   float64\n",
            " 5   sibsp      1309 non-null   float64\n",
            " 6   parch      1309 non-null   float64\n",
            " 7   ticket     1309 non-null   object \n",
            " 8   fare       1308 non-null   float64\n",
            " 9   cabin      295 non-null    object \n",
            " 10  embarked   1307 non-null   object \n",
            " 11  boat       486 non-null    object \n",
            " 12  body       121 non-null    float64\n",
            " 13  home.dest  745 non-null    object \n",
            "dtypes: float64(7), object(7)\n",
            "memory usage: 143.4+ KB\n"
          ]
        }
      ]
    },
    {
      "cell_type": "markdown",
      "source": [
        "  - Break down the dataset into X (features) and y(label) ~ to be predicted. (5 points)\\\n",
        "  Chia dữ liệu thành X (features) và y (label) cần dự đoán."
      ],
      "metadata": {
        "id": "PPZanRyOcopr"
      }
    },
    {
      "cell_type": "code",
      "source": [
        "#The last row only contains index => drop\n",
        "df=df[:-1]\n",
        "df.isnull().sum()/len(df)*100"
      ],
      "metadata": {
        "colab": {
          "base_uri": "https://localhost:8080/"
        },
        "id": "sB4mLnhHCqz3",
        "outputId": "4e07fb15-6fc2-4ca4-f0d6-e0032a7830f7"
      },
      "execution_count": null,
      "outputs": [
        {
          "output_type": "execute_result",
          "data": {
            "text/plain": [
              "pclass        0.000000\n",
              "survived      0.000000\n",
              "name          0.000000\n",
              "sex           0.000000\n",
              "age          20.091673\n",
              "sibsp         0.000000\n",
              "parch         0.000000\n",
              "ticket        0.000000\n",
              "fare          0.076394\n",
              "cabin        77.463713\n",
              "embarked      0.152788\n",
              "boat         62.872422\n",
              "body         90.756303\n",
              "home.dest    43.086325\n",
              "dtype: float64"
            ]
          },
          "metadata": {},
          "execution_count": 33
        }
      ]
    },
    {
      "cell_type": "code",
      "source": [
        "## YOUR CODE HERE ##\n",
        "X = df.drop(columns=['survived','boat'])\n",
        "y = df.survived"
      ],
      "metadata": {
        "id": "9YxnRCTCcyG6"
      },
      "execution_count": null,
      "outputs": []
    },
    {
      "cell_type": "markdown",
      "metadata": {
        "id": "WdGfMWZT-rDP"
      },
      "source": [
        "## 2. Data preprocessing (15 points)"
      ]
    },
    {
      "cell_type": "markdown",
      "metadata": {
        "id": "0DDYkjs7_nTs"
      },
      "source": [
        "Requirement:\n",
        "  - Convert the text data into numerical data.\\\n",
        "  Chuyển dữ liệu dạng chữ thành dạng số."
      ]
    },
    {
      "cell_type": "code",
      "metadata": {
        "id": "XZgG34g8ZNKS",
        "colab": {
          "base_uri": "https://localhost:8080/"
        },
        "outputId": "8b422b1b-bbf8-408f-ae12-88e7ed9d8a16"
      },
      "source": [
        "## YOUR CODE HERE ##\n",
        "df.info()\n",
        "for i in df.select_dtypes(include='object'):\n",
        "  print(i, df[i].nunique())"
      ],
      "execution_count": null,
      "outputs": [
        {
          "output_type": "stream",
          "name": "stdout",
          "text": [
            "<class 'pandas.core.frame.DataFrame'>\n",
            "RangeIndex: 1309 entries, 0 to 1308\n",
            "Data columns (total 14 columns):\n",
            " #   Column     Non-Null Count  Dtype  \n",
            "---  ------     --------------  -----  \n",
            " 0   pclass     1309 non-null   float64\n",
            " 1   survived   1309 non-null   float64\n",
            " 2   name       1309 non-null   object \n",
            " 3   sex        1309 non-null   object \n",
            " 4   age        1046 non-null   float64\n",
            " 5   sibsp      1309 non-null   float64\n",
            " 6   parch      1309 non-null   float64\n",
            " 7   ticket     1309 non-null   object \n",
            " 8   fare       1308 non-null   float64\n",
            " 9   cabin      295 non-null    object \n",
            " 10  embarked   1307 non-null   object \n",
            " 11  boat       486 non-null    object \n",
            " 12  body       121 non-null    float64\n",
            " 13  home.dest  745 non-null    object \n",
            "dtypes: float64(7), object(7)\n",
            "memory usage: 143.3+ KB\n",
            "name 1307\n",
            "sex 2\n",
            "ticket 929\n",
            "cabin 186\n",
            "embarked 3\n",
            "boat 27\n",
            "home.dest 369\n"
          ]
        }
      ]
    },
    {
      "cell_type": "markdown",
      "source": [
        "_Idea_ \\\n",
        "1. _name_ \\\n",
        "Unique name seems not useful at all => Extract only title and see if it has any contribution as the title may reflect passenger's social status and it deems to effect their chance of survive.\\\n",
        "Obtain the title by splitting name to take only string after the comma (,) and before the period (.)\n",
        "\n",
        "2. _cabin_ \\\n",
        "Cabin may have slight effect on the survival chance of the passenger. For example the nearer the cabin is to the stairs, the higher chance they may survival. \\\n",
        "But as no such information can be seen from the dataset and missing rate is fairly high => DROP this columns. \\\n",
        "Same thing happens to *'ticket', 'body', and 'home.dest'* column as they show no rational contribution.\n",
        "\n"
      ],
      "metadata": {
        "id": "xcnhdaU6S9d7"
      }
    },
    {
      "cell_type": "code",
      "source": [
        "#Obtain title column:\n",
        "df['title']=df['name'].str.split('.').str[0]\n",
        "df['title']=df['title'].str.split(', ').str[1]\n",
        "df.head()\n",
        "\n",
        "\n",
        "#Drop columns\n",
        "df.drop(columns=['name','ticket','cabin','body','home.dest'], axis=1, inplace=True)\n",
        "df.head()"
      ],
      "metadata": {
        "colab": {
          "base_uri": "https://localhost:8080/",
          "height": 206
        },
        "id": "AsabCd3673z5",
        "outputId": "4a6eaac2-32ce-4f41-b757-3e5e27b0dde4"
      },
      "execution_count": null,
      "outputs": [
        {
          "output_type": "execute_result",
          "data": {
            "text/plain": [
              "   pclass  survived     sex      age  sibsp  parch      fare embarked boat  \\\n",
              "0     1.0       1.0  female  29.0000    0.0    0.0  211.3375        S    2   \n",
              "1     1.0       1.0    male   0.9167    1.0    2.0  151.5500        S   11   \n",
              "2     1.0       0.0  female   2.0000    1.0    2.0  151.5500        S  NaN   \n",
              "3     1.0       0.0    male  30.0000    1.0    2.0  151.5500        S  NaN   \n",
              "4     1.0       0.0  female  25.0000    1.0    2.0  151.5500        S  NaN   \n",
              "\n",
              "    title  \n",
              "0    Miss  \n",
              "1  Master  \n",
              "2    Miss  \n",
              "3      Mr  \n",
              "4     Mrs  "
            ],
            "text/html": [
              "\n",
              "  <div id=\"df-7332adb1-bbd9-4fed-9610-273f28743852\">\n",
              "    <div class=\"colab-df-container\">\n",
              "      <div>\n",
              "<style scoped>\n",
              "    .dataframe tbody tr th:only-of-type {\n",
              "        vertical-align: middle;\n",
              "    }\n",
              "\n",
              "    .dataframe tbody tr th {\n",
              "        vertical-align: top;\n",
              "    }\n",
              "\n",
              "    .dataframe thead th {\n",
              "        text-align: right;\n",
              "    }\n",
              "</style>\n",
              "<table border=\"1\" class=\"dataframe\">\n",
              "  <thead>\n",
              "    <tr style=\"text-align: right;\">\n",
              "      <th></th>\n",
              "      <th>pclass</th>\n",
              "      <th>survived</th>\n",
              "      <th>sex</th>\n",
              "      <th>age</th>\n",
              "      <th>sibsp</th>\n",
              "      <th>parch</th>\n",
              "      <th>fare</th>\n",
              "      <th>embarked</th>\n",
              "      <th>boat</th>\n",
              "      <th>title</th>\n",
              "    </tr>\n",
              "  </thead>\n",
              "  <tbody>\n",
              "    <tr>\n",
              "      <th>0</th>\n",
              "      <td>1.0</td>\n",
              "      <td>1.0</td>\n",
              "      <td>female</td>\n",
              "      <td>29.0000</td>\n",
              "      <td>0.0</td>\n",
              "      <td>0.0</td>\n",
              "      <td>211.3375</td>\n",
              "      <td>S</td>\n",
              "      <td>2</td>\n",
              "      <td>Miss</td>\n",
              "    </tr>\n",
              "    <tr>\n",
              "      <th>1</th>\n",
              "      <td>1.0</td>\n",
              "      <td>1.0</td>\n",
              "      <td>male</td>\n",
              "      <td>0.9167</td>\n",
              "      <td>1.0</td>\n",
              "      <td>2.0</td>\n",
              "      <td>151.5500</td>\n",
              "      <td>S</td>\n",
              "      <td>11</td>\n",
              "      <td>Master</td>\n",
              "    </tr>\n",
              "    <tr>\n",
              "      <th>2</th>\n",
              "      <td>1.0</td>\n",
              "      <td>0.0</td>\n",
              "      <td>female</td>\n",
              "      <td>2.0000</td>\n",
              "      <td>1.0</td>\n",
              "      <td>2.0</td>\n",
              "      <td>151.5500</td>\n",
              "      <td>S</td>\n",
              "      <td>NaN</td>\n",
              "      <td>Miss</td>\n",
              "    </tr>\n",
              "    <tr>\n",
              "      <th>3</th>\n",
              "      <td>1.0</td>\n",
              "      <td>0.0</td>\n",
              "      <td>male</td>\n",
              "      <td>30.0000</td>\n",
              "      <td>1.0</td>\n",
              "      <td>2.0</td>\n",
              "      <td>151.5500</td>\n",
              "      <td>S</td>\n",
              "      <td>NaN</td>\n",
              "      <td>Mr</td>\n",
              "    </tr>\n",
              "    <tr>\n",
              "      <th>4</th>\n",
              "      <td>1.0</td>\n",
              "      <td>0.0</td>\n",
              "      <td>female</td>\n",
              "      <td>25.0000</td>\n",
              "      <td>1.0</td>\n",
              "      <td>2.0</td>\n",
              "      <td>151.5500</td>\n",
              "      <td>S</td>\n",
              "      <td>NaN</td>\n",
              "      <td>Mrs</td>\n",
              "    </tr>\n",
              "  </tbody>\n",
              "</table>\n",
              "</div>\n",
              "      <button class=\"colab-df-convert\" onclick=\"convertToInteractive('df-7332adb1-bbd9-4fed-9610-273f28743852')\"\n",
              "              title=\"Convert this dataframe to an interactive table.\"\n",
              "              style=\"display:none;\">\n",
              "        \n",
              "  <svg xmlns=\"http://www.w3.org/2000/svg\" height=\"24px\"viewBox=\"0 0 24 24\"\n",
              "       width=\"24px\">\n",
              "    <path d=\"M0 0h24v24H0V0z\" fill=\"none\"/>\n",
              "    <path d=\"M18.56 5.44l.94 2.06.94-2.06 2.06-.94-2.06-.94-.94-2.06-.94 2.06-2.06.94zm-11 1L8.5 8.5l.94-2.06 2.06-.94-2.06-.94L8.5 2.5l-.94 2.06-2.06.94zm10 10l.94 2.06.94-2.06 2.06-.94-2.06-.94-.94-2.06-.94 2.06-2.06.94z\"/><path d=\"M17.41 7.96l-1.37-1.37c-.4-.4-.92-.59-1.43-.59-.52 0-1.04.2-1.43.59L10.3 9.45l-7.72 7.72c-.78.78-.78 2.05 0 2.83L4 21.41c.39.39.9.59 1.41.59.51 0 1.02-.2 1.41-.59l7.78-7.78 2.81-2.81c.8-.78.8-2.07 0-2.86zM5.41 20L4 18.59l7.72-7.72 1.47 1.35L5.41 20z\"/>\n",
              "  </svg>\n",
              "      </button>\n",
              "      \n",
              "  <style>\n",
              "    .colab-df-container {\n",
              "      display:flex;\n",
              "      flex-wrap:wrap;\n",
              "      gap: 12px;\n",
              "    }\n",
              "\n",
              "    .colab-df-convert {\n",
              "      background-color: #E8F0FE;\n",
              "      border: none;\n",
              "      border-radius: 50%;\n",
              "      cursor: pointer;\n",
              "      display: none;\n",
              "      fill: #1967D2;\n",
              "      height: 32px;\n",
              "      padding: 0 0 0 0;\n",
              "      width: 32px;\n",
              "    }\n",
              "\n",
              "    .colab-df-convert:hover {\n",
              "      background-color: #E2EBFA;\n",
              "      box-shadow: 0px 1px 2px rgba(60, 64, 67, 0.3), 0px 1px 3px 1px rgba(60, 64, 67, 0.15);\n",
              "      fill: #174EA6;\n",
              "    }\n",
              "\n",
              "    [theme=dark] .colab-df-convert {\n",
              "      background-color: #3B4455;\n",
              "      fill: #D2E3FC;\n",
              "    }\n",
              "\n",
              "    [theme=dark] .colab-df-convert:hover {\n",
              "      background-color: #434B5C;\n",
              "      box-shadow: 0px 1px 3px 1px rgba(0, 0, 0, 0.15);\n",
              "      filter: drop-shadow(0px 1px 2px rgba(0, 0, 0, 0.3));\n",
              "      fill: #FFFFFF;\n",
              "    }\n",
              "  </style>\n",
              "\n",
              "      <script>\n",
              "        const buttonEl =\n",
              "          document.querySelector('#df-7332adb1-bbd9-4fed-9610-273f28743852 button.colab-df-convert');\n",
              "        buttonEl.style.display =\n",
              "          google.colab.kernel.accessAllowed ? 'block' : 'none';\n",
              "\n",
              "        async function convertToInteractive(key) {\n",
              "          const element = document.querySelector('#df-7332adb1-bbd9-4fed-9610-273f28743852');\n",
              "          const dataTable =\n",
              "            await google.colab.kernel.invokeFunction('convertToInteractive',\n",
              "                                                     [key], {});\n",
              "          if (!dataTable) return;\n",
              "\n",
              "          const docLinkHtml = 'Like what you see? Visit the ' +\n",
              "            '<a target=\"_blank\" href=https://colab.research.google.com/notebooks/data_table.ipynb>data table notebook</a>'\n",
              "            + ' to learn more about interactive tables.';\n",
              "          element.innerHTML = '';\n",
              "          dataTable['output_type'] = 'display_data';\n",
              "          await google.colab.output.renderOutput(dataTable, element);\n",
              "          const docLink = document.createElement('div');\n",
              "          docLink.innerHTML = docLinkHtml;\n",
              "          element.appendChild(docLink);\n",
              "        }\n",
              "      </script>\n",
              "    </div>\n",
              "  </div>\n",
              "  "
            ]
          },
          "metadata": {},
          "execution_count": 36
        }
      ]
    },
    {
      "cell_type": "code",
      "source": [
        "df.info()\n",
        "df.drop(columns=['boat'])\n",
        "for i in df.select_dtypes(include=['object']):\n",
        "  print(i, df[i].value_counts())"
      ],
      "metadata": {
        "colab": {
          "base_uri": "https://localhost:8080/"
        },
        "id": "7B1vblbrNRYV",
        "outputId": "a27640e6-2514-4f73-a5bb-a7765404995d"
      },
      "execution_count": null,
      "outputs": [
        {
          "output_type": "stream",
          "name": "stdout",
          "text": [
            "<class 'pandas.core.frame.DataFrame'>\n",
            "RangeIndex: 1309 entries, 0 to 1308\n",
            "Data columns (total 10 columns):\n",
            " #   Column    Non-Null Count  Dtype  \n",
            "---  ------    --------------  -----  \n",
            " 0   pclass    1309 non-null   float64\n",
            " 1   survived  1309 non-null   float64\n",
            " 2   sex       1309 non-null   object \n",
            " 3   age       1046 non-null   float64\n",
            " 4   sibsp     1309 non-null   float64\n",
            " 5   parch     1309 non-null   float64\n",
            " 6   fare      1308 non-null   float64\n",
            " 7   embarked  1307 non-null   object \n",
            " 8   boat      486 non-null    object \n",
            " 9   title     1309 non-null   object \n",
            "dtypes: float64(6), object(4)\n",
            "memory usage: 102.4+ KB\n",
            "sex male      843\n",
            "female    466\n",
            "Name: sex, dtype: int64\n",
            "embarked S    914\n",
            "C    270\n",
            "Q    123\n",
            "Name: embarked, dtype: int64\n",
            "boat 13         39\n",
            "C          38\n",
            "15         37\n",
            "14         33\n",
            "4          31\n",
            "10         29\n",
            "5          27\n",
            "3          26\n",
            "9          25\n",
            "11         25\n",
            "16         23\n",
            "8          23\n",
            "7          23\n",
            "D          20\n",
            "6          20\n",
            "12         19\n",
            "2          13\n",
            "A          11\n",
            "B           9\n",
            "1           5\n",
            "5 7         2\n",
            "C D         2\n",
            "13 15       2\n",
            "5 9         1\n",
            "8 10        1\n",
            "13 15 B     1\n",
            "15 16       1\n",
            "Name: boat, dtype: int64\n",
            "title Mr              757\n",
            "Miss            260\n",
            "Mrs             197\n",
            "Master           61\n",
            "Rev               8\n",
            "Dr                8\n",
            "Col               4\n",
            "Mlle              2\n",
            "Ms                2\n",
            "Major             2\n",
            "Capt              1\n",
            "Sir               1\n",
            "Dona              1\n",
            "Jonkheer          1\n",
            "the Countess      1\n",
            "Don               1\n",
            "Mme               1\n",
            "Lady              1\n",
            "Name: title, dtype: int64\n"
          ]
        }
      ]
    },
    {
      "cell_type": "markdown",
      "source": [
        "#### Ideas for encoding:\n",
        "\n",
        "\n",
        "1.   __boat__ \\\n",
        "is an ambiguous column: this colum shows number of life boats avaible or code name of the boat?\n",
        "As the analysist (a.k.a me) can not find any desription of this column \\\n",
        "=> The Analysist will *assign 1 for non-null and 0 for NA*\n",
        "\n",
        "2. __embarked__ \\\n",
        "Encoded by pd.get_dummies\n",
        "\n",
        "3. __title__ \\\n",
        "* There are some titles that specify passengers' high social status like: the Countess, Jonkheer, Sir, etc. => Group them into one category called \"Noble\"\n",
        "* Some categories seem mispelling or inconsistent: Mlle, Mme \\\n",
        "_Note: the catergorization is relatively acceptable only as I have limited knowledge in this field. \\\n",
        "(Oh gosh it was like a Western history class now_  ㅠㅠ)\n",
        "* As per above assumption, __title__ should be encoded as an ordinal catergorical variable. \n",
        "4. __pclass__\\\n",
        "has d_type as float but it's actually a ordinal catergorical variable => Let it be"
      ],
      "metadata": {
        "id": "3klBNVthR2a7"
      }
    },
    {
      "cell_type": "code",
      "source": [
        "#ENCODING: 4 columns that need to be encoded: sex, embarked, boat, title.\n",
        "\n",
        "#Encoding gender\n",
        "df['sex']=df.sex.apply(lambda x:0 if x=='female' else 1)\n",
        "\n",
        "#Encoding boat\n",
        "#boat is an ambiguous column: this colum shows number of life boats avaible or code name of the boat?\n",
        "#as the analysist (a.k.a me) can not find any desription of this column\n",
        "#=> The Analysist will assign 1 for non-null and 0 for NA\n",
        "#df['boat']=df['boat'].notnull().astype(int)\n",
        "#df.head()\n"
      ],
      "metadata": {
        "id": "YTah0-0kIrO7"
      },
      "execution_count": null,
      "outputs": []
    },
    {
      "cell_type": "code",
      "source": [
        "#Encode title\n",
        "\n",
        "#Show number of survivals/total number of people grouped by their title.\n",
        "df.groupby(['title']).mean().sort_values(['survived'], ascending=False)['survived']"
      ],
      "metadata": {
        "colab": {
          "base_uri": "https://localhost:8080/"
        },
        "id": "2dCG69kUYqhQ",
        "outputId": "ba9d0a63-0ab0-4b91-d0d1-865807b40aca"
      },
      "execution_count": null,
      "outputs": [
        {
          "output_type": "execute_result",
          "data": {
            "text/plain": [
              "title\n",
              "the Countess    1.000000\n",
              "Mlle            1.000000\n",
              "Sir             1.000000\n",
              "Dona            1.000000\n",
              "Mme             1.000000\n",
              "Lady            1.000000\n",
              "Mrs             0.786802\n",
              "Miss            0.676923\n",
              "Master          0.508197\n",
              "Col             0.500000\n",
              "Major           0.500000\n",
              "Dr              0.500000\n",
              "Ms              0.500000\n",
              "Mr              0.162483\n",
              "Jonkheer        0.000000\n",
              "Rev             0.000000\n",
              "Don             0.000000\n",
              "Capt            0.000000\n",
              "Name: survived, dtype: float64"
            ]
          },
          "metadata": {},
          "execution_count": 39
        }
      ]
    },
    {
      "cell_type": "markdown",
      "source": [
        "From the above mean (number of survivors divided by total number of people belong to the title group) the Analysist assume the survival chance related to title as: \\\n",
        "Man: 1 \\\n",
        "Master: 2 \\\n",
        "Miss: 3 \\\n",
        "Mrs: 4 \\\n",
        "Noble: 5"
      ],
      "metadata": {
        "id": "m6FHvzL5e4WN"
      }
    },
    {
      "cell_type": "code",
      "source": [
        "df['title_']=df['title']\n",
        "df['title_']=df['title_'].replace(['the Countess', 'Dona', 'Lady', 'Col', 'Capt', 'Dr', 'Jonkheer',\n",
        "                                 'Rev', 'Don', 'Sir', 'Major'], 'Noble')\n",
        "df['title_'] = df['title_'].replace({'Mlle': 'Miss', 'Ms': 'Miss', 'Mme': 'Mrs'})\n",
        "df.title_.value_counts()\n",
        "#df.groupby(['title_']).mean().sort_values(['survived'], ascending=False)['survived']"
      ],
      "metadata": {
        "colab": {
          "base_uri": "https://localhost:8080/"
        },
        "id": "DuX1fzfLfeG4",
        "outputId": "e836799f-f1c4-465a-fbca-8ff3f14e16ec"
      },
      "execution_count": null,
      "outputs": [
        {
          "output_type": "execute_result",
          "data": {
            "text/plain": [
              "Mr        757\n",
              "Miss      264\n",
              "Mrs       198\n",
              "Master     61\n",
              "Noble      29\n",
              "Name: title_, dtype: int64"
            ]
          },
          "metadata": {},
          "execution_count": 40
        }
      ]
    },
    {
      "cell_type": "code",
      "source": [
        "df['title_'] = df.title_.map({'Mr':1, 'Miss':3, 'Mrs':4, 'Master': 2, 'Noble': 5})\n",
        "df.head()"
      ],
      "metadata": {
        "colab": {
          "base_uri": "https://localhost:8080/",
          "height": 206
        },
        "id": "adxsMVtVhIEQ",
        "outputId": "67e03a45-7d3f-46fb-ae8d-f42c7d15f167"
      },
      "execution_count": null,
      "outputs": [
        {
          "output_type": "execute_result",
          "data": {
            "text/plain": [
              "   pclass  survived  sex      age  sibsp  parch      fare embarked boat  \\\n",
              "0     1.0       1.0    0  29.0000    0.0    0.0  211.3375        S    2   \n",
              "1     1.0       1.0    1   0.9167    1.0    2.0  151.5500        S   11   \n",
              "2     1.0       0.0    0   2.0000    1.0    2.0  151.5500        S  NaN   \n",
              "3     1.0       0.0    1  30.0000    1.0    2.0  151.5500        S  NaN   \n",
              "4     1.0       0.0    0  25.0000    1.0    2.0  151.5500        S  NaN   \n",
              "\n",
              "    title  title_  \n",
              "0    Miss       3  \n",
              "1  Master       2  \n",
              "2    Miss       3  \n",
              "3      Mr       1  \n",
              "4     Mrs       4  "
            ],
            "text/html": [
              "\n",
              "  <div id=\"df-09894d0b-7e10-4fc9-9143-077fa9a50ec9\">\n",
              "    <div class=\"colab-df-container\">\n",
              "      <div>\n",
              "<style scoped>\n",
              "    .dataframe tbody tr th:only-of-type {\n",
              "        vertical-align: middle;\n",
              "    }\n",
              "\n",
              "    .dataframe tbody tr th {\n",
              "        vertical-align: top;\n",
              "    }\n",
              "\n",
              "    .dataframe thead th {\n",
              "        text-align: right;\n",
              "    }\n",
              "</style>\n",
              "<table border=\"1\" class=\"dataframe\">\n",
              "  <thead>\n",
              "    <tr style=\"text-align: right;\">\n",
              "      <th></th>\n",
              "      <th>pclass</th>\n",
              "      <th>survived</th>\n",
              "      <th>sex</th>\n",
              "      <th>age</th>\n",
              "      <th>sibsp</th>\n",
              "      <th>parch</th>\n",
              "      <th>fare</th>\n",
              "      <th>embarked</th>\n",
              "      <th>boat</th>\n",
              "      <th>title</th>\n",
              "      <th>title_</th>\n",
              "    </tr>\n",
              "  </thead>\n",
              "  <tbody>\n",
              "    <tr>\n",
              "      <th>0</th>\n",
              "      <td>1.0</td>\n",
              "      <td>1.0</td>\n",
              "      <td>0</td>\n",
              "      <td>29.0000</td>\n",
              "      <td>0.0</td>\n",
              "      <td>0.0</td>\n",
              "      <td>211.3375</td>\n",
              "      <td>S</td>\n",
              "      <td>2</td>\n",
              "      <td>Miss</td>\n",
              "      <td>3</td>\n",
              "    </tr>\n",
              "    <tr>\n",
              "      <th>1</th>\n",
              "      <td>1.0</td>\n",
              "      <td>1.0</td>\n",
              "      <td>1</td>\n",
              "      <td>0.9167</td>\n",
              "      <td>1.0</td>\n",
              "      <td>2.0</td>\n",
              "      <td>151.5500</td>\n",
              "      <td>S</td>\n",
              "      <td>11</td>\n",
              "      <td>Master</td>\n",
              "      <td>2</td>\n",
              "    </tr>\n",
              "    <tr>\n",
              "      <th>2</th>\n",
              "      <td>1.0</td>\n",
              "      <td>0.0</td>\n",
              "      <td>0</td>\n",
              "      <td>2.0000</td>\n",
              "      <td>1.0</td>\n",
              "      <td>2.0</td>\n",
              "      <td>151.5500</td>\n",
              "      <td>S</td>\n",
              "      <td>NaN</td>\n",
              "      <td>Miss</td>\n",
              "      <td>3</td>\n",
              "    </tr>\n",
              "    <tr>\n",
              "      <th>3</th>\n",
              "      <td>1.0</td>\n",
              "      <td>0.0</td>\n",
              "      <td>1</td>\n",
              "      <td>30.0000</td>\n",
              "      <td>1.0</td>\n",
              "      <td>2.0</td>\n",
              "      <td>151.5500</td>\n",
              "      <td>S</td>\n",
              "      <td>NaN</td>\n",
              "      <td>Mr</td>\n",
              "      <td>1</td>\n",
              "    </tr>\n",
              "    <tr>\n",
              "      <th>4</th>\n",
              "      <td>1.0</td>\n",
              "      <td>0.0</td>\n",
              "      <td>0</td>\n",
              "      <td>25.0000</td>\n",
              "      <td>1.0</td>\n",
              "      <td>2.0</td>\n",
              "      <td>151.5500</td>\n",
              "      <td>S</td>\n",
              "      <td>NaN</td>\n",
              "      <td>Mrs</td>\n",
              "      <td>4</td>\n",
              "    </tr>\n",
              "  </tbody>\n",
              "</table>\n",
              "</div>\n",
              "      <button class=\"colab-df-convert\" onclick=\"convertToInteractive('df-09894d0b-7e10-4fc9-9143-077fa9a50ec9')\"\n",
              "              title=\"Convert this dataframe to an interactive table.\"\n",
              "              style=\"display:none;\">\n",
              "        \n",
              "  <svg xmlns=\"http://www.w3.org/2000/svg\" height=\"24px\"viewBox=\"0 0 24 24\"\n",
              "       width=\"24px\">\n",
              "    <path d=\"M0 0h24v24H0V0z\" fill=\"none\"/>\n",
              "    <path d=\"M18.56 5.44l.94 2.06.94-2.06 2.06-.94-2.06-.94-.94-2.06-.94 2.06-2.06.94zm-11 1L8.5 8.5l.94-2.06 2.06-.94-2.06-.94L8.5 2.5l-.94 2.06-2.06.94zm10 10l.94 2.06.94-2.06 2.06-.94-2.06-.94-.94-2.06-.94 2.06-2.06.94z\"/><path d=\"M17.41 7.96l-1.37-1.37c-.4-.4-.92-.59-1.43-.59-.52 0-1.04.2-1.43.59L10.3 9.45l-7.72 7.72c-.78.78-.78 2.05 0 2.83L4 21.41c.39.39.9.59 1.41.59.51 0 1.02-.2 1.41-.59l7.78-7.78 2.81-2.81c.8-.78.8-2.07 0-2.86zM5.41 20L4 18.59l7.72-7.72 1.47 1.35L5.41 20z\"/>\n",
              "  </svg>\n",
              "      </button>\n",
              "      \n",
              "  <style>\n",
              "    .colab-df-container {\n",
              "      display:flex;\n",
              "      flex-wrap:wrap;\n",
              "      gap: 12px;\n",
              "    }\n",
              "\n",
              "    .colab-df-convert {\n",
              "      background-color: #E8F0FE;\n",
              "      border: none;\n",
              "      border-radius: 50%;\n",
              "      cursor: pointer;\n",
              "      display: none;\n",
              "      fill: #1967D2;\n",
              "      height: 32px;\n",
              "      padding: 0 0 0 0;\n",
              "      width: 32px;\n",
              "    }\n",
              "\n",
              "    .colab-df-convert:hover {\n",
              "      background-color: #E2EBFA;\n",
              "      box-shadow: 0px 1px 2px rgba(60, 64, 67, 0.3), 0px 1px 3px 1px rgba(60, 64, 67, 0.15);\n",
              "      fill: #174EA6;\n",
              "    }\n",
              "\n",
              "    [theme=dark] .colab-df-convert {\n",
              "      background-color: #3B4455;\n",
              "      fill: #D2E3FC;\n",
              "    }\n",
              "\n",
              "    [theme=dark] .colab-df-convert:hover {\n",
              "      background-color: #434B5C;\n",
              "      box-shadow: 0px 1px 3px 1px rgba(0, 0, 0, 0.15);\n",
              "      filter: drop-shadow(0px 1px 2px rgba(0, 0, 0, 0.3));\n",
              "      fill: #FFFFFF;\n",
              "    }\n",
              "  </style>\n",
              "\n",
              "      <script>\n",
              "        const buttonEl =\n",
              "          document.querySelector('#df-09894d0b-7e10-4fc9-9143-077fa9a50ec9 button.colab-df-convert');\n",
              "        buttonEl.style.display =\n",
              "          google.colab.kernel.accessAllowed ? 'block' : 'none';\n",
              "\n",
              "        async function convertToInteractive(key) {\n",
              "          const element = document.querySelector('#df-09894d0b-7e10-4fc9-9143-077fa9a50ec9');\n",
              "          const dataTable =\n",
              "            await google.colab.kernel.invokeFunction('convertToInteractive',\n",
              "                                                     [key], {});\n",
              "          if (!dataTable) return;\n",
              "\n",
              "          const docLinkHtml = 'Like what you see? Visit the ' +\n",
              "            '<a target=\"_blank\" href=https://colab.research.google.com/notebooks/data_table.ipynb>data table notebook</a>'\n",
              "            + ' to learn more about interactive tables.';\n",
              "          element.innerHTML = '';\n",
              "          dataTable['output_type'] = 'display_data';\n",
              "          await google.colab.output.renderOutput(dataTable, element);\n",
              "          const docLink = document.createElement('div');\n",
              "          docLink.innerHTML = docLinkHtml;\n",
              "          element.appendChild(docLink);\n",
              "        }\n",
              "      </script>\n",
              "    </div>\n",
              "  </div>\n",
              "  "
            ]
          },
          "metadata": {},
          "execution_count": 41
        }
      ]
    },
    {
      "cell_type": "code",
      "source": [
        "#Encode embarked:\n",
        "\n",
        "df_2=pd.get_dummies(df, columns=['embarked'], drop_first= True)\n",
        "\n",
        "df_2.drop(columns=['boat'])\n",
        "df_2.info()"
      ],
      "metadata": {
        "colab": {
          "base_uri": "https://localhost:8080/"
        },
        "id": "C7fRwnE4jJ8u",
        "outputId": "c3643f8f-3b7f-4bbe-cd85-78cbda16c4e9"
      },
      "execution_count": null,
      "outputs": [
        {
          "output_type": "stream",
          "name": "stdout",
          "text": [
            "<class 'pandas.core.frame.DataFrame'>\n",
            "RangeIndex: 1309 entries, 0 to 1308\n",
            "Data columns (total 12 columns):\n",
            " #   Column      Non-Null Count  Dtype  \n",
            "---  ------      --------------  -----  \n",
            " 0   pclass      1309 non-null   float64\n",
            " 1   survived    1309 non-null   float64\n",
            " 2   sex         1309 non-null   int64  \n",
            " 3   age         1046 non-null   float64\n",
            " 4   sibsp       1309 non-null   float64\n",
            " 5   parch       1309 non-null   float64\n",
            " 6   fare        1308 non-null   float64\n",
            " 7   boat        486 non-null    object \n",
            " 8   title       1309 non-null   object \n",
            " 9   title_      1309 non-null   int64  \n",
            " 10  embarked_Q  1309 non-null   uint8  \n",
            " 11  embarked_S  1309 non-null   uint8  \n",
            "dtypes: float64(6), int64(2), object(2), uint8(2)\n",
            "memory usage: 104.9+ KB\n"
          ]
        }
      ]
    },
    {
      "cell_type": "code",
      "source": [
        "#Impute numeric Nan value with mean;\n",
        "for i in df_2[['age','fare']]:\n",
        "  df_2[i].fillna(df_2[i].mean(), inplace=True)\n",
        "  \n",
        "df_2.drop(columns=['boat'], inplace= True)\n",
        "df_2.info()\n",
        "\n"
      ],
      "metadata": {
        "colab": {
          "base_uri": "https://localhost:8080/"
        },
        "id": "4RlYEEj6ozr0",
        "outputId": "23f7fdc1-bf82-45b4-9981-61ecfbb19051"
      },
      "execution_count": null,
      "outputs": [
        {
          "output_type": "stream",
          "name": "stdout",
          "text": [
            "<class 'pandas.core.frame.DataFrame'>\n",
            "RangeIndex: 1309 entries, 0 to 1308\n",
            "Data columns (total 11 columns):\n",
            " #   Column      Non-Null Count  Dtype  \n",
            "---  ------      --------------  -----  \n",
            " 0   pclass      1309 non-null   float64\n",
            " 1   survived    1309 non-null   float64\n",
            " 2   sex         1309 non-null   int64  \n",
            " 3   age         1309 non-null   float64\n",
            " 4   sibsp       1309 non-null   float64\n",
            " 5   parch       1309 non-null   float64\n",
            " 6   fare        1309 non-null   float64\n",
            " 7   title       1309 non-null   object \n",
            " 8   title_      1309 non-null   int64  \n",
            " 9   embarked_Q  1309 non-null   uint8  \n",
            " 10  embarked_S  1309 non-null   uint8  \n",
            "dtypes: float64(6), int64(2), object(1), uint8(2)\n",
            "memory usage: 94.7+ KB\n"
          ]
        }
      ]
    },
    {
      "cell_type": "markdown",
      "metadata": {
        "id": "BRabSrujJ44t"
      },
      "source": [
        "## 3. Train (25 points)\n",
        "\n",
        "Requirement:\n",
        "- Split the dataset into train & test sets. (5 points)\\\n",
        "Chia dữ liệu thành 2 tập train và test."
      ]
    },
    {
      "cell_type": "code",
      "source": [
        "## YOUR CODE HERE ##\n",
        "test_size_ratio = 0.3\n",
        "X_train, X_test, y_train, y_test = train_test_split(df_2.drop(columns=['survived', 'title']), df_2.survived,\n",
        "                                                    test_size=test_size_ratio, random_state=1)"
      ],
      "metadata": {
        "id": "01eFPht5xqVR"
      },
      "execution_count": null,
      "outputs": []
    },
    {
      "cell_type": "markdown",
      "source": [
        "Requirement:\n",
        "- Train a Decision tree classifier on the train set. (20 points)\\\n",
        "Dùng decision tree để học dữ liệu train."
      ],
      "metadata": {
        "id": "-Ze95HrMdNuY"
      }
    },
    {
      "cell_type": "code",
      "metadata": {
        "id": "M63dmbW_6Oih"
      },
      "source": [
        "## YOUR CODE HERE ##\n",
        "DT_classifier = DecisionTreeClassifier().fit(X_train, y_train)"
      ],
      "execution_count": null,
      "outputs": []
    },
    {
      "cell_type": "markdown",
      "metadata": {
        "id": "dFQU_kP5KHxG"
      },
      "source": [
        "## 4. Predict & Test (30 points)\n",
        "Requirement:\n",
        "- Use the trained decision tree classifier to make predictions on the test set. (15 points)\\\n",
        "Dùng decision tree để dự đoán dữ liệu test."
      ]
    },
    {
      "cell_type": "code",
      "metadata": {
        "id": "YLG_LoFS_x13"
      },
      "source": [
        "## YOUR CODE HERE ##\n",
        "y_pred = DT_classifier.predict(X_test)\n"
      ],
      "execution_count": null,
      "outputs": []
    },
    {
      "cell_type": "markdown",
      "source": [
        "Requirement:\n",
        "- Evaluate the predictions.\\\n",
        "Đo lường kết quả của mô hình. (15 points)"
      ],
      "metadata": {
        "id": "LiBhfwF2deg-"
      }
    },
    {
      "cell_type": "code",
      "source": [
        "## YOUR CODE HERE ##\n",
        "from sklearn.metrics import accuracy_score, precision_score, f1_score, recall_score\n",
        "\n",
        "print(accuracy_score(y_test, y_pred))\n",
        "print(precision_score(y_test, y_pred))\n",
        "print(recall_score(y_test, y_pred))\n",
        "print(f1_score(y_test, y_pred))"
      ],
      "metadata": {
        "id": "nAb_t0TPdjzt",
        "colab": {
          "base_uri": "https://localhost:8080/"
        },
        "outputId": "4efd74b6-d1b8-4b70-dc4c-831bba59081c"
      },
      "execution_count": null,
      "outputs": [
        {
          "output_type": "stream",
          "name": "stdout",
          "text": [
            "0.732824427480916\n",
            "0.6666666666666666\n",
            "0.6624203821656051\n",
            "0.6645367412140575\n"
          ]
        }
      ]
    },
    {
      "cell_type": "markdown",
      "metadata": {
        "id": "KC6yX2RcEGXw"
      },
      "source": [
        "## 5. (Advanced topics) Analysis (20 points)\n",
        "Requirement:\n",
        "- Adjust some hyperparameters of the decision tree classifier (max_depth, min_sample_split) to improve the performance further. (10 points)\\\n",
        "Thử thay đổi các yếu tố trong decision trê để tìm ra mô hình tối ưu (max_depth, min_sample_split).\n"
      ]
    },
    {
      "cell_type": "code",
      "metadata": {
        "id": "8eJ4jnZPEbdA",
        "colab": {
          "base_uri": "https://localhost:8080/"
        },
        "outputId": "1385d798-05b1-48ad-e173-ca711034c3fe"
      },
      "source": [
        "## YOUR CODE HERE ##\n",
        "from sklearn.model_selection import GridSearchCV \n",
        "\n",
        "params ={'max_depth': [2,50] , 'min_samples_split':[2,3,4,5]}\n",
        "\n",
        "gridsearch = GridSearchCV(estimator = DecisionTreeClassifier(random_state=1),\n",
        "             param_grid = params, verbose=4)\n",
        "\n",
        "gridsearch.fit(X_train, y_train)"
      ],
      "execution_count": null,
      "outputs": [
        {
          "output_type": "stream",
          "name": "stdout",
          "text": [
            "Fitting 5 folds for each of 8 candidates, totalling 40 fits\n",
            "[CV 1/5] END ..max_depth=2, min_samples_split=2;, score=0.788 total time=   0.0s\n",
            "[CV 2/5] END ..max_depth=2, min_samples_split=2;, score=0.814 total time=   0.0s\n",
            "[CV 3/5] END ..max_depth=2, min_samples_split=2;, score=0.792 total time=   0.0s\n",
            "[CV 4/5] END ..max_depth=2, min_samples_split=2;, score=0.792 total time=   0.0s\n",
            "[CV 5/5] END ..max_depth=2, min_samples_split=2;, score=0.754 total time=   0.0s\n",
            "[CV 1/5] END ..max_depth=2, min_samples_split=3;, score=0.788 total time=   0.0s\n",
            "[CV 2/5] END ..max_depth=2, min_samples_split=3;, score=0.814 total time=   0.0s\n",
            "[CV 3/5] END ..max_depth=2, min_samples_split=3;, score=0.792 total time=   0.0s\n",
            "[CV 4/5] END ..max_depth=2, min_samples_split=3;, score=0.792 total time=   0.0s\n",
            "[CV 5/5] END ..max_depth=2, min_samples_split=3;, score=0.754 total time=   0.0s\n",
            "[CV 1/5] END ..max_depth=2, min_samples_split=4;, score=0.788 total time=   0.0s\n",
            "[CV 2/5] END ..max_depth=2, min_samples_split=4;, score=0.814 total time=   0.0s\n",
            "[CV 3/5] END ..max_depth=2, min_samples_split=4;, score=0.792 total time=   0.0s\n",
            "[CV 4/5] END ..max_depth=2, min_samples_split=4;, score=0.792 total time=   0.0s\n",
            "[CV 5/5] END ..max_depth=2, min_samples_split=4;, score=0.754 total time=   0.0s\n",
            "[CV 1/5] END ..max_depth=2, min_samples_split=5;, score=0.788 total time=   0.0s\n",
            "[CV 2/5] END ..max_depth=2, min_samples_split=5;, score=0.814 total time=   0.0s\n",
            "[CV 3/5] END ..max_depth=2, min_samples_split=5;, score=0.792 total time=   0.0s\n",
            "[CV 4/5] END ..max_depth=2, min_samples_split=5;, score=0.792 total time=   0.0s\n",
            "[CV 5/5] END ..max_depth=2, min_samples_split=5;, score=0.754 total time=   0.0s\n",
            "[CV 1/5] END .max_depth=50, min_samples_split=2;, score=0.788 total time=   0.0s\n",
            "[CV 2/5] END .max_depth=50, min_samples_split=2;, score=0.770 total time=   0.0s\n",
            "[CV 3/5] END .max_depth=50, min_samples_split=2;, score=0.760 total time=   0.0s\n",
            "[CV 4/5] END .max_depth=50, min_samples_split=2;, score=0.727 total time=   0.0s\n",
            "[CV 5/5] END .max_depth=50, min_samples_split=2;, score=0.760 total time=   0.0s\n",
            "[CV 1/5] END .max_depth=50, min_samples_split=3;, score=0.777 total time=   0.0s\n",
            "[CV 2/5] END .max_depth=50, min_samples_split=3;, score=0.770 total time=   0.0s\n",
            "[CV 3/5] END .max_depth=50, min_samples_split=3;, score=0.760 total time=   0.0s\n",
            "[CV 4/5] END .max_depth=50, min_samples_split=3;, score=0.727 total time=   0.0s\n",
            "[CV 5/5] END .max_depth=50, min_samples_split=3;, score=0.787 total time=   0.0s\n",
            "[CV 1/5] END .max_depth=50, min_samples_split=4;, score=0.793 total time=   0.0s\n",
            "[CV 2/5] END .max_depth=50, min_samples_split=4;, score=0.776 total time=   0.0s\n",
            "[CV 3/5] END .max_depth=50, min_samples_split=4;, score=0.749 total time=   0.0s\n",
            "[CV 4/5] END .max_depth=50, min_samples_split=4;, score=0.738 total time=   0.0s\n",
            "[CV 5/5] END .max_depth=50, min_samples_split=4;, score=0.781 total time=   0.0s\n",
            "[CV 1/5] END .max_depth=50, min_samples_split=5;, score=0.793 total time=   0.0s\n",
            "[CV 2/5] END .max_depth=50, min_samples_split=5;, score=0.798 total time=   0.0s\n",
            "[CV 3/5] END .max_depth=50, min_samples_split=5;, score=0.754 total time=   0.0s\n",
            "[CV 4/5] END .max_depth=50, min_samples_split=5;, score=0.727 total time=   0.0s\n",
            "[CV 5/5] END .max_depth=50, min_samples_split=5;, score=0.798 total time=   0.0s\n"
          ]
        },
        {
          "output_type": "execute_result",
          "data": {
            "text/plain": [
              "GridSearchCV(estimator=DecisionTreeClassifier(random_state=1),\n",
              "             param_grid={'max_depth': [2, 50],\n",
              "                         'min_samples_split': [2, 3, 4, 5]},\n",
              "             verbose=4)"
            ]
          },
          "metadata": {},
          "execution_count": 48
        }
      ]
    },
    {
      "cell_type": "code",
      "source": [
        "model_2=DecisionTreeClassifier(max_depth=2, min_samples_split=2).fit(X_train, y_train)\n",
        "y_pred = model_2.predict(X_test)\n",
        "print(accuracy_score(y_test, y_pred))\n",
        "print(precision_score(y_test, y_pred))\n",
        "print(recall_score(y_test, y_pred))\n",
        "print(f1_score(y_test, y_pred))"
      ],
      "metadata": {
        "colab": {
          "base_uri": "https://localhost:8080/"
        },
        "id": "UgVxTFxRbKoB",
        "outputId": "bf3a917e-c0ed-47eb-cb17-49f668a0437d"
      },
      "execution_count": null,
      "outputs": [
        {
          "output_type": "stream",
          "name": "stdout",
          "text": [
            "0.7760814249363868\n",
            "0.896551724137931\n",
            "0.4968152866242038\n",
            "0.639344262295082\n"
          ]
        }
      ]
    },
    {
      "cell_type": "code",
      "source": [
        ""
      ],
      "metadata": {
        "id": "obvc5IJvbKrK"
      },
      "execution_count": null,
      "outputs": []
    },
    {
      "cell_type": "markdown",
      "source": [
        "**Conclution:** From the above result => Select max_depth = 2, min_samples_split = 2 as this combination produce highest score with lowest computational cost."
      ],
      "metadata": {
        "id": "pZKbe2QTLazN"
      }
    },
    {
      "cell_type": "markdown",
      "source": [
        "Requirement:\n",
        "- Estimate the feature importance and identify the features that are the most influential to the prediction of whether a passenger survives. (5 points)\\\n",
        "Tính feature importance và tìm ra các features nào ảnh hưởng lớn nhất đến việc dự đoán xem một hành khách có sống sót hay không."
      ],
      "metadata": {
        "id": "qRN3tT9wfhSD"
      }
    },
    {
      "cell_type": "code",
      "source": [
        "## YOUR CODE HERE ##\n",
        "\n",
        "importance = DT_classifier.feature_importances_\n",
        "importance_df = pd.DataFrame(list(zip(X_train.columns,importance)), \n",
        "                             columns = ['Feauture', 'Importance Score'])\n",
        "importance_df.sort_values(['Importance Score'], ascending = False)"
      ],
      "metadata": {
        "id": "N7aFj7LMf5dg",
        "colab": {
          "base_uri": "https://localhost:8080/",
          "height": 332
        },
        "outputId": "b08a1de9-e8ce-47e6-f6e4-39e6e5636fc2"
      },
      "execution_count": null,
      "outputs": [
        {
          "output_type": "execute_result",
          "data": {
            "text/plain": [
              "     Feauture  Importance Score\n",
              "6      title_          0.325742\n",
              "5        fare          0.262309\n",
              "2         age          0.226833\n",
              "0      pclass          0.108632\n",
              "4       parch          0.024532\n",
              "3       sibsp          0.023846\n",
              "8  embarked_S          0.013494\n",
              "7  embarked_Q          0.013487\n",
              "1         sex          0.001125"
            ],
            "text/html": [
              "\n",
              "  <div id=\"df-009709e3-4ddd-4a42-95b4-9079d0f3adad\">\n",
              "    <div class=\"colab-df-container\">\n",
              "      <div>\n",
              "<style scoped>\n",
              "    .dataframe tbody tr th:only-of-type {\n",
              "        vertical-align: middle;\n",
              "    }\n",
              "\n",
              "    .dataframe tbody tr th {\n",
              "        vertical-align: top;\n",
              "    }\n",
              "\n",
              "    .dataframe thead th {\n",
              "        text-align: right;\n",
              "    }\n",
              "</style>\n",
              "<table border=\"1\" class=\"dataframe\">\n",
              "  <thead>\n",
              "    <tr style=\"text-align: right;\">\n",
              "      <th></th>\n",
              "      <th>Feauture</th>\n",
              "      <th>Importance Score</th>\n",
              "    </tr>\n",
              "  </thead>\n",
              "  <tbody>\n",
              "    <tr>\n",
              "      <th>6</th>\n",
              "      <td>title_</td>\n",
              "      <td>0.325742</td>\n",
              "    </tr>\n",
              "    <tr>\n",
              "      <th>5</th>\n",
              "      <td>fare</td>\n",
              "      <td>0.262309</td>\n",
              "    </tr>\n",
              "    <tr>\n",
              "      <th>2</th>\n",
              "      <td>age</td>\n",
              "      <td>0.226833</td>\n",
              "    </tr>\n",
              "    <tr>\n",
              "      <th>0</th>\n",
              "      <td>pclass</td>\n",
              "      <td>0.108632</td>\n",
              "    </tr>\n",
              "    <tr>\n",
              "      <th>4</th>\n",
              "      <td>parch</td>\n",
              "      <td>0.024532</td>\n",
              "    </tr>\n",
              "    <tr>\n",
              "      <th>3</th>\n",
              "      <td>sibsp</td>\n",
              "      <td>0.023846</td>\n",
              "    </tr>\n",
              "    <tr>\n",
              "      <th>8</th>\n",
              "      <td>embarked_S</td>\n",
              "      <td>0.013494</td>\n",
              "    </tr>\n",
              "    <tr>\n",
              "      <th>7</th>\n",
              "      <td>embarked_Q</td>\n",
              "      <td>0.013487</td>\n",
              "    </tr>\n",
              "    <tr>\n",
              "      <th>1</th>\n",
              "      <td>sex</td>\n",
              "      <td>0.001125</td>\n",
              "    </tr>\n",
              "  </tbody>\n",
              "</table>\n",
              "</div>\n",
              "      <button class=\"colab-df-convert\" onclick=\"convertToInteractive('df-009709e3-4ddd-4a42-95b4-9079d0f3adad')\"\n",
              "              title=\"Convert this dataframe to an interactive table.\"\n",
              "              style=\"display:none;\">\n",
              "        \n",
              "  <svg xmlns=\"http://www.w3.org/2000/svg\" height=\"24px\"viewBox=\"0 0 24 24\"\n",
              "       width=\"24px\">\n",
              "    <path d=\"M0 0h24v24H0V0z\" fill=\"none\"/>\n",
              "    <path d=\"M18.56 5.44l.94 2.06.94-2.06 2.06-.94-2.06-.94-.94-2.06-.94 2.06-2.06.94zm-11 1L8.5 8.5l.94-2.06 2.06-.94-2.06-.94L8.5 2.5l-.94 2.06-2.06.94zm10 10l.94 2.06.94-2.06 2.06-.94-2.06-.94-.94-2.06-.94 2.06-2.06.94z\"/><path d=\"M17.41 7.96l-1.37-1.37c-.4-.4-.92-.59-1.43-.59-.52 0-1.04.2-1.43.59L10.3 9.45l-7.72 7.72c-.78.78-.78 2.05 0 2.83L4 21.41c.39.39.9.59 1.41.59.51 0 1.02-.2 1.41-.59l7.78-7.78 2.81-2.81c.8-.78.8-2.07 0-2.86zM5.41 20L4 18.59l7.72-7.72 1.47 1.35L5.41 20z\"/>\n",
              "  </svg>\n",
              "      </button>\n",
              "      \n",
              "  <style>\n",
              "    .colab-df-container {\n",
              "      display:flex;\n",
              "      flex-wrap:wrap;\n",
              "      gap: 12px;\n",
              "    }\n",
              "\n",
              "    .colab-df-convert {\n",
              "      background-color: #E8F0FE;\n",
              "      border: none;\n",
              "      border-radius: 50%;\n",
              "      cursor: pointer;\n",
              "      display: none;\n",
              "      fill: #1967D2;\n",
              "      height: 32px;\n",
              "      padding: 0 0 0 0;\n",
              "      width: 32px;\n",
              "    }\n",
              "\n",
              "    .colab-df-convert:hover {\n",
              "      background-color: #E2EBFA;\n",
              "      box-shadow: 0px 1px 2px rgba(60, 64, 67, 0.3), 0px 1px 3px 1px rgba(60, 64, 67, 0.15);\n",
              "      fill: #174EA6;\n",
              "    }\n",
              "\n",
              "    [theme=dark] .colab-df-convert {\n",
              "      background-color: #3B4455;\n",
              "      fill: #D2E3FC;\n",
              "    }\n",
              "\n",
              "    [theme=dark] .colab-df-convert:hover {\n",
              "      background-color: #434B5C;\n",
              "      box-shadow: 0px 1px 3px 1px rgba(0, 0, 0, 0.15);\n",
              "      filter: drop-shadow(0px 1px 2px rgba(0, 0, 0, 0.3));\n",
              "      fill: #FFFFFF;\n",
              "    }\n",
              "  </style>\n",
              "\n",
              "      <script>\n",
              "        const buttonEl =\n",
              "          document.querySelector('#df-009709e3-4ddd-4a42-95b4-9079d0f3adad button.colab-df-convert');\n",
              "        buttonEl.style.display =\n",
              "          google.colab.kernel.accessAllowed ? 'block' : 'none';\n",
              "\n",
              "        async function convertToInteractive(key) {\n",
              "          const element = document.querySelector('#df-009709e3-4ddd-4a42-95b4-9079d0f3adad');\n",
              "          const dataTable =\n",
              "            await google.colab.kernel.invokeFunction('convertToInteractive',\n",
              "                                                     [key], {});\n",
              "          if (!dataTable) return;\n",
              "\n",
              "          const docLinkHtml = 'Like what you see? Visit the ' +\n",
              "            '<a target=\"_blank\" href=https://colab.research.google.com/notebooks/data_table.ipynb>data table notebook</a>'\n",
              "            + ' to learn more about interactive tables.';\n",
              "          element.innerHTML = '';\n",
              "          dataTable['output_type'] = 'display_data';\n",
              "          await google.colab.output.renderOutput(dataTable, element);\n",
              "          const docLink = document.createElement('div');\n",
              "          docLink.innerHTML = docLinkHtml;\n",
              "          element.appendChild(docLink);\n",
              "        }\n",
              "      </script>\n",
              "    </div>\n",
              "  </div>\n",
              "  "
            ]
          },
          "metadata": {},
          "execution_count": 50
        }
      ]
    },
    {
      "cell_type": "markdown",
      "source": [
        "Requirement:\n",
        "- Are there any patterns in the group of passengers who have a high rate of survival? Why do you think it is the case? (5 points)\\\n",
        "Đưa ra nhận xét của bạn về patterns của nhóm sống sót cao và theo b ạn nghĩ tại sao lại như vậy."
      ],
      "metadata": {
        "id": "sEg7dMBpf8AG"
      }
    },
    {
      "cell_type": "code",
      "source": [
        "import plotly.express as px\n",
        "fig = px.scatter_3d(df.survived, x=df.title_, y=df.fare, z=df.age,\n",
        "                    color = df.survived,\n",
        "                    labels={'x': 'title', 'y': 'fare', 'z': 'age'})\n",
        "fig.show()"
      ],
      "metadata": {
        "id": "Dv6YXcawguxE",
        "colab": {
          "base_uri": "https://localhost:8080/",
          "height": 542
        },
        "outputId": "9a01eaee-7469-418a-b28a-4cc7a21f37d4"
      },
      "execution_count": null,
      "outputs": [
        {
          "output_type": "display_data",
          "data": {
            "text/html": [
              "<html>\n",
              "<head><meta charset=\"utf-8\" /></head>\n",
              "<body>\n",
              "    <div>            <script src=\"https://cdnjs.cloudflare.com/ajax/libs/mathjax/2.7.5/MathJax.js?config=TeX-AMS-MML_SVG\"></script><script type=\"text/javascript\">if (window.MathJax) {MathJax.Hub.Config({SVG: {font: \"STIX-Web\"}});}</script>                <script type=\"text/javascript\">window.PlotlyConfig = {MathJaxConfig: 'local'};</script>\n",
              "        <script src=\"https://cdn.plot.ly/plotly-2.8.3.min.js\"></script>                <div id=\"409fde4b-27d2-4b8b-94bf-b461cdfc6328\" class=\"plotly-graph-div\" style=\"height:525px; width:100%;\"></div>            <script type=\"text/javascript\">                                    window.PLOTLYENV=window.PLOTLYENV || {};                                    if (document.getElementById(\"409fde4b-27d2-4b8b-94bf-b461cdfc6328\")) {                    Plotly.newPlot(                        \"409fde4b-27d2-4b8b-94bf-b461cdfc6328\",                        [{\"hovertemplate\":\"title=%{x}<br>fare=%{y}<br>age=%{z}<br>color=%{marker.color}<extra></extra>\",\"legendgroup\":\"\",\"marker\":{\"color\":[1.0,1.0,0.0,0.0,0.0,1.0,1.0,0.0,1.0,0.0,0.0,1.0,1.0,1.0,1.0,0.0,0.0,1.0,1.0,0.0,1.0,1.0,1.0,1.0,1.0,0.0,1.0,1.0,1.0,1.0,0.0,1.0,1.0,1.0,0.0,1.0,1.0,1.0,0.0,0.0,0.0,1.0,1.0,1.0,1.0,0.0,0.0,1.0,1.0,1.0,1.0,0.0,0.0,0.0,1.0,1.0,1.0,1.0,0.0,1.0,0.0,1.0,0.0,1.0,1.0,1.0,1.0,1.0,1.0,1.0,0.0,0.0,1.0,1.0,0.0,0.0,1.0,0.0,1.0,1.0,0.0,0.0,1.0,1.0,0.0,1.0,1.0,1.0,1.0,0.0,1.0,1.0,1.0,1.0,1.0,1.0,0.0,1.0,1.0,1.0,1.0,0.0,1.0,1.0,1.0,0.0,0.0,1.0,1.0,1.0,0.0,1.0,1.0,1.0,0.0,0.0,1.0,1.0,0.0,1.0,1.0,1.0,1.0,1.0,1.0,0.0,0.0,1.0,0.0,1.0,1.0,1.0,0.0,1.0,1.0,0.0,1.0,1.0,0.0,1.0,1.0,1.0,0.0,1.0,1.0,1.0,1.0,0.0,0.0,1.0,0.0,1.0,1.0,1.0,0.0,1.0,0.0,0.0,0.0,1.0,1.0,1.0,0.0,1.0,1.0,1.0,0.0,1.0,1.0,0.0,1.0,0.0,0.0,0.0,0.0,0.0,1.0,1.0,1.0,0.0,1.0,1.0,1.0,1.0,0.0,0.0,1.0,1.0,1.0,0.0,1.0,0.0,1.0,1.0,0.0,1.0,1.0,0.0,1.0,1.0,0.0,0.0,1.0,0.0,1.0,0.0,0.0,1.0,1.0,1.0,0.0,0.0,0.0,1.0,1.0,0.0,1.0,0.0,1.0,1.0,1.0,0.0,0.0,0.0,0.0,0.0,0.0,1.0,0.0,1.0,1.0,1.0,0.0,1.0,0.0,1.0,0.0,0.0,1.0,0.0,1.0,0.0,1.0,0.0,0.0,1.0,0.0,1.0,0.0,1.0,1.0,1.0,0.0,1.0,1.0,1.0,1.0,1.0,1.0,1.0,1.0,1.0,0.0,1.0,1.0,1.0,0.0,0.0,0.0,0.0,1.0,1.0,1.0,1.0,1.0,1.0,0.0,1.0,1.0,0.0,1.0,1.0,1.0,0.0,1.0,0.0,0.0,0.0,1.0,1.0,0.0,1.0,1.0,1.0,0.0,1.0,1.0,1.0,1.0,0.0,0.0,0.0,1.0,0.0,1.0,0.0,0.0,0.0,1.0,1.0,0.0,1.0,0.0,0.0,1.0,1.0,0.0,1.0,0.0,1.0,1.0,0.0,1.0,0.0,1.0,0.0,0.0,0.0,0.0,1.0,0.0,0.0,0.0,1.0,0.0,0.0,1.0,1.0,0.0,1.0,1.0,1.0,1.0,1.0,1.0,0.0,0.0,0.0,0.0,1.0,1.0,0.0,1.0,1.0,0.0,1.0,0.0,0.0,1.0,1.0,1.0,1.0,1.0,0.0,0.0,0.0,0.0,0.0,0.0,0.0,1.0,1.0,0.0,1.0,0.0,0.0,1.0,1.0,0.0,1.0,1.0,0.0,0.0,0.0,0.0,1.0,0.0,1.0,1.0,0.0,0.0,0.0,1.0,0.0,0.0,1.0,1.0,0.0,1.0,0.0,1.0,1.0,1.0,0.0,0.0,0.0,0.0,1.0,0.0,0.0,0.0,0.0,0.0,0.0,0.0,1.0,0.0,0.0,0.0,0.0,0.0,0.0,0.0,0.0,0.0,0.0,0.0,1.0,1.0,0.0,1.0,0.0,1.0,0.0,1.0,0.0,1.0,1.0,1.0,0.0,1.0,1.0,0.0,0.0,0.0,0.0,1.0,0.0,0.0,1.0,0.0,0.0,1.0,0.0,1.0,0.0,0.0,0.0,1.0,0.0,1.0,0.0,0.0,0.0,0.0,1.0,0.0,1.0,0.0,1.0,0.0,1.0,0.0,0.0,0.0,0.0,0.0,0.0,1.0,1.0,0.0,1.0,1.0,1.0,1.0,0.0,0.0,0.0,0.0,1.0,0.0,0.0,1.0,0.0,1.0,0.0,0.0,0.0,0.0,0.0,0.0,1.0,1.0,1.0,0.0,0.0,0.0,0.0,0.0,0.0,0.0,0.0,0.0,1.0,1.0,1.0,0.0,0.0,0.0,0.0,1.0,1.0,0.0,1.0,1.0,0.0,1.0,0.0,0.0,1.0,0.0,0.0,0.0,1.0,1.0,0.0,1.0,0.0,1.0,0.0,1.0,1.0,1.0,0.0,0.0,1.0,1.0,0.0,1.0,1.0,1.0,1.0,0.0,1.0,0.0,0.0,0.0,1.0,1.0,1.0,1.0,0.0,1.0,0.0,1.0,0.0,0.0,0.0,0.0,0.0,1.0,0.0,1.0,1.0,0.0,0.0,0.0,1.0,0.0,0.0,1.0,0.0,1.0,1.0,1.0,0.0,1.0,1.0,1.0,1.0,1.0,1.0,0.0,1.0,0.0,0.0,1.0,1.0,1.0,0.0,0.0,0.0,0.0,1.0,1.0,1.0,1.0,1.0,0.0,0.0,0.0,1.0,1.0,1.0,0.0,0.0,0.0,0.0,0.0,0.0,0.0,1.0,0.0,0.0,0.0,1.0,0.0,0.0,0.0,0.0,1.0,0.0,0.0,0.0,0.0,0.0,0.0,0.0,0.0,0.0,0.0,1.0,0.0,1.0,0.0,1.0,1.0,1.0,0.0,0.0,0.0,0.0,0.0,1.0,0.0,0.0,1.0,1.0,1.0,1.0,1.0,1.0,0.0,0.0,1.0,0.0,0.0,0.0,0.0,0.0,0.0,0.0,0.0,0.0,1.0,0.0,0.0,0.0,0.0,0.0,0.0,0.0,0.0,0.0,0.0,0.0,1.0,0.0,0.0,0.0,0.0,0.0,0.0,1.0,0.0,0.0,0.0,0.0,0.0,0.0,0.0,0.0,0.0,0.0,0.0,0.0,0.0,0.0,0.0,1.0,0.0,0.0,0.0,0.0,1.0,0.0,0.0,0.0,0.0,1.0,0.0,0.0,0.0,0.0,0.0,1.0,0.0,0.0,0.0,0.0,0.0,0.0,0.0,1.0,1.0,1.0,0.0,0.0,1.0,0.0,0.0,0.0,1.0,0.0,0.0,1.0,1.0,0.0,0.0,0.0,0.0,0.0,0.0,0.0,0.0,0.0,0.0,1.0,1.0,1.0,1.0,0.0,1.0,1.0,0.0,1.0,0.0,0.0,0.0,0.0,0.0,1.0,0.0,0.0,0.0,0.0,0.0,1.0,1.0,0.0,1.0,0.0,0.0,1.0,0.0,1.0,0.0,0.0,0.0,0.0,0.0,0.0,0.0,0.0,1.0,0.0,0.0,0.0,1.0,0.0,0.0,0.0,0.0,0.0,0.0,1.0,0.0,0.0,0.0,0.0,0.0,0.0,0.0,0.0,0.0,0.0,0.0,0.0,1.0,1.0,1.0,0.0,0.0,1.0,0.0,0.0,0.0,0.0,0.0,0.0,0.0,0.0,0.0,0.0,0.0,0.0,0.0,0.0,0.0,0.0,0.0,0.0,0.0,0.0,0.0,1.0,0.0,0.0,0.0,0.0,0.0,1.0,0.0,0.0,0.0,0.0,1.0,1.0,1.0,0.0,1.0,0.0,1.0,0.0,0.0,0.0,1.0,1.0,0.0,0.0,1.0,0.0,1.0,0.0,1.0,0.0,0.0,0.0,0.0,0.0,1.0,1.0,0.0,0.0,0.0,0.0,1.0,1.0,0.0,1.0,0.0,0.0,0.0,0.0,1.0,1.0,0.0,0.0,0.0,1.0,0.0,0.0,0.0,0.0,0.0,1.0,0.0,0.0,0.0,1.0,0.0,0.0,0.0,1.0,0.0,0.0,1.0,1.0,0.0,0.0,0.0,0.0,1.0,1.0,0.0,0.0,1.0,0.0,0.0,0.0,0.0,0.0,0.0,0.0,1.0,1.0,1.0,0.0,0.0,0.0,0.0,1.0,0.0,0.0,0.0,1.0,0.0,1.0,0.0,1.0,0.0,0.0,0.0,1.0,0.0,0.0,0.0,0.0,0.0,0.0,0.0,0.0,0.0,0.0,0.0,0.0,0.0,0.0,0.0,0.0,1.0,0.0,0.0,0.0,0.0,0.0,0.0,0.0,1.0,0.0,1.0,1.0,0.0,0.0,1.0,1.0,0.0,0.0,0.0,0.0,0.0,1.0,0.0,1.0,0.0,0.0,0.0,1.0,0.0,1.0,1.0,1.0,1.0,1.0,1.0,0.0,1.0,1.0,0.0,0.0,0.0,0.0,0.0,0.0,0.0,0.0,0.0,1.0,0.0,0.0,0.0,0.0,0.0,1.0,0.0,1.0,1.0,0.0,1.0,0.0,0.0,0.0,0.0,1.0,1.0,1.0,1.0,1.0,0.0,1.0,1.0,0.0,1.0,1.0,1.0,0.0,0.0,1.0,1.0,1.0,1.0,0.0,0.0,0.0,0.0,0.0,1.0,1.0,0.0,0.0,1.0,1.0,0.0,0.0,1.0,0.0,0.0,1.0,0.0,0.0,0.0,1.0,0.0,0.0,0.0,0.0,0.0,1.0,1.0,1.0,1.0,1.0,1.0,0.0,0.0,0.0,0.0,0.0,1.0,0.0,0.0,0.0,0.0,0.0,1.0,0.0,0.0,0.0,0.0,0.0,0.0,0.0,0.0,0.0,0.0,0.0,0.0,0.0,0.0,0.0,0.0,0.0,0.0,0.0,0.0,0.0,0.0,0.0,0.0,0.0,1.0,1.0,1.0,1.0,0.0,0.0,0.0,0.0,0.0,0.0,0.0,1.0,0.0,0.0,0.0,0.0,0.0,0.0,0.0,0.0,0.0,0.0,0.0,0.0,0.0,0.0,0.0,0.0,0.0,1.0,0.0,0.0,0.0,0.0,0.0,0.0,0.0,0.0,0.0,1.0,0.0,0.0,1.0,0.0,0.0,0.0,0.0,0.0,0.0,0.0,0.0,0.0,0.0,0.0,0.0,0.0,0.0,0.0,0.0,0.0,0.0,0.0,1.0,0.0,0.0,0.0,0.0,1.0,1.0,1.0,1.0,0.0,0.0,0.0,0.0,0.0,1.0,0.0,1.0,0.0,0.0,0.0,0.0,0.0,0.0,1.0,0.0,0.0,0.0,0.0,0.0,0.0,0.0,0.0,0.0,0.0,1.0,0.0,0.0,0.0,0.0,0.0,0.0,1.0,0.0,0.0,0.0,0.0,1.0,0.0,0.0,0.0,1.0,1.0,0.0,0.0,1.0,0.0,1.0,0.0,1.0,0.0,0.0,0.0,1.0,0.0,0.0,1.0,0.0,0.0,0.0,0.0,0.0,0.0,1.0,0.0,1.0,1.0,1.0,0.0,1.0,1.0,0.0,0.0,0.0,0.0,0.0,0.0,0.0,0.0,0.0,0.0,0.0,0.0,0.0,0.0,0.0,1.0,0.0,0.0,0.0,0.0,0.0,0.0,0.0,0.0,1.0,0.0,0.0,0.0,1.0,0.0,0.0,0.0,0.0,0.0,0.0,0.0,0.0,0.0,1.0,0.0,0.0,0.0,0.0,0.0,0.0,0.0,0.0],\"coloraxis\":\"coloraxis\",\"symbol\":\"circle\"},\"mode\":\"markers\",\"name\":\"\",\"scene\":\"scene\",\"showlegend\":false,\"x\":[3,2,3,1,4,1,3,1,4,1,5,4,4,3,1,1,1,4,3,1,1,4,1,3,3,1,1,4,3,1,1,1,3,3,1,3,3,1,1,1,5,4,4,4,3,5,1,1,4,1,4,1,1,1,2,3,1,4,1,4,1,4,1,4,1,4,3,3,1,4,1,1,4,3,1,1,3,1,4,4,1,5,3,4,1,4,1,1,3,1,4,1,4,5,2,4,1,4,4,5,5,1,4,3,3,3,1,4,3,1,1,3,3,3,1,1,4,3,1,5,1,4,3,1,4,1,1,4,1,3,3,4,1,1,4,1,5,3,1,4,1,4,1,1,4,1,4,1,1,4,1,1,1,3,1,4,1,1,1,3,4,4,1,4,1,1,1,4,3,3,1,1,1,1,1,1,4,1,4,1,3,5,3,1,1,1,4,3,4,1,3,1,3,3,1,3,1,1,4,3,1,1,1,1,4,1,5,3,4,1,1,1,1,3,3,1,3,1,5,1,3,1,1,1,1,1,1,4,1,4,3,5,1,4,5,1,1,1,4,1,1,1,3,1,1,5,1,4,1,2,3,3,1,4,1,3,1,4,3,1,3,1,1,4,5,1,1,1,1,1,4,1,4,2,1,4,1,4,5,1,1,4,4,1,4,1,4,1,4,3,1,4,1,4,1,1,4,4,1,5,1,1,3,1,4,5,1,1,4,3,1,4,1,1,4,3,1,1,1,3,1,1,3,1,4,1,1,1,1,4,1,1,1,4,1,5,1,4,1,2,3,3,4,1,3,1,1,1,1,3,3,1,4,3,1,3,1,5,4,2,1,4,3,1,1,4,5,1,1,4,3,4,1,4,1,1,1,3,1,4,4,4,4,1,1,2,1,4,3,1,1,1,4,1,1,3,4,1,2,1,4,3,3,1,1,1,1,4,1,1,1,3,1,1,1,3,1,1,1,1,1,1,1,1,1,1,1,2,4,1,3,5,1,1,3,1,4,3,3,1,4,4,1,1,1,3,3,1,1,4,1,1,4,1,1,1,4,1,3,1,4,1,1,1,1,4,1,4,4,3,1,4,5,1,1,4,5,1,3,3,1,4,3,3,4,1,1,1,1,4,4,1,2,1,4,1,1,1,1,1,1,3,4,1,1,1,1,5,5,1,1,1,1,4,2,2,1,1,1,1,1,4,1,1,1,5,1,1,1,4,1,1,5,3,3,1,4,1,1,1,3,3,4,1,1,4,3,1,2,2,4,3,1,3,1,1,1,4,3,3,3,1,3,1,3,1,1,1,1,1,3,1,4,3,1,4,1,3,1,1,4,1,3,4,3,1,4,2,3,4,3,3,1,4,1,1,1,1,3,3,1,2,1,4,3,1,1,4,1,1,4,2,4,1,1,1,1,1,1,1,1,3,2,3,3,3,3,3,3,1,1,1,4,1,1,1,4,1,1,2,2,2,2,3,1,1,4,4,1,1,3,1,1,3,1,1,4,3,3,3,4,3,1,1,1,3,4,3,1,1,1,1,2,1,1,1,1,1,2,3,1,4,3,1,4,1,3,3,1,1,1,1,3,1,1,3,3,3,1,1,1,1,3,1,1,1,4,1,1,3,3,1,1,1,1,1,1,1,1,1,1,1,1,1,1,3,3,1,1,1,1,1,1,2,2,4,1,1,3,1,1,1,1,3,1,3,1,2,1,4,1,1,1,1,1,1,1,4,1,4,1,1,2,3,1,4,1,1,1,1,1,3,1,1,1,1,1,1,3,3,3,1,1,1,1,4,1,1,1,1,1,1,1,1,3,1,1,1,1,1,3,1,1,1,1,1,3,3,1,1,1,4,1,1,1,1,1,1,3,3,2,1,1,4,1,2,2,2,3,3,1,1,4,1,1,1,1,1,1,1,3,3,1,1,1,4,1,1,1,1,1,4,3,1,1,1,3,1,1,3,3,3,3,1,3,3,3,4,1,1,3,1,3,1,1,1,1,3,3,1,1,1,1,1,1,1,3,1,1,1,1,1,1,1,2,3,1,1,1,4,2,3,1,4,1,1,1,3,3,1,1,1,1,1,1,1,3,1,1,1,1,1,3,3,1,1,1,1,4,1,1,1,3,1,3,1,4,3,1,4,1,1,1,3,1,1,1,3,1,1,1,1,1,1,2,3,3,3,4,1,1,3,1,1,1,1,3,3,1,4,1,1,1,1,1,4,1,1,1,1,3,1,1,1,3,1,1,3,1,1,1,1,3,3,1,1,1,4,1,3,1,3,3,1,3,1,3,3,3,1,1,4,3,3,4,1,1,1,1,1,1,1,1,3,1,2,4,1,3,1,1,1,1,1,2,2,4,4,1,3,3,1,3,3,3,1,1,3,3,1,4,1,1,1,3,1,2,3,3,1,3,3,1,1,1,1,1,3,1,1,1,4,1,1,1,1,3,3,3,3,1,3,2,1,1,1,3,1,1,1,3,3,1,1,4,3,2,2,3,3,4,2,2,2,1,1,4,1,1,1,1,2,3,4,1,1,1,1,1,1,1,2,3,4,3,1,3,1,1,1,3,1,1,1,1,1,4,1,1,1,1,2,2,2,2,2,4,3,1,3,1,4,1,4,1,1,3,1,4,3,1,1,1,1,1,1,1,1,1,1,2,2,3,3,3,3,1,1,1,1,4,1,3,1,1,1,1,3,4,3,1,1,1,1,1,1,1,1,3,1,1,1,1,1,1,3,2,2,3,3,1,4,1,1,1,1,3,1,1,1,1,1,1,3,1,1,1,3,1,1,3,4,1,1,1,1,1,1,1,1,2,1,1,1,4,1,1,4,1,1,1,1,1,1,1,1,2,3,4,1,3,4,2,2,1,3,1,4,1,1,1,1,1,3,1,1,4,1,1,3,1,1,1,1,1,1,4,1,1,1,4,1,1,1,1,1,1,1,1,1,4,1,1,1,3,3,1,1,1],\"y\":[211.3375,151.55,151.55,151.55,151.55,26.55,77.9583,0.0,51.4792,49.5042,227.525,227.525,69.3,78.85,30.0,25.925,247.5208,247.5208,76.2917,75.2417,52.5542,52.5542,30.0,227.525,221.7792,26.0,91.0792,91.0792,135.6333,26.55,35.5,31.0,164.8667,26.55,26.55,262.375,55.0,26.55,30.5,50.4958,39.6,27.7208,51.4792,76.2917,134.5,26.55,31.0,26.2875,27.4458,512.3292,512.3292,5.0,47.1,47.1,120.0,120.0,120.0,120.0,26.0,27.7208,78.85,78.85,61.175,61.175,53.1,53.1,262.375,86.5,29.7,55.0,0.0,136.7792,136.7792,151.55,52.0,25.5875,83.1583,83.1583,83.1583,25.7,26.55,71.0,71.0,26.55,71.2833,71.2833,26.55,30.5,151.55,52.0,52.0,57.0,57.0,81.8583,81.8583,81.8583,106.425,247.5208,106.425,39.6,56.9292,29.7,83.1583,227.525,78.2667,31.6792,221.7792,31.6833,110.8833,26.3875,27.75,263.0,263.0,263.0,263.0,263.0,263.0,56.9292,26.55,133.65,27.7208,133.65,49.5,79.2,79.2,0.0,53.1,53.1,38.5,211.5,59.4,59.4,79.2,89.1042,89.1042,34.6542,28.5,30.0,153.4625,153.4625,63.3583,63.3583,79.2,55.4417,55.4417,76.7292,76.7292,42.4,83.475,83.475,0.0,76.7292,30.0,83.1583,93.5,93.5,42.5,51.8625,50.0,57.9792,57.9792,77.9583,52.0,52.0,26.55,90.0,30.6958,90.0,80.0,28.7125,0.0,26.0,26.0,211.5,29.7,51.8625,51.8625,52.5542,52.5542,26.55,211.3375,25.9292,106.425,512.3292,27.7208,26.55,27.7208,39.4,39.4,30.0,77.9583,45.5,146.5208,211.3375,26.0,86.5,29.7,53.1,53.1,49.5042,75.2417,51.8625,26.2875,82.1708,82.1708,26.55,90.0,90.0,90.0,57.75,30.5,42.4,29.7,113.275,113.275,113.275,26.2833,26.0,108.9,25.7417,61.9792,61.9792,27.7208,0.0,28.5,93.5,66.6,66.6,108.9,108.9,93.5,30.5,52.0,83.1583,0.0,39.6,135.6333,227.525,211.3375,50.4958,26.55,50.0,27.7208,79.2,40.125,86.5,59.4,59.4,26.55,262.375,262.375,262.375,262.375,262.375,30.5,69.3,26.0,57.75,31.0,26.55,153.4625,26.2875,55.9,55.9,35.5,35.5,26.55,30.6958,60.0,26.0,60.0,82.2667,82.2667,134.5,134.5,134.5,146.5208,146.5208,30.5,26.55,55.4417,55.4417,78.2667,27.7208,80.0,221.7792,221.7792,32.3208,25.9292,79.65,79.65,79.65,52.0,52.0,110.8833,110.8833,110.8833,79.2,28.5375,27.7208,33.5,34.0208,512.3292,75.25,75.25,26.55,77.2875,77.2875,135.6333,164.8667,164.8667,164.8667,211.5,211.5,211.5,26.55,61.3792,61.3792,35.0,134.5,35.5,26.55,135.6333,24.0,24.0,13.0,11.5,10.5,26.0,26.0,13.0,11.5,10.5,13.0,10.5,12.525,26.0,26.0,26.0,39.0,39.0,39.0,39.0,13.0,13.0,13.0,13.0,13.0,13.0,13.0,39.0,39.0,39.0,26.0,26.0,13.0,13.0,13.0,13.0,29.0,29.0,29.0,21.0,0.0,13.0,26.0,26.0,13.5,26.0,26.0,30.0,30.0,26.0,26.0,10.5,13.0,10.5,26.25,26.25,26.25,10.5,13.0,21.0,11.5,0.0,36.75,73.5,36.75,13.0,13.0,73.5,27.7208,27.7208,31.5,73.5,23.0,23.0,26.0,32.5,32.5,32.5,13.8583,13.8583,13.0,13.0,13.0,26.0,26.0,10.5,13.0,0.0,13.0,26.0,21.0,21.0,13.0,26.0,10.5,10.5,11.5,11.5,13.5,13.0,13.0,13.0,13.0,13.0,14.5,14.5,13.0,33.0,33.0,10.5,10.5,26.25,26.25,26.25,65.0,65.0,65.0,65.0,16.0,73.5,73.5,73.5,13.0,23.0,11.5,13.0,23.0,13.0,26.0,26.0,73.5,13.0,26.0,26.0,12.275,10.5,27.0,27.0,15.0,31.5,31.5,10.5,13.7917,26.0,26.0,21.0,12.35,12.35,13.5,12.35,0.0,10.5,26.0,26.0,10.7083,41.5792,41.5792,41.5792,41.5792,12.0,33.0,10.5,12.875,10.5,12.35,26.0,26.0,10.5,15.0458,37.0042,37.0042,37.0042,15.5792,13.0,16.0,13.5,13.0,26.0,19.5,19.5,10.5,13.0,13.0,10.5,13.0,14.0,26.0,10.5,9.6875,30.0708,30.0708,26.0,26.0,26.0,13.0,36.75,13.5,13.8625,10.5,13.0,10.5,13.8625,10.5,13.8583,10.5,0.0,26.0,10.5,15.05,13.0,21.0,26.0,21.0,13.0,13.0,12.7375,15.0333,26.0,26.0,26.0,10.5,21.0,21.0,13.0,15.0458,18.75,18.75,18.75,10.5,10.5,10.5,13.0,13.0,26.0,26.0,13.0,36.75,13.0,13.5,12.35,10.5,13.0,13.0,15.0458,10.5,13.0,65.0,10.5,13.0,12.65,10.5,21.0,21.0,13.0,21.0,21.0,10.5,21.0,0.0,15.75,15.75,13.0,26.0,26.0,23.0,23.0,23.0,27.75,27.75,27.75,27.75,10.5,12.875,13.0,13.0,13.5,13.0,7.55,20.25,20.25,20.25,7.65,7.65,7.925,7.2292,7.25,8.05,9.475,9.35,9.35,18.7875,7.8875,7.925,7.05,7.05,8.05,8.3,22.525,7.8542,31.275,31.275,31.275,7.925,7.775,31.275,31.275,31.275,7.7958,7.775,31.275,7.8542,7.8958,17.8,17.8,7.775,7.05,31.3875,31.3875,31.3875,31.3875,31.3875,31.3875,7.7958,31.3875,7.225,7.225,7.05,14.4583,7.225,7.8542,7.2292,7.225,15.85,15.85,19.2583,19.2583,19.2583,19.2583,8.05,7.225,7.8958,7.2292,14.4542,14.4542,7.8792,8.05,8.05,7.775,9.35,7.2292,4.0125,56.4958,7.775,7.75,7.8958,15.2458,15.2458,7.225,15.2458,7.75,15.5,15.5,16.1,7.725,7.8542,7.0458,7.25,7.7958,8.05,7.2833,7.8208,6.75,7.8792,8.6625,8.6625,8.6625,8.6625,8.6625,8.6625,7.75,7.75,8.05,14.4583,14.4583,7.7958,7.8542,7.75,7.75,7.25,8.05,7.7333,56.4958,8.05,14.4542,14.4542,7.05,8.05,7.25,7.4958,7.4958,7.7333,7.75,7.75,7.6292,7.75,8.05,7.8958,7.8958,7.8958,8.05,15.9,15.9,15.9,7.25,8.1583,16.1,16.1,8.6625,7.225,8.05,10.5167,10.1708,6.95,7.75,14.4,14.4,14.4,7.8958,7.8958,24.15,8.05,24.15,8.05,16.1,16.1,17.4,17.4,9.5,9.5,20.575,20.575,20.575,20.575,7.8958,7.8958,7.8958,7.25,7.25,7.8792,7.8958,8.6625,7.8958,7.2292,7.75,8.05,12.475,7.75,8.05,7.8958,7.75,7.55,13.9,13.9,7.775,7.775,6.975,7.225,7.2292,7.2292,7.2292,7.25,12.475,7.225,15.1,7.75,7.05,7.7958,7.75,7.75,6.95,7.8792,7.75,56.4958,34.375,34.375,8.05,34.375,34.375,34.375,7.75,7.25,7.7417,14.5,7.8958,8.05,7.7333,7.75,20.525,20.525,7.85,20.525,7.05,46.9,46.9,46.9,46.9,46.9,46.9,46.9,46.9,8.05,8.3625,8.05,9.8458,7.925,7.925,7.775,8.85,7.7333,19.9667,19.9667,15.85,15.85,9.5,7.2292,14.1083,7.8542,7.8542,14.1083,7.55,7.25,6.8583,18.7875,7.75,6.975,56.4958,6.75,7.925,7.925,8.9625,7.8958,7.775,7.75,12.2875,12.2875,6.45,22.525,7.925,7.75,8.05,7.65,7.8875,7.2292,7.8958,7.925,7.925,7.8958,7.8958,7.7958,7.05,7.8542,7.8542,7.0542,7.75,8.1125,6.4958,7.775,7.7958,8.6542,7.775,7.8542,11.1333,11.1333,0.0,7.775,0.0,11.1333,23.45,23.45,23.45,23.45,7.8958,7.8542,7.8542,9.825,9.825,7.925,7.125,8.4333,7.8958,7.7958,7.8542,7.5208,13.4167,13.4167,7.2292,7.2292,7.75,7.25,7.75,7.75,7.8292,8.05,7.75,14.4542,14.4542,7.75,7.75,7.7375,8.6625,8.6625,22.025,22.025,22.025,12.1833,7.8542,12.1833,7.8958,7.2292,7.225,9.5875,7.8958,56.4958,56.4958,7.25,7.75,56.4958,9.4833,7.775,7.775,7.225,25.4667,25.4667,25.4667,25.4667,25.4667,7.925,6.4375,15.5,15.5,0.0,24.15,9.5,7.775,7.75,15.55,15.55,7.925,7.8792,56.4958,7.55,16.1,16.1,7.8792,7.25,8.6625,7.0542,7.8542,7.5792,7.8958,7.55,7.75,7.1417,7.125,7.8792,7.75,8.05,7.925,7.2292,7.75,7.7375,7.2292,7.8958,7.8958,7.225,7.8958,7.75,7.75,23.25,23.25,23.25,7.7875,15.5,7.8792,8.0292,7.75,7.75,16.1,16.1,7.75,8.05,8.05,8.05,7.75,7.775,8.05,7.8958,7.8958,7.8958,7.8958,7.8792,7.65,12.475,12.475,8.05,24.15,24.15,8.4583,8.05,7.75,7.775,15.2458,15.2458,15.2458,7.2292,8.05,7.7333,7.75,8.05,15.5,15.5,15.5,7.75,7.8958,7.225,15.7417,15.7417,15.7417,8.05,7.8958,7.2292,7.75,7.8958,11.2417,11.2417,7.925,8.05,7.775,7.8542,7.8542,7.125,7.925,7.8,7.2292,7.75,6.2375,15.5,7.8292,15.5,7.7333,7.75,7.75,9.225,7.75,7.75,7.8792,7.775,7.75,7.8292,3.1708,22.525,8.4042,7.3125,7.8542,7.8542,7.775,9.225,8.6625,8.6625,8.6625,9.2167,8.6833,7.6292,21.075,21.075,21.075,21.075,21.075,39.6875,39.6875,39.6875,39.6875,39.6875,39.6875,8.6625,14.5,8.7125,7.8958,13.775,13.775,13.775,7.0,7.775,8.05,7.925,7.925,7.25,7.775,22.3583,22.3583,22.3583,8.1375,8.05,7.8958,7.8958,7.8958,7.775,7.775,8.05,7.8958,8.6625,8.6625,7.8958,8.1125,7.2292,7.25,7.8958,8.05,29.125,29.125,29.125,29.125,29.125,29.125,39.6875,7.125,7.7208,14.5,14.5,14.5,14.5,8.05,7.775,20.2125,20.2125,20.2125,8.05,8.05,8.05,7.75,24.15,7.2292,7.225,7.225,7.7292,7.575,7.25,69.55,69.55,69.55,69.55,69.55,69.55,69.55,69.55,69.55,69.55,69.55,9.325,7.65,7.925,21.6792,21.6792,21.6792,16.7,16.7,16.7,9.5,8.05,8.05,7.725,7.8958,7.75,9.5,15.1,7.7792,8.05,8.05,7.2292,8.05,7.8958,7.925,7.4958,27.9,27.9,27.9,27.9,27.9,27.9,7.8958,8.05,8.6625,7.75,7.7333,7.65,8.05,8.05,8.05,7.8958,8.6625,7.55,8.05,null,7.8958,9.8375,7.925,8.6625,10.4625,10.4625,8.05,7.925,7.05,7.775,9.225,7.7958,7.7958,8.05,8.5167,6.4375,6.4375,7.225,8.5167,8.05,16.1,16.1,7.925,7.75,7.8958,8.05,8.05,7.2292,0.0,7.2292,15.2458,15.2458,15.2458,7.8958,9.8417,9.5875,14.5,14.5,14.5,24.15,24.15,24.15,9.5,9.5,9.5,9.5,9.0,18.0,18.0,18.0,18.0,7.225,7.8542,7.8542,7.8958,9.0,8.05,7.55,8.05,9.5,7.2292,7.75,6.4958,6.4958,7.0,8.7125,7.55,8.05,16.1,7.25,8.6625,7.25,9.5,14.4542,14.4542,7.225,7.225,14.4583,14.4542,14.4542,7.225,7.225,7.875],\"z\":[29.0,0.9167,2.0,30.0,25.0,48.0,63.0,39.0,53.0,71.0,47.0,18.0,24.0,26.0,80.0,null,24.0,50.0,32.0,36.0,37.0,47.0,26.0,42.0,29.0,25.0,25.0,19.0,35.0,28.0,45.0,40.0,30.0,58.0,42.0,45.0,22.0,null,41.0,48.0,null,44.0,59.0,60.0,41.0,45.0,null,42.0,53.0,36.0,58.0,33.0,28.0,17.0,11.0,14.0,36.0,36.0,49.0,null,36.0,76.0,46.0,47.0,27.0,33.0,36.0,30.0,45.0,null,null,27.0,26.0,22.0,null,47.0,39.0,37.0,64.0,55.0,null,70.0,36.0,64.0,39.0,38.0,51.0,27.0,33.0,31.0,27.0,31.0,17.0,53.0,4.0,54.0,50.0,27.0,48.0,48.0,49.0,39.0,23.0,38.0,54.0,36.0,null,null,null,36.0,30.0,24.0,28.0,23.0,19.0,64.0,60.0,30.0,null,50.0,43.0,null,22.0,60.0,48.0,null,37.0,35.0,47.0,35.0,22.0,45.0,24.0,49.0,null,71.0,53.0,19.0,38.0,58.0,23.0,45.0,46.0,25.0,25.0,48.0,49.0,null,45.0,35.0,40.0,27.0,null,24.0,55.0,52.0,42.0,null,55.0,16.0,44.0,51.0,42.0,35.0,35.0,38.0,null,35.0,38.0,50.0,49.0,46.0,50.0,32.5,58.0,41.0,null,42.0,45.0,null,39.0,49.0,30.0,35.0,null,42.0,55.0,16.0,51.0,29.0,21.0,30.0,58.0,15.0,30.0,16.0,null,19.0,18.0,24.0,46.0,54.0,36.0,28.0,null,65.0,44.0,33.0,37.0,30.0,55.0,47.0,37.0,31.0,23.0,58.0,19.0,64.0,39.0,null,22.0,65.0,28.5,null,45.5,23.0,29.0,22.0,18.0,17.0,30.0,52.0,47.0,56.0,38.0,null,22.0,null,43.0,31.0,45.0,null,33.0,46.0,36.0,33.0,55.0,54.0,33.0,13.0,18.0,21.0,61.0,48.0,null,24.0,null,35.0,30.0,34.0,40.0,35.0,50.0,39.0,56.0,28.0,56.0,56.0,24.0,null,18.0,24.0,23.0,6.0,45.0,40.0,57.0,null,32.0,62.0,54.0,43.0,52.0,null,62.0,67.0,63.0,61.0,48.0,18.0,52.0,39.0,48.0,null,49.0,17.0,39.0,null,31.0,40.0,61.0,47.0,35.0,64.0,60.0,60.0,54.0,21.0,55.0,31.0,57.0,45.0,50.0,27.0,50.0,21.0,51.0,21.0,null,31.0,null,62.0,36.0,30.0,28.0,30.0,18.0,25.0,34.0,36.0,57.0,18.0,23.0,36.0,28.0,51.0,32.0,19.0,28.0,1.0,4.0,12.0,36.0,34.0,19.0,23.0,26.0,42.0,27.0,24.0,15.0,60.0,40.0,20.0,25.0,36.0,25.0,42.0,42.0,0.8333,26.0,22.0,35.0,null,19.0,44.0,54.0,52.0,37.0,29.0,25.0,45.0,29.0,28.0,29.0,28.0,24.0,8.0,31.0,31.0,22.0,30.0,null,21.0,null,8.0,18.0,48.0,28.0,32.0,17.0,29.0,24.0,25.0,18.0,18.0,34.0,54.0,8.0,42.0,34.0,27.0,30.0,23.0,21.0,18.0,40.0,29.0,18.0,36.0,null,38.0,35.0,38.0,34.0,34.0,16.0,26.0,47.0,21.0,21.0,24.0,24.0,34.0,30.0,52.0,30.0,0.6667,24.0,44.0,6.0,28.0,62.0,30.0,7.0,43.0,45.0,24.0,24.0,49.0,48.0,55.0,24.0,32.0,21.0,18.0,20.0,23.0,36.0,54.0,50.0,44.0,29.0,21.0,42.0,63.0,60.0,33.0,17.0,42.0,24.0,47.0,24.0,22.0,32.0,23.0,34.0,24.0,22.0,null,35.0,45.0,57.0,null,31.0,26.0,30.0,null,1.0,3.0,25.0,22.0,17.0,null,34.0,36.0,24.0,61.0,50.0,42.0,57.0,null,1.0,31.0,24.0,null,30.0,40.0,32.0,30.0,46.0,13.0,41.0,19.0,39.0,48.0,70.0,27.0,54.0,39.0,16.0,62.0,32.5,14.0,2.0,3.0,36.5,26.0,19.0,28.0,20.0,29.0,39.0,22.0,null,23.0,29.0,28.0,null,50.0,19.0,null,41.0,21.0,19.0,43.0,32.0,34.0,30.0,27.0,2.0,8.0,33.0,36.0,34.0,30.0,28.0,23.0,0.8333,3.0,24.0,50.0,19.0,21.0,26.0,25.0,27.0,25.0,18.0,20.0,30.0,59.0,30.0,35.0,40.0,25.0,41.0,25.0,18.5,14.0,50.0,23.0,28.0,27.0,29.0,27.0,40.0,31.0,30.0,23.0,31.0,null,12.0,40.0,32.5,27.0,29.0,2.0,4.0,29.0,0.9167,5.0,36.0,33.0,66.0,null,31.0,null,26.0,24.0,42.0,13.0,16.0,35.0,16.0,25.0,20.0,18.0,30.0,26.0,40.0,0.8333,18.0,26.0,26.0,20.0,24.0,25.0,35.0,18.0,32.0,19.0,4.0,6.0,2.0,17.0,38.0,9.0,11.0,39.0,27.0,26.0,39.0,20.0,26.0,25.0,18.0,24.0,35.0,5.0,9.0,3.0,13.0,5.0,40.0,23.0,38.0,45.0,21.0,23.0,17.0,30.0,23.0,13.0,20.0,32.0,33.0,0.75,0.75,5.0,24.0,18.0,40.0,26.0,20.0,18.0,45.0,27.0,22.0,19.0,26.0,22.0,null,20.0,32.0,21.0,18.0,26.0,6.0,9.0,null,null,null,40.0,32.0,21.0,22.0,20.0,29.0,22.0,22.0,35.0,18.5,21.0,19.0,18.0,21.0,30.0,18.0,38.0,17.0,17.0,21.0,21.0,21.0,null,null,28.0,24.0,16.0,37.0,28.0,24.0,21.0,32.0,29.0,26.0,18.0,20.0,18.0,24.0,36.0,24.0,31.0,31.0,22.0,30.0,70.5,43.0,35.0,27.0,19.0,30.0,9.0,3.0,36.0,59.0,19.0,17.0,44.0,17.0,22.5,45.0,22.0,19.0,30.0,29.0,0.3333,34.0,28.0,27.0,25.0,24.0,22.0,21.0,17.0,null,null,36.5,36.0,30.0,16.0,1.0,0.1667,26.0,33.0,25.0,null,null,22.0,36.0,19.0,17.0,42.0,43.0,null,32.0,19.0,30.0,24.0,23.0,33.0,65.0,24.0,23.0,22.0,18.0,16.0,45.0,null,39.0,17.0,15.0,47.0,5.0,null,40.5,40.5,null,18.0,null,null,null,26.0,null,null,21.0,9.0,null,18.0,16.0,48.0,null,null,25.0,null,null,22.0,16.0,null,9.0,33.0,41.0,31.0,38.0,9.0,1.0,11.0,10.0,16.0,14.0,40.0,43.0,51.0,32.0,null,20.0,37.0,28.0,19.0,24.0,17.0,null,null,28.0,24.0,20.0,23.5,41.0,26.0,21.0,45.0,null,25.0,null,11.0,null,27.0,null,18.0,26.0,23.0,22.0,28.0,28.0,null,2.0,22.0,43.0,28.0,27.0,null,null,42.0,null,30.0,null,27.0,25.0,null,29.0,21.0,null,20.0,48.0,17.0,null,null,34.0,26.0,22.0,33.0,31.0,29.0,4.0,1.0,49.0,33.0,19.0,27.0,null,null,null,null,23.0,32.0,27.0,20.0,21.0,32.0,17.0,21.0,30.0,21.0,33.0,22.0,4.0,39.0,null,18.5,null,null,null,null,34.5,44.0,null,null,null,null,null,null,22.0,26.0,4.0,29.0,26.0,1.0,18.0,36.0,null,25.0,null,37.0,null,null,null,22.0,null,26.0,29.0,29.0,22.0,22.0,null,null,null,null,null,32.0,34.5,null,null,36.0,39.0,24.0,25.0,45.0,36.0,30.0,20.0,null,28.0,null,30.0,26.0,null,20.5,27.0,51.0,23.0,32.0,null,null,null,24.0,22.0,null,null,null,29.0,null,30.5,null,null,35.0,33.0,null,null,null,null,null,null,null,null,null,null,15.0,35.0,null,24.0,19.0,null,null,null,55.5,null,21.0,null,24.0,21.0,28.0,null,null,25.0,6.0,27.0,null,null,null,null,34.0,null,null,null,null,null,null,null,null,24.0,null,null,null,null,18.0,22.0,15.0,1.0,20.0,19.0,33.0,null,null,null,null,12.0,14.0,29.0,28.0,18.0,26.0,21.0,41.0,39.0,21.0,28.5,22.0,61.0,null,null,null,null,null,null,23.0,null,null,null,22.0,null,null,9.0,28.0,42.0,null,31.0,28.0,32.0,20.0,23.0,20.0,20.0,16.0,31.0,null,2.0,6.0,3.0,8.0,29.0,1.0,7.0,2.0,16.0,14.0,41.0,21.0,19.0,null,32.0,0.75,3.0,26.0,null,null,null,21.0,25.0,22.0,25.0,null,null,null,null,24.0,28.0,19.0,null,25.0,18.0,32.0,null,17.0,24.0,null,null,null,null,38.0,21.0,10.0,4.0,7.0,2.0,8.0,39.0,22.0,35.0,null,null,null,50.0,47.0,null,null,2.0,18.0,41.0,null,50.0,16.0,null,null,null,25.0,null,null,null,38.5,null,14.5,null,null,null,null,null,null,null,null,null,24.0,21.0,39.0,null,null,null,1.0,24.0,4.0,25.0,20.0,24.5,null,null,null,29.0,null,null,null,null,22.0,null,40.0,21.0,18.0,4.0,10.0,9.0,2.0,40.0,45.0,null,null,null,null,null,19.0,30.0,null,32.0,null,33.0,23.0,21.0,60.5,19.0,22.0,31.0,27.0,2.0,29.0,16.0,44.0,25.0,74.0,14.0,24.0,25.0,34.0,0.4167,null,null,null,16.0,null,null,null,32.0,null,null,30.5,44.0,null,25.0,null,7.0,9.0,29.0,36.0,18.0,63.0,null,11.5,40.5,10.0,36.0,30.0,null,33.0,28.0,28.0,47.0,18.0,31.0,16.0,31.0,22.0,20.0,14.0,22.0,22.0,null,null,null,32.5,38.0,51.0,18.0,21.0,47.0,null,null,null,28.5,21.0,27.0,null,36.0,27.0,15.0,45.5,null,null,14.5,null,26.5,27.0,29.0],\"type\":\"scatter3d\"}],                        {\"template\":{\"data\":{\"bar\":[{\"error_x\":{\"color\":\"#2a3f5f\"},\"error_y\":{\"color\":\"#2a3f5f\"},\"marker\":{\"line\":{\"color\":\"#E5ECF6\",\"width\":0.5},\"pattern\":{\"fillmode\":\"overlay\",\"size\":10,\"solidity\":0.2}},\"type\":\"bar\"}],\"barpolar\":[{\"marker\":{\"line\":{\"color\":\"#E5ECF6\",\"width\":0.5},\"pattern\":{\"fillmode\":\"overlay\",\"size\":10,\"solidity\":0.2}},\"type\":\"barpolar\"}],\"carpet\":[{\"aaxis\":{\"endlinecolor\":\"#2a3f5f\",\"gridcolor\":\"white\",\"linecolor\":\"white\",\"minorgridcolor\":\"white\",\"startlinecolor\":\"#2a3f5f\"},\"baxis\":{\"endlinecolor\":\"#2a3f5f\",\"gridcolor\":\"white\",\"linecolor\":\"white\",\"minorgridcolor\":\"white\",\"startlinecolor\":\"#2a3f5f\"},\"type\":\"carpet\"}],\"choropleth\":[{\"colorbar\":{\"outlinewidth\":0,\"ticks\":\"\"},\"type\":\"choropleth\"}],\"contour\":[{\"colorbar\":{\"outlinewidth\":0,\"ticks\":\"\"},\"colorscale\":[[0.0,\"#0d0887\"],[0.1111111111111111,\"#46039f\"],[0.2222222222222222,\"#7201a8\"],[0.3333333333333333,\"#9c179e\"],[0.4444444444444444,\"#bd3786\"],[0.5555555555555556,\"#d8576b\"],[0.6666666666666666,\"#ed7953\"],[0.7777777777777778,\"#fb9f3a\"],[0.8888888888888888,\"#fdca26\"],[1.0,\"#f0f921\"]],\"type\":\"contour\"}],\"contourcarpet\":[{\"colorbar\":{\"outlinewidth\":0,\"ticks\":\"\"},\"type\":\"contourcarpet\"}],\"heatmap\":[{\"colorbar\":{\"outlinewidth\":0,\"ticks\":\"\"},\"colorscale\":[[0.0,\"#0d0887\"],[0.1111111111111111,\"#46039f\"],[0.2222222222222222,\"#7201a8\"],[0.3333333333333333,\"#9c179e\"],[0.4444444444444444,\"#bd3786\"],[0.5555555555555556,\"#d8576b\"],[0.6666666666666666,\"#ed7953\"],[0.7777777777777778,\"#fb9f3a\"],[0.8888888888888888,\"#fdca26\"],[1.0,\"#f0f921\"]],\"type\":\"heatmap\"}],\"heatmapgl\":[{\"colorbar\":{\"outlinewidth\":0,\"ticks\":\"\"},\"colorscale\":[[0.0,\"#0d0887\"],[0.1111111111111111,\"#46039f\"],[0.2222222222222222,\"#7201a8\"],[0.3333333333333333,\"#9c179e\"],[0.4444444444444444,\"#bd3786\"],[0.5555555555555556,\"#d8576b\"],[0.6666666666666666,\"#ed7953\"],[0.7777777777777778,\"#fb9f3a\"],[0.8888888888888888,\"#fdca26\"],[1.0,\"#f0f921\"]],\"type\":\"heatmapgl\"}],\"histogram\":[{\"marker\":{\"pattern\":{\"fillmode\":\"overlay\",\"size\":10,\"solidity\":0.2}},\"type\":\"histogram\"}],\"histogram2d\":[{\"colorbar\":{\"outlinewidth\":0,\"ticks\":\"\"},\"colorscale\":[[0.0,\"#0d0887\"],[0.1111111111111111,\"#46039f\"],[0.2222222222222222,\"#7201a8\"],[0.3333333333333333,\"#9c179e\"],[0.4444444444444444,\"#bd3786\"],[0.5555555555555556,\"#d8576b\"],[0.6666666666666666,\"#ed7953\"],[0.7777777777777778,\"#fb9f3a\"],[0.8888888888888888,\"#fdca26\"],[1.0,\"#f0f921\"]],\"type\":\"histogram2d\"}],\"histogram2dcontour\":[{\"colorbar\":{\"outlinewidth\":0,\"ticks\":\"\"},\"colorscale\":[[0.0,\"#0d0887\"],[0.1111111111111111,\"#46039f\"],[0.2222222222222222,\"#7201a8\"],[0.3333333333333333,\"#9c179e\"],[0.4444444444444444,\"#bd3786\"],[0.5555555555555556,\"#d8576b\"],[0.6666666666666666,\"#ed7953\"],[0.7777777777777778,\"#fb9f3a\"],[0.8888888888888888,\"#fdca26\"],[1.0,\"#f0f921\"]],\"type\":\"histogram2dcontour\"}],\"mesh3d\":[{\"colorbar\":{\"outlinewidth\":0,\"ticks\":\"\"},\"type\":\"mesh3d\"}],\"parcoords\":[{\"line\":{\"colorbar\":{\"outlinewidth\":0,\"ticks\":\"\"}},\"type\":\"parcoords\"}],\"pie\":[{\"automargin\":true,\"type\":\"pie\"}],\"scatter\":[{\"marker\":{\"colorbar\":{\"outlinewidth\":0,\"ticks\":\"\"}},\"type\":\"scatter\"}],\"scatter3d\":[{\"line\":{\"colorbar\":{\"outlinewidth\":0,\"ticks\":\"\"}},\"marker\":{\"colorbar\":{\"outlinewidth\":0,\"ticks\":\"\"}},\"type\":\"scatter3d\"}],\"scattercarpet\":[{\"marker\":{\"colorbar\":{\"outlinewidth\":0,\"ticks\":\"\"}},\"type\":\"scattercarpet\"}],\"scattergeo\":[{\"marker\":{\"colorbar\":{\"outlinewidth\":0,\"ticks\":\"\"}},\"type\":\"scattergeo\"}],\"scattergl\":[{\"marker\":{\"colorbar\":{\"outlinewidth\":0,\"ticks\":\"\"}},\"type\":\"scattergl\"}],\"scattermapbox\":[{\"marker\":{\"colorbar\":{\"outlinewidth\":0,\"ticks\":\"\"}},\"type\":\"scattermapbox\"}],\"scatterpolar\":[{\"marker\":{\"colorbar\":{\"outlinewidth\":0,\"ticks\":\"\"}},\"type\":\"scatterpolar\"}],\"scatterpolargl\":[{\"marker\":{\"colorbar\":{\"outlinewidth\":0,\"ticks\":\"\"}},\"type\":\"scatterpolargl\"}],\"scatterternary\":[{\"marker\":{\"colorbar\":{\"outlinewidth\":0,\"ticks\":\"\"}},\"type\":\"scatterternary\"}],\"surface\":[{\"colorbar\":{\"outlinewidth\":0,\"ticks\":\"\"},\"colorscale\":[[0.0,\"#0d0887\"],[0.1111111111111111,\"#46039f\"],[0.2222222222222222,\"#7201a8\"],[0.3333333333333333,\"#9c179e\"],[0.4444444444444444,\"#bd3786\"],[0.5555555555555556,\"#d8576b\"],[0.6666666666666666,\"#ed7953\"],[0.7777777777777778,\"#fb9f3a\"],[0.8888888888888888,\"#fdca26\"],[1.0,\"#f0f921\"]],\"type\":\"surface\"}],\"table\":[{\"cells\":{\"fill\":{\"color\":\"#EBF0F8\"},\"line\":{\"color\":\"white\"}},\"header\":{\"fill\":{\"color\":\"#C8D4E3\"},\"line\":{\"color\":\"white\"}},\"type\":\"table\"}]},\"layout\":{\"annotationdefaults\":{\"arrowcolor\":\"#2a3f5f\",\"arrowhead\":0,\"arrowwidth\":1},\"autotypenumbers\":\"strict\",\"coloraxis\":{\"colorbar\":{\"outlinewidth\":0,\"ticks\":\"\"}},\"colorscale\":{\"diverging\":[[0,\"#8e0152\"],[0.1,\"#c51b7d\"],[0.2,\"#de77ae\"],[0.3,\"#f1b6da\"],[0.4,\"#fde0ef\"],[0.5,\"#f7f7f7\"],[0.6,\"#e6f5d0\"],[0.7,\"#b8e186\"],[0.8,\"#7fbc41\"],[0.9,\"#4d9221\"],[1,\"#276419\"]],\"sequential\":[[0.0,\"#0d0887\"],[0.1111111111111111,\"#46039f\"],[0.2222222222222222,\"#7201a8\"],[0.3333333333333333,\"#9c179e\"],[0.4444444444444444,\"#bd3786\"],[0.5555555555555556,\"#d8576b\"],[0.6666666666666666,\"#ed7953\"],[0.7777777777777778,\"#fb9f3a\"],[0.8888888888888888,\"#fdca26\"],[1.0,\"#f0f921\"]],\"sequentialminus\":[[0.0,\"#0d0887\"],[0.1111111111111111,\"#46039f\"],[0.2222222222222222,\"#7201a8\"],[0.3333333333333333,\"#9c179e\"],[0.4444444444444444,\"#bd3786\"],[0.5555555555555556,\"#d8576b\"],[0.6666666666666666,\"#ed7953\"],[0.7777777777777778,\"#fb9f3a\"],[0.8888888888888888,\"#fdca26\"],[1.0,\"#f0f921\"]]},\"colorway\":[\"#636efa\",\"#EF553B\",\"#00cc96\",\"#ab63fa\",\"#FFA15A\",\"#19d3f3\",\"#FF6692\",\"#B6E880\",\"#FF97FF\",\"#FECB52\"],\"font\":{\"color\":\"#2a3f5f\"},\"geo\":{\"bgcolor\":\"white\",\"lakecolor\":\"white\",\"landcolor\":\"#E5ECF6\",\"showlakes\":true,\"showland\":true,\"subunitcolor\":\"white\"},\"hoverlabel\":{\"align\":\"left\"},\"hovermode\":\"closest\",\"mapbox\":{\"style\":\"light\"},\"paper_bgcolor\":\"white\",\"plot_bgcolor\":\"#E5ECF6\",\"polar\":{\"angularaxis\":{\"gridcolor\":\"white\",\"linecolor\":\"white\",\"ticks\":\"\"},\"bgcolor\":\"#E5ECF6\",\"radialaxis\":{\"gridcolor\":\"white\",\"linecolor\":\"white\",\"ticks\":\"\"}},\"scene\":{\"xaxis\":{\"backgroundcolor\":\"#E5ECF6\",\"gridcolor\":\"white\",\"gridwidth\":2,\"linecolor\":\"white\",\"showbackground\":true,\"ticks\":\"\",\"zerolinecolor\":\"white\"},\"yaxis\":{\"backgroundcolor\":\"#E5ECF6\",\"gridcolor\":\"white\",\"gridwidth\":2,\"linecolor\":\"white\",\"showbackground\":true,\"ticks\":\"\",\"zerolinecolor\":\"white\"},\"zaxis\":{\"backgroundcolor\":\"#E5ECF6\",\"gridcolor\":\"white\",\"gridwidth\":2,\"linecolor\":\"white\",\"showbackground\":true,\"ticks\":\"\",\"zerolinecolor\":\"white\"}},\"shapedefaults\":{\"line\":{\"color\":\"#2a3f5f\"}},\"ternary\":{\"aaxis\":{\"gridcolor\":\"white\",\"linecolor\":\"white\",\"ticks\":\"\"},\"baxis\":{\"gridcolor\":\"white\",\"linecolor\":\"white\",\"ticks\":\"\"},\"bgcolor\":\"#E5ECF6\",\"caxis\":{\"gridcolor\":\"white\",\"linecolor\":\"white\",\"ticks\":\"\"}},\"title\":{\"x\":0.05},\"xaxis\":{\"automargin\":true,\"gridcolor\":\"white\",\"linecolor\":\"white\",\"ticks\":\"\",\"title\":{\"standoff\":15},\"zerolinecolor\":\"white\",\"zerolinewidth\":2},\"yaxis\":{\"automargin\":true,\"gridcolor\":\"white\",\"linecolor\":\"white\",\"ticks\":\"\",\"title\":{\"standoff\":15},\"zerolinecolor\":\"white\",\"zerolinewidth\":2}}},\"scene\":{\"domain\":{\"x\":[0.0,1.0],\"y\":[0.0,1.0]},\"xaxis\":{\"title\":{\"text\":\"title\"}},\"yaxis\":{\"title\":{\"text\":\"fare\"}},\"zaxis\":{\"title\":{\"text\":\"age\"}}},\"coloraxis\":{\"colorbar\":{\"title\":{\"text\":\"color\"}},\"colorscale\":[[0.0,\"#0d0887\"],[0.1111111111111111,\"#46039f\"],[0.2222222222222222,\"#7201a8\"],[0.3333333333333333,\"#9c179e\"],[0.4444444444444444,\"#bd3786\"],[0.5555555555555556,\"#d8576b\"],[0.6666666666666666,\"#ed7953\"],[0.7777777777777778,\"#fb9f3a\"],[0.8888888888888888,\"#fdca26\"],[1.0,\"#f0f921\"]]},\"legend\":{\"tracegroupgap\":0},\"margin\":{\"t\":60}},                        {\"responsive\": true}                    ).then(function(){\n",
              "                            \n",
              "var gd = document.getElementById('409fde4b-27d2-4b8b-94bf-b461cdfc6328');\n",
              "var x = new MutationObserver(function (mutations, observer) {{\n",
              "        var display = window.getComputedStyle(gd).display;\n",
              "        if (!display || display === 'none') {{\n",
              "            console.log([gd, 'removed!']);\n",
              "            Plotly.purge(gd);\n",
              "            observer.disconnect();\n",
              "        }}\n",
              "}});\n",
              "\n",
              "// Listen for the removal of the full notebook cells\n",
              "var notebookContainer = gd.closest('#notebook-container');\n",
              "if (notebookContainer) {{\n",
              "    x.observe(notebookContainer, {childList: true});\n",
              "}}\n",
              "\n",
              "// Listen for the clearing of the current output cell\n",
              "var outputEl = gd.closest('.output');\n",
              "if (outputEl) {{\n",
              "    x.observe(outputEl, {childList: true});\n",
              "}}\n",
              "\n",
              "                        })                };                            </script>        </div>\n",
              "</body>\n",
              "</html>"
            ]
          },
          "metadata": {}
        }
      ]
    },
    {
      "cell_type": "code",
      "source": [
        ""
      ],
      "metadata": {
        "id": "jC6SQl_5ZfyT"
      },
      "execution_count": null,
      "outputs": []
    }
  ]
}