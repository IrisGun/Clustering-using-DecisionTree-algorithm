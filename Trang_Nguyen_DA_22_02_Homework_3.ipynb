Decision Tree: Predicting survivals from the Titanic Disaster (50 points)\n",
        "\n",
        "\n"
      ],
      "metadata": {
        "id": "wFZYSMPE0lRX"
      }
    },
    {
      "cell_type": "markdown",
      "source": [
        "## Xây dựng mô hình dự đoán người sống sốt sau thảm họa tàu Titanic."
      ],
      "metadata": {
        "id": "el_RCcBWoh-5"
      }
    },
    {
      "cell_type": "markdown",
      "source": [
        "https://query.data.world/s/ckuvwmg55m3tkazkrw3u2os35jm6cg"
      ],
      "metadata": {
        "id": "sEES5Ki8umJW"
      }
    },
    {
      "cell_type": "code",
      "metadata": {
        "id": "nKNwVePW-fhs"
      },
      "source": [
        "# Import libraries\n",
        "import numpy as np\n",
        "import pandas as pd\n",
        "from sklearn.preprocessing import MinMaxScaler, StandardScaler\n",
        "from sklearn.model_selection import train_test_split\n",
        "from sklearn.linear_model import LogisticRegression\n",
        "from sklearn.metrics import classification_report, roc_auc_score, plot_confusion_matrix\n",
        "from sklearn.tree import DecisionTreeClassifier\n",
        "\n",
        "\n",
        "\n",
        "# plotting\n",
        "import matplotlib\n",
        "import matplotlib.pyplot as plt\n",
        "font = {'size' : 18}\n",
        "matplotlib.rc('font', **font)\n",
        "\n",
        "pd.set_option('display.max_columns',None)"
      ],
      "execution_count": null,
      "outputs": []
    },
    {
      "cell_type": "markdown",
      "metadata": {
        "id": "wiMBMI7rECER"
      },
      "source": [
        "## 1. Data loading (10 points)\n",
        "Requirement:\n",
        "  - Load the dataset from csv to pandas. (5 points)"
      ]
    },
    {
      "cell_type": "code",
      "source": [
        "## YOUR CODE HERE ##\n",
        "data='https://query.data.world/s/ckuvwmg55m3tkazkrw3u2os35jm6cg'\n",
        "df=pd.read_csv(data)\n",
        "print(df.shape)\n",
        "df.head(n=20)\n",
        "df.tail()"
      ],
      "metadata": {
        "id": "nMZyo9M2rl7w",
        "colab": {
          "base_uri": "https://localhost:8080/",
          "height": 223
        },
        "outputId": "e7b7dc1b-e559-4a6b-cc28-9b33ca1daeae"
      },
      "execution_count": null,
      "outputs": [
        {
          "output_type": "stream",
          "name": "stdout",
          "text": [
            "(1310, 14)\n"
          ]
        },
        {
          "output_type": "execute_result",
          "data": {
            "text/plain": [
              "      pclass  survived                       name     sex   age  sibsp  parch  \\\n",
              "1305     3.0       0.0      Zabour, Miss. Thamine  female   NaN    1.0    0.0   \n",
              "1306     3.0       0.0  Zakarian, Mr. Mapriededer    male  26.5    0.0    0.0   \n",
              "1307     3.0       0.0        Zakarian, Mr. Ortin    male  27.0    0.0    0.0   \n",
              "1308     3.0       0.0         Zimmerman, Mr. Leo    male  29.0    0.0    0.0   \n",
              "1309     NaN       NaN                        NaN     NaN   NaN    NaN    NaN   \n",
              "\n",
              "      ticket     fare cabin embarked boat   body home.dest  \n",
              "1305    2665  14.4542   NaN        C  NaN    NaN       NaN  \n",
              "1306    2656   7.2250   NaN        C  NaN  304.0       NaN  \n",
              "1307    2670   7.2250   NaN        C  NaN    NaN       NaN  \n",
              "1308  315082   7.8750   NaN        S  NaN    NaN       NaN  \n",
              "1309     NaN      NaN   NaN      NaN  NaN    NaN       NaN  "
            ],
            "text/html": [
              "\n",
              "  <div id=\"df-4880135f-eda9-4f45-9700-e205847a2614\">\n",
              "    <div class=\"colab-df-container\">\n",
              "      <div>\n",
              "<style scoped>\n",
              "    .dataframe tbody tr th:only-of-type {\n",
              "        vertical-align: middle;\n",
              "    }\n",
              "\n",
              "    .dataframe tbody tr th {\n",
              "        vertical-align: top;\n",
              "    }\n",
              "\n",
              "    .dataframe thead th {\n",
              "        text-align: right;\n",
              "    }\n",
              "</style>\n",
              "<table border=\"1\" class=\"dataframe\">\n",
              "  <thead>\n",
              "    <tr style=\"text-align: right;\">\n",
              "      <th></th>\n",
              "      <th>pclass</th>\n",
              "      <th>survived</th>\n",
              "      <th>name</th>\n",
              "      <th>sex</th>\n",
              "      <th>age</th>\n",
              "      <th>sibsp</th>\n",
              "      <th>parch</th>\n",
              "      <th>ticket</th>\n",
              "      <th>fare</th>\n",
              "      <th>cabin</th>\n",
              "      <th>embarked</th>\n",
              "      <th>boat</th>\n",
              "      <th>body</th>\n",
              "      <th>home.dest</th>\n",
              "    </tr>\n",
              "  </thead>\n",
              "  <tbody>\n",
              "    <tr>\n",
              "      <th>1305</th>\n",
              "      <td>3.0</td>\n",
              "      <td>0.0</td>\n",
              "      <td>Zabour, Miss. Thamine</td>\n",
              "      <td>female</td>\n",
              "      <td>NaN</td>\n",
              "      <td>1.0</td>\n",
              "      <td>0.0</td>\n",
              "      <td>2665</td>\n",
              "      <td>14.4542</td>\n",
              "      <td>NaN</td>\n",
              "      <td>C</td>\n",
              "      <td>NaN</td>\n",
              "      <td>NaN</td>\n",
              "      <td>NaN</td>\n",
              "    </tr>\n",
              "    <tr>\n",
              "      <th>1306</th>\n",
              "      <td>3.0</td>\n",
              "      <td>0.0</td>\n",
              "      <td>Zakarian, Mr. Mapriededer</td>\n",
              "      <td>male</td>\n",
              "      <td>26.5</td>\n",
              "      <td>0.0</td>\n",
              "      <td>0.0</td>\n",
              "      <td>2656</td>\n",
              "      <td>7.2250</td>\n",
              "      <td>NaN</td>\n",
              "      <td>C</td>\n",
              "      <td>NaN</td>\n",
              "      <td>304.0</td>\n",
              "      <td>NaN</td>\n",
              "    </tr>\n",
              "    <tr>\n",
              "      <th>1307</th>\n",
              "      <td>3.0</td>\n",
              "      <td>0.0</td>\n",
              "      <td>Zakarian, Mr. Ortin</td>\n",
              "      <td>male</td>\n",
              "      <td>27.0</td>\n",
              "      <td>0.0</td>\n",
              "      <td>0.0</td>\n",
              "      <td>2670</td>\n",
              "      <td>7.2250</td>\n",
              "      <td>NaN</td>\n",
              "      <td>C</td>\n",
              "      <td>NaN</td>\n",
              "      <td>NaN</td>\n",
              "      <td>NaN</td>\n",
              "    </tr>\n",
              "    <tr>\n",
              "      <th>1308</th>\n",
              "      <td>3.0</td>\n",
              "      <td>0.0</td>\n",
              "      <td>Zimmerman, Mr. Leo</td>\n",
              "      <td>male</td>\n",
              "      <td>29.0</td>\n",
              "      <td>0.0</td>\n",
              "      <td>0.0</td>\n",
              "      <td>315082</td>\n",
              "      <td>7.8750</td>\n",
              "      <td>NaN</td>\n",
              "      <td>S</td>\n",
              "      <td>NaN</td>\n",
              "      <td>NaN</td>\n",
              "      <td>NaN</td>\n",
              "    </tr>\n",
              "    <tr>\n",
              "      <th>1309</th>\n",
              "      <td>NaN</td>\n",
              "      <td>NaN</td>\n",
              "      <td>NaN</td>\n",
              "      <td>NaN</td>\n",
              "      <td>NaN</td>\n",
              "      <td>NaN</td>\n",
              "      <td>NaN</td>\n",
              "      <td>NaN</td>\n",
              "      <td>NaN</td>\n",
              "      <td>NaN</td>\n",
              "      <td>NaN</td>\n",
              "      <td>NaN</td>\n",
              "      <td>NaN</td>\n",
              "      <td>NaN</td>\n",
              "    </tr>\n",
              "  </tbody>\n",
              "</table>\n",
              "</div>\n",
              "      <button class=\"colab-df-convert\" onclick=\"convertToInteractive('df-4880135f-eda9-4f45-9700-e205847a2614')\"\n",
              "              title=\"Convert this dataframe to an interactive table.\"\n",
              "              style=\"display:none;\">\n",
              "        \n",
              "  <svg xmlns=\"http://www.w3.org/2000/svg\" height=\"24px\"viewBox=\"0 0 24 24\"\n",
              "       width=\"24px\">\n",
              "    <path d=\"M0 0h24v24H0V0z\" fill=\"none\"/>\n",
              "    <path d=\"M18.56 5.44l.94 2.06.94-2.06 2.06-.94-2.06-.94-.94-2.06-.94 2.06-2.06.94zm-11 1L8.5 8.5l.94-2.06 2.06-.94-2.06-.94L8.5 2.5l-.94 2.06-2.06.94zm10 10l.94 2.06.94-2.06 2.06-.94-2.06-.94-.94-2.06-.94 2.06-2.06.94z\"/><path d=\"M17.41 7.96l-1.37-1.37c-.4-.4-.92-.59-1.43-.59-.52 0-1.04.2-1.43.59L10.3 9.45l-7.72 7.72c-.78.78-.78 2.05 0 2.83L4 21.41c.39.39.9.59 1.41.59.51 0 1.02-.2 1.41-.59l7.78-7.78 2.81-2.81c.8-.78.8-2.07 0-2.86zM5.41 20L4 18.59l7.72-7.72 1.47 1.35L5.41 20z\"/>\n",
              "  </svg>\n",
              "      </button>\n",
              "      \n",
              "  <style>\n",
              "    .colab-df-container {\n",
              "      display:flex;\n",
              "      flex-wrap:wrap;\n",
              "      gap: 12px;\n",
              "    }\n",
              "\n",
              "    .colab-df-convert {\n",
              "      background-color: #E8F0FE;\n",
              "      border: none;\n",
              "      border-radius: 50%;\n",
              "      cursor: pointer;\n",
              "      display: none;\n",
              "      fill: #1967D2;\n",
              "      height: 32px;\n",
              "      padding: 0 0 0 0;\n",
              "      width: 32px;\n",
              "    }\n",
              "\n",
              "    .colab-df-convert:hover {\n",
              "      background-color: #E2EBFA;\n",
              "      box-shadow: 0px 1px 2px rgba(60, 64, 67, 0.3), 0px 1px 3px 1px rgba(60, 64, 67, 0.15);\n",
              "      fill: #174EA6;\n",
              "    }\n",
              "\n",
              "    [theme=dark] .colab-df-convert {\n",
              "      background-color: #3B4455;\n",
              "      fill: #D2E3FC;\n",
              "    }\n",
              "\n",
              "    [theme=dark] .colab-df-convert:hover {\n",
              "      background-color: #434B5C;\n",
              "      box-shadow: 0px 1px 3px 1px rgba(0, 0, 0, 0.15);\n",
              "      filter: drop-shadow(0px 1px 2px rgba(0, 0, 0, 0.3));\n",
              "      fill: #FFFFFF;\n",
              "    }\n",
              "  </style>\n",
              "\n",
              "      <script>\n",
              "        const buttonEl =\n",
              "          document.querySelector('#df-4880135f-eda9-4f45-9700-e205847a2614 button.colab-df-convert');\n",
              "        buttonEl.style.display =\n",
              "          google.colab.kernel.accessAllowed ? 'block' : 'none';\n",
              "\n",
              "        async function convertToInteractive(key) {\n",
              "          const element = document.querySelector('#df-4880135f-eda9-4f45-9700-e205847a2614');\n",
              "          const dataTable =\n",
              "            await google.colab.kernel.invokeFunction('convertToInteractive',\n",
              "                                                     [key], {});\n",
              "          if (!dataTable) return;\n",
              "\n",
              "          const docLinkHtml = 'Like what you see? Visit the ' +\n",
              "            '<a target=\"_blank\" href=https://colab.research.google.com/notebooks/data_table.ipynb>data table notebook</a>'\n",
              "            + ' to learn more about interactive tables.';\n",
              "          element.innerHTML = '';\n",
              "          dataTable['output_type'] = 'display_data';\n",
              "          await google.colab.output.renderOutput(dataTable, element);\n",
              "          const docLink = document.createElement('div');\n",
              "          docLink.innerHTML = docLinkHtml;\n",
              "          element.appendChild(docLink);\n",
              "        }\n",
              "      </script>\n",
              "    </div>\n",
              "  </div>\n",
              "  "
            ]
          },
          "metadata": {},
          "execution_count": 31
        }
      ]
    },
    {
      "cell_type": "markdown",
      "source": [
        "\n",
        "First glance and Summary:\\\n",
        "__Feature:__\n",
        "\n",
        "\n",
        "1.   survival: 0 - No, 1 - Yes\n",
        "2.   calss: Passenger Class (1st, 2nd, 3rd)\n",
        "3. sibsp: Number of Siblings/Spouses Abroard\n",
        "4. parch - Number of Parents/Children Aboard\n",
        "5. ticket: Ticket number\n",
        "6. fare: Passenger Fare\n",
        "7. embarked: Port of Embarkation (C=Cherbourg, Q=Queenstown, S=Southampton)\n",
        "8. boat: Lifeboat (if survived)\n",
        "9. body: Body number (if did not survive and body was recovered)\n",
        "10. home_dest: Home destination (?)\n",
        "11. name: Name of passensger which includes their title after the comma regarding gender and marital status such as Mr., Ms., .. job and position such as Col. (colonel), Dr., etc.\n",
        "\n"
      ],
      "metadata": {
        "id": "mamyvCXM4wba"
      }
    },
    {
      "cell_type": "code",
      "source": [
        "df.info()"
      ],
      "metadata": {
        "colab": {
          "base_uri": "https://localhost:8080/"
        },
        "id": "nVV5TOoDF2gs",
        "outputId": "4d0ce9ee-a01a-4533-a38e-2c53496eb7f2"
      },
      "execution_count": null,
      "outputs": [
        {
          "output_type": "stream",
          "name": "stdout",
          "text": [
            "<class 'pandas.core.frame.DataFrame'>\n",
            "RangeIndex: 1310 entries, 0 to 1309\n",
            "Data columns (total 14 columns):\n",
            " #   Column     Non-Null Count  Dtype  \n",
            "---  ------     --------------  -----  \n",
            " 0   pclass     1309 non-null   float64\n",
            " 1   survived   1309 non-null   float64\n",
            " 2   name       1309 non-null   object \n",
            " 3   sex        1309 non-null   object \n",
            " 4   age        1046 non-null   float64\n",
            " 5   sibsp      1309 non-null   float64\n",
            " 6   parch      1309 non-null   float64\n",
            " 7   ticket     1309 non-null   object \n",
            " 8   fare       1308 non-null   float64\n",
            " 9   cabin      295 non-null    object \n",
            " 10  embarked   1307 non-null   object \n",
            " 11  boat       486 non-null    object \n",
            " 12  body       121 non-null    float64\n",
            " 13  home.dest  745 non-null    object \n",
            "dtypes: float64(7), object(7)\n",
            "memory usage: 143.4+ KB\n"
          ]
        }
      ]
    },
    {
      "cell_type": "markdown",
      "source": [
        "  - Break down the dataset into X (features) and y(label) ~ to be predicted. (5 points)\\\n",
        "  Chia dữ liệu thành X (features) và y (label) cần dự đoán."
      ],
      "metadata": {
        "id": "PPZanRyOcopr"
      }
    },
    {
      "cell_type": "code",
      "source": [
        "#The last row only contains index => drop\n",
        "df=df[:-1]\n",
        "df.isnull().sum()/len(df)*100"
      ],
      "metadata": {
        "colab": {
          "base_uri": "https://localhost:8080/"
        },
        "id": "sB4mLnhHCqz3",
        "outputId": "4e07fb15-6fc2-4ca4-f0d6-e0032a7830f7"
      },
      "execution_count": null,
      "outputs": [
        {
          "output_type": "execute_result",
          "data": {
            "text/plain": [
              "pclass        0.000000\n",
              "survived      0.000000\n",
              "name          0.000000\n",
              "sex           0.000000\n",
              "age          20.091673\n",
              "sibsp         0.000000\n",
              "parch         0.000000\n",
              "ticket        0.000000\n",
              "fare          0.076394\n",
              "cabin        77.463713\n",
              "embarked      0.152788\n",
              "boat         62.872422\n",
              "body         90.756303\n",
              "home.dest    43.086325\n",
              "dtype: float64"
            ]
          },
          "metadata": {},
          "execution_count": 33
        }
      ]
    },
    {
      "cell_type": "code",
      "source": [
        "## YOUR CODE HERE ##\n",
        "X = df.drop(columns=['survived','boat'])\n",
        "y = df.survived"
      ],
      "metadata": {
        "id": "9YxnRCTCcyG6"
      },
      "execution_count": null,
      "outputs": []
    },
    {
      "cell_type": "markdown",
      "metadata": {
        "id": "WdGfMWZT-rDP"
      },
      "source": [
        "## 2. Data preprocessing (15 points)"
      ]
    },
    {
      "cell_type": "markdown",
      "metadata": {
        "id": "0DDYkjs7_nTs"
      },
      "source": [
        "Requirement:\n",
        "  - Convert the text data into numerical data.\\\n",
        "  Chuyển dữ liệu dạng chữ thành dạng số."
      ]
    },
    {
      "cell_type": "code",
      "metadata": {
        "id": "XZgG34g8ZNKS",
        "colab": {
          "base_uri": "https://localhost:8080/"
        },
        "outputId": "8b422b1b-bbf8-408f-ae12-88e7ed9d8a16"
      },
      "source": [
        "## YOUR CODE HERE ##\n",
        "df.info()\n",
        "for i in df.select_dtypes(include='object'):\n",
        "  print(i, df[i].nunique())"
      ],
      "execution_count": null,
      "outputs": [
        {
          "output_type": "stream",
          "name": "stdout",
          "text": [
            "<class 'pandas.core.frame.DataFrame'>\n",
            "RangeIndex: 1309 entries, 0 to 1308\n",
            "Data columns (total 14 columns):\n",
            " #   Column     Non-Null Count  Dtype  \n",
            "---  ------     --------------  -----  \n",
            " 0   pclass     1309 non-null   float64\n",
            " 1   survived   1309 non-null   float64\n",
            " 2   name       1309 non-null   object \n",
            " 3   sex        1309 non-null   object \n",
            " 4   age        1046 non-null   float64\n",
            " 5   sibsp      1309 non-null   float64\n",
            " 6   parch      1309 non-null   float64\n",
            " 7   ticket     1309 non-null   object \n",
            " 8   fare       1308 non-null   float64\n",
            " 9   cabin      295 non-null    object \n",
            " 10  embarked   1307 non-null   object \n",
            " 11  boat       486 non-null    object \n",
            " 12  body       121 non-null    float64\n",
            " 13  home.dest  745 non-null    object \n",
            "dtypes: float64(7), object(7)\n",
            "memory usage: 143.3+ KB\n",
            "name 1307\n",
            "sex 2\n",
            "ticket 929\n",
            "cabin 186\n",
            "embarked 3\n",
            "boat 27\n",
            "home.dest 369\n"
          ]
        }
      ]
    },
    {
      "cell_type": "markdown",
      "source": [
        "_Idea_ \\\n",
        "1. _name_ \\\n",
        "Unique name seems not useful at all => Extract only title and see if it has any contribution as the title may reflect passenger's social status and it deems to effect their chance of survive.\\\n",
        "Obtain the title by splitting name to take only string after the comma (,) and before the period (.)\n",
        "\n",
        "2. _cabin_ \\\n",
        "Cabin may have slight effect on the survival chance of the passenger. For example the nearer the cabin is to the stairs, the higher chance they may survival. \\\n",
        "But as no such information can be seen from the dataset and missing rate is fairly high => DROP this columns. \\\n",
        "Same thing happens to *'ticket', 'body', and 'home.dest'* column as they show no rational contribution.\n",
        "\n"
      ],
      "metadata": {
        "id": "xcnhdaU6S9d7"
      }
    },
    {
      "cell_type": "code",
      "source": [
        "#Obtain title column:\n",
        "df['title']=df['name'].str.split('.').str[0]\n",
        "df['title']=df['title'].str.split(', ').str[1]\n",
        "df.head()\n",
        "\n",
        "\n",
        "#Drop columns\n",
        "df.drop(columns=['name','ticket','cabin','body','home.dest'], axis=1, inplace=True)\n",
        "df.head()"
      ],
      "metadata": {
        "colab": {
          "base_uri": "https://localhost:8080/",
          "height": 206
        },
        "id": "AsabCd3673z5",
        "outputId": "4a6eaac2-32ce-4f41-b757-3e5e27b0dde4"
      },
      "execution_count": null,
      "outputs": [
        {
          "output_type": "execute_result",
          "data": {
            "text/plain": [
              "   pclass  survived     sex      age  sibsp  parch      fare embarked boat  \\\n",
              "0     1.0       1.0  female  29.0000    0.0    0.0  211.3375        S    2   \n",
              "1     1.0       1.0    male   0.9167    1.0    2.0  151.5500        S   11   \n",
              "2     1.0       0.0  female   2.0000    1.0    2.0  151.5500        S  NaN   \n",
              "3     1.0       0.0    male  30.0000    1.0    2.0  151.5500        S  NaN   \n",
              "4     1.0       0.0  female  25.0000    1.0    2.0  151.5500        S  NaN   \n",
              "\n",
              "    title  \n",
              "0    Miss  \n",
              "1  Master  \n",
              "2    Miss  \n",
              "3      Mr  \n",
              "4     Mrs  "
            ],
            "text/html": [
              "\n",
              "  <div id=\"df-7332adb1-bbd9-4fed-9610-273f28743852\">\n",
              "    <div class=\"colab-df-container\">\n",
              "      <div>\n",
              "<style scoped>\n",
              "    .dataframe tbody tr th:only-of-type {\n",
              "        vertical-align: middle;\n",
              "    }\n",
              "\n",
              "    .dataframe tbody tr th {\n",
              "        vertical-align: top;\n",
              "    }\n",
              "\n",
              "    .dataframe thead th {\n",
              "        text-align: right;\n",
              "    }\n",
              "</style>\n",
              "<table border=\"1\" class=\"dataframe\">\n",
              "  <thead>\n",
              "    <tr style=\"text-align: right;\">\n",
              "      <th></th>\n",
              "      <th>pclass</th>\n",
              "      <th>survived</th>\n",
              "      <th>sex</th>\n",
              "      <th>age</th>\n",
              "      <th>sibsp</th>\n",
              "      <th>parch</th>\n",
              "      <th>fare</th>\n",
              "      <th>embarked</th>\n",
              "      <th>boat</th>\n",
              "      <th>title</th>\n",
              "    </tr>\n",
              "  </thead>\n",
              "  <tbody>\n",
              "    <tr>\n",
              "      <th>0</th>\n",
              "      <td>1.0</td>\n",
              "      <td>1.0</td>\n",
              "      <td>female</td>\n",
              "      <td>29.0000</td>\n",
              "      <td>0.0</td>\n",
              "      <td>0.0</td>\n",
              "      <td>211.3375</td>\n",
              "      <td>S</td>\n",
              "      <td>2</td>\n",
              "      <td>Miss</td>\n",
              "    </tr>\n",
              "    <tr>\n",
              "      <th>1</th>\n",
              "      <td>1.0</td>\n",
              "      <td>1.0</td>\n",
              "      <td>male</td>\n",
              "      <td>0.9167</td>\n",
              "      <td>1.0</td>\n",
              "      <td>2.0</td>\n",
              "      <td>151.5500</td>\n",
              "      <td>S</td>\n",
              "      <td>11</td>\n",
              "      <td>Master</td>\n",
              "    </tr>\n",
              "    <tr>\n",
              "      <th>2</th>\n",
              "      <td>1.0</td>\n",
              "      <td>0.0</td>\n",
              "      <td>female</td>\n",
              "      <td>2.0000</td>\n",
              "      <td>1.0</td>\n",
              "      <td>2.0</td>\n",
              "      <td>151.5500</td>\n",
              "      <td>S</td>\n",
              "      <td>NaN</td>\n",
              "      <td>Miss</td>\n",
              "    </tr>\n",
              "    <tr>\n",
              "      <th>3</th>\n",
              "      <td>1.0</td>\n",
              "      <td>0.0</td>\n",
              "      <td>male</td>\n",
              "      <td>30.0000</td>\n",
              "      <td>1.0</td>\n",
              "      <td>2.0</td>\n",
              "      <td>151.5500</td>\n",
              "      <td>S</td>\n",
              "      <td>NaN</td>\n",
              "      <td>Mr</td>\n",
              "    </tr>\n",
              "    <tr>\n",
              "      <th>4</th>\n",
              "      <td>1.0</td>\n",
              "      <td>0.0</td>\n",
              "      <td>female</td>\n",
              "      <td>25.0000</td>\n",
              "      <td>1.0</td>\n",
              "      <td>2.0</td>\n",
              "      <td>151.5500</td>\n",
              "      <td>S</td>\n",
              "      <td>NaN</td>\n",
              "      <td>Mrs</td>\n",
              "    </tr>\n",
              "  </tbody>\n",
              "</table>\n",
              "</div>\n",
              "      <button class=\"colab-df-convert\" onclick=\"convertToInteractive('df-7332adb1-bbd9-4fed-9610-273f28743852')\"\n",
              "              title=\"Convert this dataframe to an interactive table.\"\n",
              "              style=\"display:none;\">\n",
              "        \n",
              "  <svg xmlns=\"http://www.w3.org/2000/svg\" height=\"24px\"viewBox=\"0 0 24 24\"\n",
              "       width=\"24px\">\n",
              "    <path d=\"M0 0h24v24H0V0z\" fill=\"none\"/>\n",
              "    <path d=\"M18.56 5.44l.94 2.06.94-2.06 2.06-.94-2.06-.94-.94-2.06-.94 2.06-2.06.94zm-11 1L8.5 8.5l.94-2.06 2.06-.94-2.06-.94L8.5 2.5l-.94 2.06-2.06.94zm10 10l.94 2.06.94-2.06 2.06-.94-2.06-.94-.94-2.06-.94 2.06-2.06.94z\"/><path d=\"M17.41 7.96l-1.37-1.37c-.4-.4-.92-.59-1.43-.59-.52 0-1.04.2-1.43.59L10.3 9.45l-7.72 7.72c-.78.78-.78 2.05 0 2.83L4 21.41c.39.39.9.59 1.41.59.51 0 1.02-.2 1.41-.59l7.78-7.78 2.81-2.81c.8-.78.8-2.07 0-2.86zM5.41 20L4 18.59l7.72-7.72 1.47 1.35L5.41 20z\"/>\n",
              "  </svg>\n",
              "      </button>\n",
              "      \n",
              "  <style>\n",
              "    .colab-df-container {\n",
              "      display:flex;\n",
              "      flex-wrap:wrap;\n",
              "      gap: 12px;\n",
              "    }\n",
              "\n",
              "    .colab-df-convert {\n",
              "      background-color: #E8F0FE;\n",
              "      border: none;\n",
              "      border-radius: 50%;\n",
              "      cursor: pointer;\n",
              "      display: none;\n",
              "      fill: #1967D2;\n",
              "      height: 32px;\n",
              "      padding: 0 0 0 0;\n",
              "      width: 32px;\n",
              "    }\n",
              "\n",
              "    .colab-df-convert:hover {\n",
              "      background-color: #E2EBFA;\n",
              "      box-shadow: 0px 1px 2px rgba(60, 64, 67, 0.3), 0px 1px 3px 1px rgba(60, 64, 67, 0.15);\n",
              "      fill: #174EA6;\n",
              "    }\n",
              "\n",
              "    [theme=dark] .colab-df-convert {\n",
              "      background-color: #3B4455;\n",
              "      fill: #D2E3FC;\n",
              "    }\n",
              "\n",
              "    [theme=dark] .colab-df-convert:hover {\n",
              "      background-color: #434B5C;\n",
              "      box-shadow: 0px 1px 3px 1px rgba(0, 0, 0, 0.15);\n",
              "      filter: drop-shadow(0px 1px 2px rgba(0, 0, 0, 0.3));\n",
              "      fill: #FFFFFF;\n",
              "    }\n",
              "  </style>\n",
              "\n",
              "      <script>\n",
              "        const buttonEl =\n",
              "          document.querySelector('#df-7332adb1-bbd9-4fed-9610-273f28743852 button.colab-df-convert');\n",
              "        buttonEl.style.display =\n",
              "          google.colab.kernel.accessAllowed ? 'block' : 'none';\n",
              "\n",
              "        async function convertToInteractive(key) {\n",
              "          const element = document.querySelector('#df-7332adb1-bbd9-4fed-9610-273f28743852');\n",
              "          const dataTable =\n",
              "            await google.colab.kernel.invokeFunction('convertToInteractive',\n",
              "                                                     [key], {});\n",
              "          if (!dataTable) return;\n",
              "\n",
              "          const docLinkHtml = 'Like what you see? Visit the ' +\n",
              "            '<a target=\"_blank\" href=https://colab.research.google.com/notebooks/data_table.ipynb>data table notebook</a>'\n",
              "            + ' to learn more about interactive tables.';\n",
              "          element.innerHTML = '';\n",
              "          dataTable['output_type'] = 'display_data';\n",
              "          await google.colab.output.renderOutput(dataTable, element);\n",
              "          const docLink = document.createElement('div');\n",
              "          docLink.innerHTML = docLinkHtml;\n",
              "          element.appendChild(docLink);\n",
              "        }\n",
              "      </script>\n",
              "    </div>\n",
              "  </div>\n",
              "  "
            ]
          },
          "metadata": {},
          "execution_count": 36
        }
      ]
    },
    {
      "cell_type": "code",
      "source": [
        "df.info()\n",
        "df.drop(columns=['boat'])\n",
        "for i in df.select_dtypes(include=['object']):\n",
        "  print(i, df[i].value_counts())"
      ],
      "metadata": {
        "colab": {
          "base_uri": "https://localhost:8080/"
        },
        "id": "7B1vblbrNRYV",
        "outputId": "a27640e6-2514-4f73-a5bb-a7765404995d"
      },
      "execution_count": null,
      "outputs": [
        {
          "output_type": "stream",
          "name": "stdout",
          "text": [
            "<class 'pandas.core.frame.DataFrame'>\n",
            "RangeIndex: 1309 entries, 0 to 1308\n",
            "Data columns (total 10 columns):\n",
            " #   Column    Non-Null Count  Dtype  \n",
            "---  ------    --------------  -----  \n",
            " 0   pclass    1309 non-null   float64\n",
            " 1   survived  1309 non-null   float64\n",
            " 2   sex       1309 non-null   object \n",
            " 3   age       1046 non-null   float64\n",
            " 4   sibsp     1309 non-null   float64\n",
            " 5   parch     1309 non-null   float64\n",
            " 6   fare      1308 non-null   float64\n",
            " 7   embarked  1307 non-null   object \n",
            " 8   boat      486 non-null    object \n",
            " 9   title     1309 non-null   object \n",
            "dtypes: float64(6), object(4)\n",
            "memory usage: 102.4+ KB\n",
            "sex male      843\n",
            "female    466\n",
            "Name: sex, dtype: int64\n",
            "embarked S    914\n",
            "C    270\n",
            "Q    123\n",
            "Name: embarked, dtype: int64\n",
            "boat 13         39\n",
            "C          38\n",
            "15         37\n",
            "14         33\n",
            "4          31\n",
            "10         29\n",
            "5          27\n",
            "3          26\n",
            "9          25\n",
            "11         25\n",
            "16         23\n",
            "8          23\n",
            "7          23\n",
            "D          20\n",
            "6          20\n",
            "12         19\n",
            "2          13\n",
            "A          11\n",
            "B           9\n",
            "1           5\n",
            "5 7         2\n",
            "C D         2\n",
            "13 15       2\n",
            "5 9         1\n",
            "8 10        1\n",
            "13 15 B     1\n",
            "15 16       1\n",
            "Name: boat, dtype: int64\n",
            "title Mr              757\n",
            "Miss            260\n",
            "Mrs             197\n",
            "Master           61\n",
            "Rev               8\n",
            "Dr                8\n",
            "Col               4\n",
            "Mlle              2\n",
            "Ms                2\n",
            "Major             2\n",
            "Capt              1\n",
            "Sir               1\n",
            "Dona              1\n",
            "Jonkheer          1\n",
            "the Countess      1\n",
            "Don               1\n",
            "Mme               1\n",
            "Lady              1\n",
            "Name: title, dtype: int64\n"
          ]
        }
      ]
    },
    {
      "cell_type": "markdown",
      "source": [
        "#### Ideas for encoding:\n",
        "\n",
        "\n",
        "1.   __boat__ \\\n",
        "is an ambiguous column: this colum shows number of life boats avaible or code name of the boat?\n",
        "As the analysist (a.k.a me) can not find any desription of this column \\\n",
        "=> The Analysist will *assign 1 for non-null and 0 for NA*\n",
        "\n",
        "2. __embarked__ \\\n",
        "Encoded by pd.get_dummies\n",
        "\n",
        "3. __title__ \\\n",
        "* There are some titles that specify passengers' high social status like: the Countess, Jonkheer, Sir, etc. => Group them into one category called \"Noble\"\n",
        "* Some categories seem mispelling or inconsistent: Mlle, Mme \\\n",
        "_Note: the catergorization is relatively acceptable only as I have limited knowledge in this field. \\\n",
        "(Oh gosh it was like a Western history class now_  ㅠㅠ)\n",
        "* As per above assumption, __title__ should be encoded as an ordinal catergorical variable. \n",
        "4. __pclass__\\\n",
        "has d_type as float but it's actually a ordinal catergorical variable => Let it be"
      ],
      "metadata": {
        "id": "3klBNVthR2a7"
      }
    },
    {
      "cell_type": "code",
      "source": [
        "#ENCODING: 4 columns that need to be encoded: sex, embarked, boat, title.\n",
        "\n",
        "#Encoding gender\n",
        "df['sex']=df.sex.apply(lambda x:0 if x=='female' else 1)\n",
        "\n",
        "#Encoding boat\n",
        "#boat is an ambiguous column: this colum shows number of life boats avaible or code name of the boat?\n",
        "#as the analysist (a.k.a me) can not find any desription of this column\n",
        "#=> The Analysist will assign 1 for non-null and 0 for NA\n",
        "#df['boat']=df['boat'].notnull().astype(int)\n",
        "#df.head()\n"
      ],
      "metadata": {
        "id": "YTah0-0kIrO7"
      },
      "execution_count": null,
      "outputs": []
    },
    {
      "cell_type": "code",
      "source": [
        "#Encode title\n",
        "\n",
        "#Show number of survivals/total number of people grouped by their title.\n",
        "df.groupby(['title']).mean().sort_values(['survived'], ascending=False)['survived']"
      ],
      "metadata": {
        "colab": {
          "base_uri": "https://localhost:8080/"
        },
        "id": "2dCG69kUYqhQ",
        "outputId": "ba9d0a63-0ab0-4b91-d0d1-865807b40aca"
      },
      "execution_count": null,
      "outputs": [
        {
          "output_type": "execute_result",
          "data": {
            "text/plain": [
              "title\n",
              "the Countess    1.000000\n",
              "Mlle            1.000000\n",
              "Sir             1.000000\n",
              "Dona            1.000000\n",
              "Mme             1.000000\n",
              "Lady            1.000000\n",
              "Mrs             0.786802\n",
              "Miss            0.676923\n",
              "Master          0.508197\n",
              "Col             0.500000\n",
              "Major           0.500000\n",
              "Dr              0.500000\n",
              "Ms              0.500000\n",
              "Mr              0.162483\n",
              "Jonkheer        0.000000\n",
              "Rev             0.000000\n",
              "Don             0.000000\n",
              "Capt            0.000000\n",
              "Name: survived, dtype: float64"
            ]
          },
          "metadata": {},
          "execution_count": 39
        }
      ]
    },
    {
      "cell_type": "markdown",
      "source": [
        "From the above mean (number of survivors divided by total number of people belong to the title group) the Analysist assume the survival chance related to title as: \\\n",
        "Man: 1 \\\n",
        "Master: 2 \\\n",
        "Miss: 3 \\\n",
        "Mrs: 4 \\\n",
        "Noble: 5"
      ],
      "metadata": {
        "id": "m6FHvzL5e4WN"
      }
    },
    {
      "cell_type": "code",
      "source": [
        "df['title_']=df['title']\n",
        "df['title_']=df['title_'].replace(['the Countess', 'Dona', 'Lady', 'Col', 'Capt', 'Dr', 'Jonkheer',\n",
        "                                 'Rev', 'Don', 'Sir', 'Major'], 'Noble')\n",
        "df['title_'] = df['title_'].replace({'Mlle': 'Miss', 'Ms': 'Miss', 'Mme': 'Mrs'})\n",
        "df.title_.value_counts()\n",
        "#df.groupby(['title_']).mean().sort_values(['survived'], ascending=False)['survived']"
      ],
      "metadata": {
        "colab": {
          "base_uri": "https://localhost:8080/"
        },
        "id": "DuX1fzfLfeG4",
        "outputId": "e836799f-f1c4-465a-fbca-8ff3f14e16ec"
      },
      "execution_count": null,
      "outputs": [
        {
          "output_type": "execute_result",
          "data": {
            "text/plain": [
              "Mr        757\n",
              "Miss      264\n",
              "Mrs       198\n",
              "Master     61\n",
              "Noble      29\n",
              "Name: title_, dtype: int64"
            ]
          },
          "metadata": {},
          "execution_count": 40
        }
      ]
    },
    {
      "cell_type": "code",
      "source": [
        "df['title_'] = df.title_.map({'Mr':1, 'Miss':3, 'Mrs':4, 'Master': 2, 'Noble': 5})\n",
        "df.head()"
      ],
      "metadata": {
        "colab": {
          "base_uri": "https://localhost:8080/",
          "height": 206
        },
        "id": "adxsMVtVhIEQ",
        "outputId": "67e03a45-7d3f-46fb-ae8d-f42c7d15f167"
      },
      "execution_count": null,
      "outputs": [
        {
          "output_type": "execute_result",
          "data": {
            "text/plain": [
              "   pclass  survived  sex      age  sibsp  parch      fare embarked boat  \\\n",
              "0     1.0       1.0    0  29.0000    0.0    0.0  211.3375        S    2   \n",
              "1     1.0       1.0    1   0.9167    1.0    2.0  151.5500        S   11   \n",
              "2     1.0       0.0    0   2.0000    1.0    2.0  151.5500        S  NaN   \n",
              "3     1.0       0.0    1  30.0000    1.0    2.0  151.5500        S  NaN   \n",
              "4     1.0       0.0    0  25.0000    1.0    2.0  151.5500        S  NaN   \n",
              "\n",
              "    title  title_  \n",
              "0    Miss       3  \n",
              "1  Master       2  \n",
              "2    Miss       3  \n",
              "3      Mr       1  \n",
              "4     Mrs       4  "
            ],
            "text/html": [
              "\n",
              "  <div id=\"df-09894d0b-7e10-4fc9-9143-077fa9a50ec9\">\n",
              "    <div class=\"colab-df-container\">\n",
              "      <div>\n",
              "<style scoped>\n",
              "    .dataframe tbody tr th:only-of-type {\n",
              "        vertical-align: middle;\n",
              "    }\n",
              "\n",
              "    .dataframe tbody tr th {\n",
              "        vertical-align: top;\n",
              "    }\n",
              "\n",
              "    .dataframe thead th {\n",
              "        text-align: right;\n",
              "    }\n",
              "</style>\n",
              "<table border=\"1\" class=\"dataframe\">\n",
              "  <thead>\n",
              "    <tr style=\"text-align: right;\">\n",
              "      <th></th>\n",
              "      <th>pclass</th>\n",
              "      <th>survived</th>\n",
              "      <th>sex</th>\n",
              "      <th>age</th>\n",
              "      <th>sibsp</th>\n",
              "      <th>parch</th>\n",
              "      <th>fare</th>\n",
              "      <th>embarked</th>\n",
              "      <th>boat</th>\n",
              "      <th>title</th>\n",
              "      <th>title_</th>\n",
              "    </tr>\n",
              "  </thead>\n",
              "  <tbody>\n",
              "    <tr>\n",
              "      <th>0</th>\n",
              "      <td>1.0</td>\n",
              "      <td>1.0</td>\n",
              "      <td>0</td>\n",
              "      <td>29.0000</td>\n",
              "      <td>0.0</td>\n",
              "      <td>0.0</td>\n",
              "      <td>211.3375</td>\n",
              "      <td>S</td>\n",
              "      <td>2</td>\n",
              "      <td>Miss</td>\n",
              "      <td>3</td>\n",
              "    </tr>\n",
              "    <tr>\n",
              "      <th>1</th>\n",
              "      <td>1.0</td>\n",
              "      <td>1.0</td>\n",
              "      <td>1</td>\n",
              "      <td>0.9167</td>\n",
              "      <td>1.0</td>\n",
              "      <td>2.0</td>\n",
              "      <td>151.5500</td>\n",
              "      <td>S</td>\n",
              "      <td>11</td>\n",
              "      <td>Master</td>\n",
              "      <td>2</td>\n",
              "    </tr>\n",
              "    <tr>\n",
              "      <th>2</th>\n",
              "      <td>1.0</td>\n",
              "      <td>0.0</td>\n",
              "      <td>0</td>\n",
              "      <td>2.0000</td>\n",
              "      <td>1.0</td>\n",
              "      <td>2.0</td>\n",
              "      <td>151.5500</td>\n",
              "      <td>S</td>\n",
              "      <td>NaN</td>\n",
              "      <td>Miss</td>\n",
              "      <td>3</td>\n",
              "    </tr>\n",
              "    <tr>\n",
              "      <th>3</th>\n",
              "      <td>1.0</td>\n",
              "      <td>0.0</td>\n",
              "      <td>1</td>\n",
              "      <td>30.0000</td>\n",
              "      <td>1.0</td>\n",
              "      <td>2.0</td>\n",
              "      <td>151.5500</td>\n",
              "      <td>S</td>\n",
              "      <td>NaN</td>\n",
              "      <td>Mr</td>\n",
              "      <td>1</td>\n",
              "    </tr>\n",
              "    <tr>\n",
              "      <th>4</th>\n",
              "      <td>1.0</td>\n",
              "      <td>0.0</td>\n",
              "      <td>0</td>\n",
              "      <td>25.0000</td>\n",
              "      <td>1.0</td>\n",
              "      <td>2.0</td>\n",
              "      <td>151.5500</td>\n",
              "      <td>S</td>\n",
              "      <td>NaN</td>\n",
              "      <td>Mrs</td>\n",
              "      <td>4</td>\n",
              "    </tr>\n",
              "  </tbody>\n",
              "</table>\n",
              "</div>\n",
              "      <button class=\"colab-df-convert\" onclick=\"convertToInteractive('df-09894d0b-7e10-4fc9-9143-077fa9a50ec9')\"\n",
              "              title=\"Convert this dataframe to an interactive table.\"\n",
              "              style=\"display:none;\">\n",
              "        \n",
              "  <svg xmlns=\"http://www.w3.org/2000/svg\" height=\"24px\"viewBox=\"0 0 24 24\"\n",
              "       width=\"24px\">\n",
              "    <path d=\"M0 0h24v24H0V0z\" fill=\"none\"/>\n",
              "    <path d=\"M18.56 5.44l.94 2.06.94-2.06 2.06-.94-2.06-.94-.94-2.06-.94 2.06-2.06.94zm-11 1L8.5 8.5l.94-2.06 2.06-.94-2.06-.94L8.5 2.5l-.94 2.06-2.06.94zm10 10l.94 2.06.94-2.06 2.06-.94-2.06-.94-.94-2.06-.94 2.06-2.06.94z\"/><path d=\"M17.41 7.96l-1.37-1.37c-.4-.4-.92-.59-1.43-.59-.52 0-1.04.2-1.43.59L10.3 9.45l-7.72 7.72c-.78.78-.78 2.05 0 2.83L4 21.41c.39.39.9.59 1.41.59.51 0 1.02-.2 1.41-.59l7.78-7.78 2.81-2.81c.8-.78.8-2.07 0-2.86zM5.41 20L4 18.59l7.72-7.72 1.47 1.35L5.41 20z\"/>\n",
              "  </svg>\n",
              "      </button>\n",
              "      \n",
              "  <style>\n",
              "    .colab-df-container {\n",
              "      display:flex;\n",
              "      flex-wrap:wrap;\n",
              "      gap: 12px;\n",
              "    }\n",
              "\n",
              "    .colab-df-convert {\n",
              "      background-color: #E8F0FE;\n",
              "      border: none;\n",
              "      border-radius: 50%;\n",
              "      cursor: pointer;\n",
              "      display: none;\n",
              "      fill: #1967D2;\n",
              "      height: 32px;\n",
              "      padding: 0 0 0 0;\n",
              "      width: 32px;\n",
              "    }\n",
              "\n",
              "    .colab-df-convert:hover {\n",
              "      background-color: #E2EBFA;\n",
              "      box-shadow: 0px 1px 2px rgba(60, 64, 67, 0.3), 0px 1px 3px 1px rgba(60, 64, 67, 0.15);\n",
              "      fill: #174EA6;\n",
              "    }\n",
              "\n",
              "    [theme=dark] .colab-df-convert {\n",
              "      background-color: #3B4455;\n",
              "      fill: #D2E3FC;\n",
              "    }\n",
              "\n",
              "    [theme=dark] .colab-df-convert:hover {\n",
              "      background-color: #434B5C;\n",
              "      box-shadow: 0px 1px 3px 1px rgba(0, 0, 0, 0.15);\n",
              "      filter: drop-shadow(0px 1px 2px rgba(0, 0, 0, 0.3));\n",
              "      fill: #FFFFFF;\n",
              "    }\n",
              "  </style>\n",
              "\n",
              "      <script>\n",
              "        const buttonEl =\n",
              "          document.querySelector('#df-09894d0b-7e10-4fc9-9143-077fa9a50ec9 button.colab-df-convert');\n",
              "        buttonEl.style.display =\n",
              "          google.colab.kernel.accessAllowed ? 'block' : 'none';\n",
              "\n",
              "        async function convertToInteractive(key) {\n",
              "          const element = document.querySelector('#df-09894d0b-7e10-4fc9-9143-077fa9a50ec9');\n",
              "          const dataTable =\n",
              "            await google.colab.kernel.invokeFunction('convertToInteractive',\n",
              "                                                     [key], {});\n",
              "          if (!dataTable) return;\n",
              "\n",
              "          const docLinkHtml = 'Like what you see? Visit the ' +\n",
              "            '<a target=\"_blank\" href=https://colab.research.google.com/notebooks/data_table.ipynb>data table notebook</a>'\n",
              "            + ' to learn more about interactive tables.';\n",
              "          element.innerHTML = '';\n",
              "          dataTable['output_type'] = 'display_data';\n",
              "          await google.colab.output.renderOutput(dataTable, element);\n",
              "          const docLink = document.createElement('div');\n",
              "          docLink.innerHTML = docLinkHtml;\n",
              "          element.appendChild(docLink);\n",
              "        }\n",
              "      </script>\n",
              "    </div>\n",
              "  </div>\n",
              "  "
            ]
          },
          "metadata": {},
          "execution_count": 41
        }
      ]
    },
    {
      "cell_type": "code",
      "source": [
        "#Encode embarked:\n",
        "\n",
        "df_2=pd.get_dummies(df, columns=['embarked'], drop_first= True)\n",
        "\n",
        "df_2.drop(columns=['boat'])\n",
        "df_2.info()"
      ],
      "metadata": {
        "colab": {
          "base_uri": "https://localhost:8080/"
        },
        "id": "C7fRwnE4jJ8u",
        "outputId": "c3643f8f-3b7f-4bbe-cd85-78cbda16c4e9"
      },
      "execution_count": null,
      "outputs": [
        {
          "output_type": "stream",
          "name": "stdout",
          "text": [
            "<class 'pandas.core.frame.DataFrame'>\n",
            "RangeIndex: 1309 entries, 0 to 1308\n",
            "Data columns (total 12 columns):\n",
            " #   Column      Non-Null Count  Dtype  \n",
            "---  ------      --------------  -----  \n",
            " 0   pclass      1309 non-null   float64\n",
            " 1   survived    1309 non-null   float64\n",
            " 2   sex         1309 non-null   int64  \n",
            " 3   age         1046 non-null   float64\n",
            " 4   sibsp       1309 non-null   float64\n",
            " 5   parch       1309 non-null   float64\n",
            " 6   fare        1308 non-null   float64\n",
            " 7   boat        486 non-null    object \n",
            " 8   title       1309 non-null   object \n",
            " 9   title_      1309 non-null   int64  \n",
            " 10  embarked_Q  1309 non-null   uint8  \n",
            " 11  embarked_S  1309 non-null   uint8  \n",
            "dtypes: float64(6), int64(2), object(2), uint8(2)\n",
            "memory usage: 104.9+ KB\n"
          ]
        }
      ]
    },
    {
      "cell_type": "code",
      "source": [
        "#Impute numeric Nan value with mean;\n",
        "for i in df_2[['age','fare']]:\n",
        "  df_2[i].fillna(df_2[i].mean(), inplace=True)\n",
        "  \n",
        "df_2.drop(columns=['boat'], inplace= True)\n",
        "df_2.info()\n",
        "\n"
      ],
      "metadata": {
        "colab": {
          "base_uri": "https://localhost:8080/"
        },
        "id": "4RlYEEj6ozr0",
        "outputId": "23f7fdc1-bf82-45b4-9981-61ecfbb19051"
      },
      "execution_count": null,
      "outputs": [
        {
          "output_type": "stream",
          "name": "stdout",
          "text": [
            "<class 'pandas.core.frame.DataFrame'>\n",
            "RangeIndex: 1309 entries, 0 to 1308\n",
            "Data columns (total 11 columns):\n",
            " #   Column      Non-Null Count  Dtype  \n",
            "---  ------      --------------  -----  \n",
            " 0   pclass      1309 non-null   float64\n",
            " 1   survived    1309 non-null   float64\n",
            " 2   sex         1309 non-null   int64  \n",
            " 3   age         1309 non-null   float64\n",
            " 4   sibsp       1309 non-null   float64\n",
            " 5   parch       1309 non-null   float64\n",
            " 6   fare        1309 non-null   float64\n",
            " 7   title       1309 non-null   object \n",
            " 8   title_      1309 non-null   int64  \n",
            " 9   embarked_Q  1309 non-null   uint8  \n",
            " 10  embarked_S  1309 non-null   uint8  \n",
            "dtypes: float64(6), int64(2), object(1), uint8(2)\n",
            "memory usage: 94.7+ KB\n"
          ]
        }
      ]
    },
    {
      "cell_type": "markdown",
      "metadata": {
        "id": "BRabSrujJ44t"
      },
      "source": [
        "## 3. Train (25 points)\n",
        "\n",
        "Requirement:\n",
        "- Split the dataset into train & test sets. (5 points)\\\n",
        "Chia dữ liệu thành 2 tập train và test."
      ]
    },
    {
      "cell_type": "code",
      "source": [
        "## YOUR CODE HERE ##\n",
        "test_size_ratio = 0.3\n",
        "X_train, X_test, y_train, y_test = train_test_split(df_2.drop(columns=['survived', 'title']), df_2.survived,\n",
        "                                                    test_size=test_size_ratio, random_state=1)"
      ],
      "metadata": {
        "id": "01eFPht5xqVR"
      },
      "execution_count": null,
      "outputs": []
    },
    {
      "cell_type": "markdown",
      "source": [
        "Requirement:\n",
        "- Train a Decision tree classifier on the train set. (20 points)\\\n",
        "Dùng decision tree để học dữ liệu train."
      ],
      "metadata": {
        "id": "-Ze95HrMdNuY"
      }
    },
    {
      "cell_type": "code",
      "metadata": {
        "id": "M63dmbW_6Oih"
      },
      "source": [
        "## YOUR CODE HERE ##\n",
        "DT_classifier = DecisionTreeClassifier().fit(X_train, y_train)"
      ],
      "execution_count": null,
      "outputs": []
    },
    {
      "cell_type": "markdown",
      "metadata": {
        "id": "dFQU_kP5KHxG"
      },
      "source": [
        "## 4. Predict & Test (30 points)\n",
        "Requirement:\n",
        "- Use the trained decision tree classifier to make predictions on the test set. (15 points)\\\n",
        "Dùng decision tree để dự đoán dữ liệu test."
      ]
    },
    {
      "cell_type": "code",
      "metadata": {
        "id": "YLG_LoFS_x13"
      },
      "source": [
        "## YOUR CODE HERE ##\n",
        "y_pred = DT_classifier.predict(X_test)\n"
      ],
      "execution_count": null,
      "outputs": []
    },
    {
      "cell_type": "markdown",
      "source": [
        "Requirement:\n",
        "- Evaluate the predictions.\\\n",
        "Đo lường kết quả của mô hình. (15 points)"
      ],
      "metadata": {
        "id": "LiBhfwF2deg-"
      }
    },
    {
      "cell_type": "code",
      "source": [
        "## YOUR CODE HERE ##\n",
        "from sklearn.metrics import accuracy_score, precision_score, f1_score, recall_score\n",
        "\n",
        "print(accuracy_score(y_test, y_pred))\n",
        "print(precision_score(y_test, y_pred))\n",
        "print(recall_score(y_test, y_pred))\n",
        "print(f1_score(y_test, y_pred))"
      ],
      "metadata": {
        "id": "nAb_t0TPdjzt",
        "colab": {
          "base_uri": "https://localhost:8080/"
        },
        "outputId": "4efd74b6-d1b8-4b70-dc4c-831bba59081c"
      },
      "execution_count": null,
      "outputs": [
        {
          "output_type": "stream",
          "name": "stdout",
          "text": [
            "0.732824427480916\n",
            "0.6666666666666666\n",
            "0.6624203821656051\n",
            "0.6645367412140575\n"
          ]
        }
      ]
    },
    {
      "cell_type": "markdown",
      "metadata": {
        "id": "KC6yX2RcEGXw"
      },
      "source": [
        "## 5. (Advanced topics) Analysis (20 points)\n",
        "Requirement:\n",
        "- Adjust some hyperparameters of the decision tree classifier (max_depth, min_sample_split) to improve the performance further. (10 points)\\\n",
        "Thử thay đổi các yếu tố trong decision trê để tìm ra mô hình tối ưu (max_depth, min_sample_split).\n"
      ]
    },
    {
      "cell_type": "code",
      "metadata": {
        "id": "8eJ4jnZPEbdA",
        "colab": {
          "base_uri": "https://localhost:8080/"
        },
        "outputId": "1385d798-05b1-48ad-e173-ca711034c3fe"
      },
      "source": [
        "## YOUR CODE HERE ##\n",
        "from sklearn.model_selection import GridSearchCV \n",
        "\n",
        "params ={'max_depth': [2,50] , 'min_samples_split':[2,3,4,5]}\n",
        "\n",
        "gridsearch = GridSearchCV(estimator = DecisionTreeClassifier(random_state=1),\n",
        "             param_grid = params, verbose=4)\n",
        "\n",
        "gridsearch.fit(X_train, y_train)"
      ],
      "execution_count": null,
      "outputs": [
        {
          "output_type": "stream",
          "name": "stdout",
          "text": [
            "Fitting 5 folds for each of 8 candidates, totalling 40 fits\n",
            "[CV 1/5] END ..max_depth=2, min_samples_split=2;, score=0.788 total time=   0.0s\n",
            "[CV 2/5] END ..max_depth=2, min_samples_split=2;, score=0.814 total time=   0.0s\n",
            "[CV 3/5] END ..max_depth=2, min_samples_split=2;, score=0.792 total time=   0.0s\n",
            "[CV 4/5] END ..max_depth=2, min_samples_split=2;, score=0.792 total time=   0.0s\n",
            "[CV 5/5] END ..max_depth=2, min_samples_split=2;, score=0.754 total time=   0.0s\n",
            "[CV 1/5] END ..max_depth=2, min_samples_split=3;, score=0.788 total time=   0.0s\n",
            "[CV 2/5] END ..max_depth=2, min_samples_split=3;, score=0.814 total time=   0.0s\n",
            "[CV 3/5] END ..max_depth=2, min_samples_split=3;, score=0.792 total time=   0.0s\n",
            "[CV 4/5] END ..max_depth=2, min_samples_split=3;, score=0.792 total time=   0.0s\n",
            "[CV 5/5] END ..max_depth=2, min_samples_split=3;, score=0.754 total time=   0.0s\n",
            "[CV 1/5] END ..max_depth=2, min_samples_split=4;, score=0.788 total time=   0.0s\n",
            "[CV 2/5] END ..max_depth=2, min_samples_split=4;, score=0.814 total time=   0.0s\n",
            "[CV 3/5] END ..max_depth=2, min_samples_split=4;, score=0.792 total time=   0.0s\n",
            "[CV 4/5] END ..max_depth=2, min_samples_split=4;, score=0.792 total time=   0.0s\n",
            "[CV 5/5] END ..max_depth=2, min_samples_split=4;, score=0.754 total time=   0.0s\n",
            "[CV 1/5] END ..max_depth=2, min_samples_split=5;, score=0.788 total time=   0.0s\n",
            "[CV 2/5] END ..max_depth=2, min_samples_split=5;, score=0.814 total time=   0.0s\n",
            "[CV 3/5] END ..max_depth=2, min_samples_split=5;, score=0.792 total time=   0.0s\n",
            "[CV 4/5] END ..max_depth=2, min_samples_split=5;, score=0.792 total time=   0.0s\n",
            "[CV 5/5] END ..max_depth=2, min_samples_split=5;, score=0.754 total time=   0.0s\n",
            "[CV 1/5] END .max_depth=50, min_samples_split=2;, score=0.788 total time=   0.0s\n",
            "[CV 2/5] END .max_depth=50, min_samples_split=2;, score=0.770 total time=   0.0s\n",
            "[CV 3/5] END .max_depth=50, min_samples_split=2;, score=0.760 total time=   0.0s\n",
            "[CV 4/5] END .max_depth=50, min_samples_split=2;, score=0.727 total time=   0.0s\n",
            "[CV 5/5] END .max_depth=50, min_samples_split=2;, score=0.760 total time=   0.0s\n",
            "[CV 1/5] END .max_depth=50, min_samples_split=3;, score=0.777 total time=   0.0s\n",
            "[CV 2/5] END .max_depth=50, min_samples_split=3;, score=0.770 total time=   0.0s\n",
            "[CV 3/5] END .max_depth=50, min_samples_split=3;, score=0.760 total time=   0.0s\n",
            "[CV 4/5] END .max_depth=50, min_samples_split=3;, score=0.727 total time=   0.0s\n",
            "[CV 5/5] END .max_depth=50, min_samples_split=3;, score=0.787 total time=   0.0s\n",
            "[CV 1/5] END .max_depth=50, min_samples_split=4;, score=0.793 total time=   0.0s\n",
            "[CV 2/5] END .max_depth=50, min_samples_split=4;, score=0.776 total time=   0.0s\n",
            "[CV 3/5] END .max_depth=50, min_samples_split=4;, score=0.749 total time=   0.0s\n",
            "[CV 4/5] END .max_depth=50, min_samples_split=4;, score=0.738 total time=   0.0s\n",
            "[CV 5/5] END .max_depth=50, min_samples_split=4;, score=0.781 total time=   0.0s\n",
            "[CV 1/5] END .max_depth=50, min_samples_split=5;, score=0.793 total time=   0.0s\n",
            "[CV 2/5] END .max_depth=50, min_samples_split=5;, score=0.798 total time=   0.0s\n",
            "[CV 3/5] END .max_depth=50, min_samples_split=5;, score=0.754 total time=   0.0s\n",
            "[CV 4/5] END .max_depth=50, min_samples_split=5;, score=0.727 total time=   0.0s\n",
            "[CV 5/5] END .max_depth=50, min_samples_split=5;, score=0.798 total time=   0.0s\n"
          ]
        },
        {
          "output_type": "execute_result",
          "data": {
            "text/plain": [
              "GridSearchCV(estimator=DecisionTreeClassifier(random_state=1),\n",
              "             param_grid={'max_depth': [2, 50],\n",
              "                         'min_samples_split': [2, 3, 4, 5]},\n",
              "             verbose=4)"
            ]
          },
          "metadata": {},
          "execution_count": 48
        }
      ]
    },
    {
      "cell_type": "code",
      "source": [
        "model_2=DecisionTreeClassifier(max_depth=2, min_samples_split=2).fit(X_train, y_train)\n",
        "y_pred = model_2.predict(X_test)\n",
        "print(accuracy_score(y_test, y_pred))\n",
        "print(precision_score(y_test, y_pred))\n",
        "print(recall_score(y_test, y_pred))\n",
        "print(f1_score(y_test, y_pred))"
      ],
      "metadata": {
        "colab": {
          "base_uri": "https://localhost:8080/"
        },
        "id": "UgVxTFxRbKoB",
        "outputId": "bf3a917e-c0ed-47eb-cb17-49f668a0437d"
      },
      "execution_count": null,
      "outputs": [
        {
          "output_type": "stream",
          "name": "stdout",
          "text": [
            "0.7760814249363868\n",
            "0.896551724137931\n",
            "0.4968152866242038\n",
            "0.639344262295082\n"
          ]
        }
      ]
    },
    {
      "cell_type": "code",
      "source": [
        ""
      ],
      "metadata": {
        "id": "obvc5IJvbKrK"
      },
      "execution_count": null,
      "outputs": []
    },
    {
      "cell_type": "markdown",
      "source": [
        "**Conclution:** From the above result => Select max_depth = 2, min_samples_split = 2 as this combination produce highest score with lowest computational cost."
      ],
      "metadata": {
        "id": "pZKbe2QTLazN"
      }
    },
    {
      "cell_type": "markdown",
      "source": [
        "Requirement:\n",
        "- Estimate the feature importance and identify the features that are the most influential to the prediction of whether a passenger survives. (5 points)\\\n",
        "Tính feature importance và tìm ra các features nào ảnh hưởng lớn nhất đến việc dự đoán xem một hành khách có sống sót hay không."
      ],
      "metadata": {
        "id": "qRN3tT9wfhSD"
      }
    },
    {
      "cell_type": "code",
      "source": [
        "## YOUR CODE HERE ##\n",
        "\n",
        "importance = DT_classifier.feature_importances_\n",
        "importance_df = pd.DataFrame(list(zip(X_train.columns,importance)), \n",
        "                             columns = ['Feauture', 'Importance Score'])\n",
        "importance_df.sort_values(['Importance Score'], ascending = False)"
      ],
      "metadata": {
        "id": "N7aFj7LMf5dg",
        "colab": {
          "base_uri": "https://localhost:8080/",
          "height": 332
        },
        "outputId": "b08a1de9-e8ce-47e6-f6e4-39e6e5636fc2"
      },
      "execution_count": null,
      "outputs": [
        {
          "output_type": "execute_result",
          "data": {
            "text/plain": [
              "     Feauture  Importance Score\n",
              "6      title_          0.325742\n",
              "5        fare          0.262309\n",
              "2         age          0.226833\n",
              "0      pclass          0.108632\n",
              "4       parch          0.024532\n",
              "3       sibsp          0.023846\n",
              "8  embarked_S          0.013494\n",
              "7  embarked_Q          0.013487\n",
              "1         sex          0.001125"
            ],
            "text/html": [
              "\n",
              "  <div id=\"df-009709e3-4ddd-4a42-95b4-9079d0f3adad\">\n",
              "    <div class=\"colab-df-container\">\n",
              "      <div>\n",
              "<style scoped>\n",
              "    .dataframe tbody tr th:only-of-type {\n",
              "        vertical-align: middle;\n",
              "    }\n",
              "\n",
              "    .dataframe tbody tr th {\n",
              "        vertical-align: top;\n",
              "    }\n",
              "\n",
              "    .dataframe thead th {\n",
              "        text-align: right;\n",
              "    }\n",
              "</style>\n",
              "<table border=\"1\" class=\"dataframe\">\n",
              "  <thead>\n",
              "    <tr style=\"text-align: right;\">\n",
              "      <th></th>\n",
              "      <th>Feauture</th>\n",
              "      <th>Importance Score</th>\n",
              "    </tr>\n",
              "  </thead>\n",
              "  <tbody>\n",
              "    <tr>\n",
              "      <th>6</th>\n",
              "      <td>title_</td>\n",
              "      <td>0.325742</td>\n",
              "    </tr>\n",
              "    <tr>\n",
              "      <th>5</th>\n",
              "      <td>fare</td>\n",
              "      <td>0.262309</td>\n",
              "    </tr>\n",
              "    <tr>\n",
              "      <th>2</th>\n",
              "      <td>age</td>\n",
              "      <td>0.226833</td>\n",
              "    </tr>\n",
              "    <tr>\n",
              "      <th>0</th>\n",
              "      <td>pclass</td>\n",
              "      <td>0.108632</td>\n",
              "    </tr>\n",
              "    <tr>\n",
              "      <th>4</th>\n",
              "      <td>parch</td>\n",
              "      <td>0.024532</td>\n",
              "    </tr>\n",
              "    <tr>\n",
              "      <th>3</th>\n",
              "      <td>sibsp</td>\n",
              "      <td>0.023846</td>\n",
              "    </tr>\n",
              "    <tr>\n",
              "      <th>8</th>\n",
              "      <td>embarked_S</td>\n",
              "      <td>0.013494</td>\n",
              "    </tr>\n",
              "    <tr>\n",
              "      <th>7</th>\n",
              "      <td>embarked_Q</td>\n",
              "      <td>0.013487</td>\n",
              "    </tr>\n",
              "    <tr>\n",
              "      <th>1</th>\n",
              "      <td>sex</td>\n",
              "      <td>0.001125</td>\n",
              "    </tr>\n",
              "  </tbody>\n",
              "</table>\n",
              "</div>\n",
              "      <button class=\"colab-df-convert\" onclick=\"convertToInteractive('df-009709e3-4ddd-4a42-95b4-9079d0f3adad')\"\n",
              "              title=\"Convert this dataframe to an interactive table.\"\n",
              "              style=\"display:none;\">\n",
              "        \n",
              "  <svg xmlns=\"http://www.w3.org/2000/svg\" height=\"24px\"viewBox=\"0 0 24 24\"\n",
              "       width=\"24px\">\n",
              "    <path d=\"M0 0h24v24H0V0z\" fill=\"none\"/>\n",
              "    <path d=\"M18.56 5.44l.94 2.06.94-2.06 2.06-.94-2.06-.94-.94-2.06-.94 2.06-2.06.94zm-11 1L8.5 8.5l.94-2.06 2.06-.94-2.06-.94L8.5 2.5l-.94 2.06-2.06.94zm10 10l.94 2.06.94-2.06 2.06-.94-2.06-.94-.94-2.06-.94 2.06-2.06.94z\"/><path d=\"M17.41 7.96l-1.37-1.37c-.4-.4-.92-.59-1.43-.59-.52 0-1.04.2-1.43.59L10.3 9.45l-7.72 7.72c-.78.78-.78 2.05 0 2.83L4 21.41c.39.39.9.59 1.41.59.51 0 1.02-.2 1.41-.59l7.78-7.78 2.81-2.81c.8-.78.8-2.07 0-2.86zM5.41 20L4 18.59l7.72-7.72 1.47 1.35L5.41 20z\"/>\n",
              "  </svg>\n",
              "      </button>\n",
              "      \n",
              "  <style>\n",
              "    .colab-df-container {\n",
              "      display:flex;\n",
              "      flex-wrap:wrap;\n",
              "      gap: 12px;\n",
              "    }\n",
              "\n",
              "    .colab-df-convert {\n",
              "      background-color: #E8F0FE;\n",
              "      border: none;\n",
              "      border-radius: 50%;\n",
              "      cursor: pointer;\n",
              "      display: none;\n",
              "      fill: #1967D2;\n",
              "      height: 32px;\n",
              "      padding: 0 0 0 0;\n",
              "      width: 32px;\n",
              "    }\n",
              "\n",
              "    .colab-df-convert:hover {\n",
              "      background-color: #E2EBFA;\n",
              "      box-shadow: 0px 1px 2px rgba(60, 64, 67, 0.3), 0px 1px 3px 1px rgba(60, 64, 67, 0.15);\n",
              "      fill: #174EA6;\n",
              "    }\n",
              "\n",
              "    [theme=dark] .colab-df-convert {\n",
              "      background-color: #3B4455;\n",
              "      fill: #D2E3FC;\n",
              "    }\n",
              "\n",
              "    [theme=dark] .colab-df-convert:hover {\n",
              "      background-color: #434B5C;\n",
              "      box-shadow: 0px 1px 3px 1px rgba(0, 0, 0, 0.15);\n",
              "      filter: drop-shadow(0px 1px 2px rgba(0, 0, 0, 0.3));\n",
              "      fill: #FFFFFF;\n",
              "    }\n",
              "  </style>\n",
              "\n",
              "      <script>\n",
              "        const buttonEl =\n",
              "          document.querySelector('#df-009709e3-4ddd-4a42-95b4-9079d0f3adad button.colab-df-convert');\n",
              "        buttonEl.style.display =\n",
              "          google.colab.kernel.accessAllowed ? 'block' : 'none';\n",
              "\n",
              "        async function convertToInteractive(key) {\n",
              "          const element = document.querySelector('#df-009709e3-4ddd-4a42-95b4-9079d0f3adad');\n",
              "          const dataTable =\n",
              "            await google.colab.kernel.invokeFunction('convertToInteractive',\n",
              "                                                     [key], {});\n",
              "          if (!dataTable) return;\n",
              "\n",
              "          const docLinkHtml = 'Like what you see? Visit the ' +\n",
              "            '<a target=\"_blank\" href=https://colab.research.google.com/notebooks/data_table.ipynb>data table notebook</a>'\n",
              "            + ' to learn more about interactive tables.';\n",
              "          element.innerHTML = '';\n",
              "          dataTable['output_type'] = 'display_data';\n",
              "          await google.colab.output.renderOutput(dataTable, element);\n",
              "          const docLink = document.createElement('div');\n",
              "          docLink.innerHTML = docLinkHtml;\n",
              "          element.appendChild(docLink);\n",
              "        }\n",
              "      </script>\n",
              "    </div>\n",
              "  </div>\n",
              "  "
            ]
          },
          "metadata": {},
          "execution_count": 50
        }
      ]
    },
    {
      "cell_type": "markdown",
      "source": [
        "Requirement:\n",
        "- Are there any patterns in the group of passengers who have a high rate of survival? Why do you think it is the case? (5 points)\\\n",
        "Đưa ra nhận xét của bạn về patterns của nhóm sống sót cao và theo b ạn nghĩ tại sao lại như vậy."
      ],
      "metadata": {
        "id": "sEg7dMBpf8AG"
      }
    },
    {
      "cell_type": "code",
      "source": [
        "import plotly.express as px\n",
        "fig = px.scatter_3d(df.survived, x=df.title_, y=df.fare, z=df.age,\n",
        "                    color = df.survived,\n",
        "                    labels={'x': 'title', 'y': 'fare', 'z': 'age'})\n",
        "fig.show()"
      ],
      "metadata": {
        "id": "Dv6YXcawguxE",
        "colab": {
          "base_uri": "https://localhost:8080/",
          "height": 542
        },
        "outputId": "9a01eaee-7469-418a-b28a-4cc7a21f37d4"
      },
      "execution_count": null,
      "outputs": [
        {
          "output_type": "display_data",
          "data": {
            "text/html": [
              "<html>\n",
              "<head><meta charset=\"utf-8\" /></head>\n",
              "<body>\n",
              "    <div>            <script src=\"https://cdnjs.cloudflare.com/ajax/libs/mathjax/2.7.5/MathJax.js?config=TeX-AMS-MML_SVG\"></script><script type=\"text/javascript\">if (window.MathJax) {MathJax.Hub.Config({SVG: {font: \"STIX-Web\"}});}</script>                <script type=\"text/javascript\">window.PlotlyConfig = {MathJaxConfig: 'local'};</script>\n",
              "        <script src=\"https://cdn.plot.ly/plotly-2.8.3.min.js\"></script>                <div id=\"409fde4b-27d2-4b8b-94bf-b461cdfc6328\" class=\"plotly-graph-div\" style=\"height:525px; width:100%;\"></div>            <script type=\"text/javascript\">                                    window.PLOTLYENV=window.PLOTLYENV || {};                                    if (document.getElementById(\"409fde4b-27d2-4b8b-94bf-b461cdfc6328\")) {                    Plotly.newPlot(                        \"409fde4b-27d2-4b8b-94bf-b461cdfc6328\",                        [{\"hovertemplate\":\"title=%{x}<br>fare=%{y}<br>age=%{z}<br>color=%{marker.color}<extra></extra>\",\"legendgroup\":\"\",\"marker\":{\"color\":[1.0,1.0,0.0,0.0,0.0,1.0,1.0,0.0,1.0,0.0,0.0,1.0,1.0,1.0,1.0,0.0,0.0,1.0,1.0,0.0,1.0,1.0,1.0,1.0,1.0,0.0,1.0,1.0,1.0,1.0,0.0,1.0,1.0,1.0,0.0,1.0,1.0,1.0,0.0,0.0,0.0,1.0,1.0,1.0,1.0,0.0,0.0,1.0,1.0,1.0,1.0,0.0,0.0,0.0,1.0,1.0,1.0,1.0,0.0,1.0,0.0,1.0,0.0,1.0,1.0,1.0,1.0,1.0,1.0,1.0,0.0,0.0,1.0,1.0,0.0,0.0,1.0,0.0,1.0,1.0,0.0,0.0,1.0,1.0,0.0,1.0,1.0,1.0,1.0,0.0,1.0,1.0,1.0,1.0,1.0,1.0,0.0,1.0,1.0,1.0,1.0,0.0,1.0,1.0,1.0,0.0,0.0,1.0,1.0,1.0,0.0,1.0,1.0,1.0,0.0,0.0,1.0,1.0,0.0,1.0,1.0,1.0,1.0,1.0,1.0,0.0,0.0,1.0,0.0,1.0,1.0,1.0,0.0,1.0,1.0,0.0,1.0,1.0,0.0,1.0,1.0,1.0,0.0,1.0,1.0,1.0,1.0,0.0,0.0,1.0,0.0,1.0,1.0,1.0,0.0,1.0,0.0,0.0,0.0,1.0,1.0,1.0,0.0,1.0,1.0,1.0,0.0,1.0,1.0,0.0,1.0,0.0,0.0,0.0,0.0,0.0,1.0,1.0,1.0,0.0,1.0,1.0,1.0,1.0,0.0,0.0,1.0,1.0,1.0,0.0,1.0,0.0,1.0,1.0,0.0,1.0,1.0,0.0,1.0,1.0,0.0,0.0,1.0,0.0,1.0,0.0,0.0,1.0,1.0,1.0,0.0,0.0,0.0,1.0,1.0,0.0,1.0,0.0,1.0,1.0,1.0,0.0,0.0,0.0,0.0,0.0,0.0,1.0,0.0,1.0,1.0,1.0,0.0,1.0,0.0,1.0,0.0,0.0,1.0,0.0,1.0,0.0,1.0,0.0,0.0,1.0,0.0,1.0,0.0,1.0,1.0,1.0,0.0,1.0,1.0,1.0,1.0,1.0,1.0,1.0,1.0,1.0,0.0,1.0,1.0,1.0,0.0,0.0,0.0,0.0,1.0,1.0,1.0,1.0,1.0,1.0,0.0,1.0,1.0,0.0,1.0,1.0,1.0,0.0,1.0,0.0,0.0,0.0,1.0,1.0,0.0,1.0,1.0,1.0,0.0,1.0,1.0,1.0,1.0,0.0,0.0,0.0,1.0,0.0,1.0,0.0,0.0,0.0,1.0,1.0,0.0,1.0,0.0,0.0,1.0,1.0,0.0,1.0,0.0,1.0,1.0,0.0,1.0,0.0,1.0,0.0,0.0,0.0,0.0,1.0,0.0,0.0,0.0,1.0,0.0,0.0,1.0,1.0,0.0,1.0,1.0,1.0,1.0,1.0,1.0,0.0,0.0,0.0,0.0,1.0,1.0,0.0,1.0,1.0,0.0,1.0,0.0,0.0,1.0,1.0,1.0,1.0,1.0,0.0,0.0,0.0,0.0,0.0,0.0,0.0,1.0,1.0,0.0,1.0,0.0,0.0,1.0,1.0,0.0,1.0,1.0,0.0,0.0,0.0,0.0,1.0,0.0,1.0,1.0,0.0,0.0,0.0,1.0,0.0,0.0,1.0,1.0,0.0,1.0,0.0,1.0,1.0,1.0,0.0,0.0,0.0,0.0,1.0,0.0,0.0,0.0,0.0,0.0,0.0,0.0,1.0,0.0,0.0,0.0,0.0,0.0,0.0,0.0,0.0,0.0,0.0,0.0,1.0,1.0,0.0,1.0,0.0,1.0,0.0,1.0,0.0,1.0,1.0,1.0,0.0,1.0,1.0,0.0,0.0,0.0,0.0,1.0,0.0,0.0,1.0,0.0,0.0,1.0,0.0,1.0,0.0,0.0,0.0,1.0,0.0,1.0,0.0,0.0,0.0,0.0,1.0,0.0,1.0,0.0,1.0,0.0,1.0,0.0,0.0,0.0,0.0,0.0,0.0,1.0,1.0,0.0,1.0,1.0,1.0,1.0,0.0,0.0,0.0,0.0,1.0,0.0,0.0,1.0,0.0,1.0,0.0,0.0,0.0,0.0,0.0,0.0,1.0,1.0,1.0,0.0,0.0,0.0,0.0,0.0,0.0,0.0,0.0,0.0,1.0,1.0,1.0,0.0,0.0,0.0,0.0,1.0,1.0,0.0,1.0,1.0,0.0,1.0,0.0,0.0,1.0,0.0,0.0,0.0,1.0,1.0,0.0,1.0,0.0,1.0,0.0,1.0,1.0,1.0,0.0,0.0,1.0,1.0,0.0,1.0,1.0,1.0,1.0,0.0,1.0,0.0,0.0,0.0,1.0,1.0,1.0,1.0,0.0,1.0,0.0,1.0,0.0,0.0,0.0,0.0,0.0,1.0,0.0,1.0,1.0,0.0,0.0,0.0,1.0,0.0,0.0,1.0,0.0,1.0,1.0,1.0,0.0,1.0,1.0,1.0,1.0,1.0,1.0,0.0,1.0,0.0,0.0,1.0,1.0,1.0,0.0,0.0,0.0,0.0,1.0,1.0,1.0,1.0,1.0,0.0,0.0,0.0,1.0,1.0,1.0,0.0,0.0,0.0,0.0,0.0,0.0,0.0,1.0,0.0,0.0,0.0,1.0,0.0,0.0,0.0,0.0,1.0,0.0,0.0,0.0,0.0,0.0,0.0,0.0,0.0,0.0,0.0,1.0,0.0,1.0,0.0,1.0,1.0,1.0,0.0,0.0,0.0,0.0,0.0,1.0,0.0,0.0,1.0,1.0,1.0,1.0,1.0,1.0,0.0,0.0,1.0,0.0,0.0,0.0,0.0,0.0,0.0,0.0,0.0,0.0,1.0,0.0,0.0,0.0,0.0,0.0,0.0,0.0,0.0,0.0,0.0,0.0,1.0,0.0,0.0,0.0,0.0,0.0,0.0,1.0,0.0,0.0,0.0,0.0,0.0,0.0,0.0,0.0,0.0,0.0,0.0,0.0,0.0,0.0,0.0,1.0,0.0,0.0,0.0,0.0,1.0,0.0,0.0,0.0,0.0,1.0,0.0,0.0,0.0,0.0,0.0,1.0,0.0,0.0,0.0,0.0,0.0,0.0,0.0,1.0,1.0,1.0,0.0,0.0,1.0,0.0,0.0,0.0,1.0,0.0,0.0,1.0,1.0,0.0,0.0,0.0,0.0,0.0,0.0,0.0,0.0,0.0,0.0,1.0,1.0,1.0,1.0,0.0,1.0,1.0,0.0,1.0,0.0,0.0,0.0,0.0,0.0,1.0,0.0,0.0,0.0,0.0,0.0,1.0,1.0,0.0,1.0,0.0,0.0,1.0,0.0,1.0,0.0,0.0,0.0,0.0,0.0,0.0,0.0,0.0,1.0,0.0,0.0,0.0,1.0,0.0,0.0,0.0,0.0,0.0,0.0,1.0,0.0,0.0,0.0,0.0,0.0,0.0,0.0,0.0,0.0,0.0,0.0,0.0,1.0,1.0,1.0,0.0,0.0,1.0,0.0,0.0,0.0,0.0,0.0,0.0,0.0,0.0,0.0,0.0,0.0,0.0,0.0,0.0,0.0,0.0,0.0,0.0,0.0,0.0,0.0,1.0,0.0,0.0,0.0,0.0,0.0,1.0,0.0,0.0,0.0,0.0,1.0,1.0,1.0,0.0,1.0,0.0,1.0,0.0,0.0,0.0,1.0,1.0,0.0,0.0,1.0,0.0,1.0,0.0,1.0,0.0,0.0,0.0,0.0,0.0,1.0,1.0,0.0,0.0,0.0,0.0,1.0,1.0,0.0,1.0,0.0,0.0,0.0,0.0,1.0,1.0,0.0,0.0,0.0,1.0,0.0,0.0,0.0,0.0,0.0,1.0,0.0,0.0,0.0,1.0,0.0,0.0,0.0,1.0,0.0,0.0,1.0,1.0,0.0,0.0,0.0,0.0,1.0,1.0,0.0,0.0,1.0,0.0,0.0,0.0,0.0,0.0,0.0,0.0,1.0,1.0,1.0,0.0,0.0,0.0,0.0,1.0,0.0,0.0,0.0,1.0,0.0,1.0,0.0,1.0,0.0,0.0,0.0,1.0,0.0,0.0,0.0,0.0,0.0,0.0,0.0,0.0,0.0,0.0,0.0,0.0,0.0,0.0,0.0,0.0,1.0,0.0,0.0,0.0,0.0,0.0,0.0,0.0,1.0,0.0,1.0,1.0,0.0,0.0,1.0,1.0,0.0,0.0,0.0,0.0,0.0,1.0,0.0,1.0,0.0,0.0,0.0,1.0,0.0,1.0,1.0,1.0,1.0,1.0,1.0,0.0,1.0,1.0,0.0,0.0,0.0,0.0,0.0,0.0,0.0,0.0,0.0,1.0,0.0,0.0,0.0,0.0,0.0,1.0,0.0,1.0,1.0,0.0,1.0,0.0,0.0,0.0,0.0,1.0,1.0,1.0,1.0,1.0,0.0,1.0,1.0,0.0,1.0,1.0,1.0,0.0,0.0,1.0,1.0,1.0,1.0,0.0,0.0,0.0,0.0,0.0,1.0,1.0,0.0,0.0,1.0,1.0,0.0,0.0,1.0,0.0,0.0,1.0,0.0,0.0,0.0,1.0,0.0,0.0,0.0,0.0,0.0,1.0,1.0,1.0,1.0,1.0,1.0,0.0,0.0,0.0,0.0,0.0,1.0,0.0,0.0,0.0,0.0,0.0,1.0,0.0,0.0,0.0,0.0,0.0,0.0,0.0,0.0,0.0,0.0,0.0,0.0,0.0,0.0,0.0,0.0,0.0,0.0,0.0,0.0,0.0,0.0,0.0,0.0,0.0,1.0,1.0,1.0,1.0,0.0,0.0,0.0,0.0,0.0,0.0,0.0,1.0,0.0,0.0,0.0,0.0,0.0,0.0,0.0,0.0,0.0,0.0,0.0,0.0,0.0,0.0,0.0,0.0,0.0,1.0,0.0,0.0,0.0,0.0,0.0,0.0,0.0,0.0,0.0,1.0,0.0,0.0,1.0,0.0,0.0,0.0,0.0,0.0,0.0,0.0,0.0,0.0,0.0,0.0,0.0,0.0,0.0,0.0,0.0,0.0,0.0,0.0,1.0,0.0,0.0,0.0,0.0,1.0,1.0,1.0,1.0,0.0,0.0,0.0,0.0,0.0,1.0,0.0,1.0,0.0,0.0,0.0,0.0,0.0,0.0,1.0,0.0,0.0,0.0,0.0,0.0,0.0,0.0,0.0,0.0,0.0,1.0,0.0,0.0,0.0,0.0,0.0,0.0,1.0,0.0,0.0,0.0,0.0,1.0,0.0,0.0,0.0,1.0,1.0,0.0,0.0,1.0,0.0,1.0,0.0,1.0,0.0,0.0,0.0,1.0,0.0,0.0,1.0,0.0,0.0,0.0,0.0,0.0,0.0,1.0,0.0,1.0,1.0,1.0,0.0,1.0,1.0,0.0,0.0,0.0,0.0,0.0,0.0,0.0,0.0,0.0,0.0,0.0,0.0,0.0,0.0,0.0,1.0,0.0,0.0,0.0,0.0,0.0,0.0,0.0,0.0,1.0,0.0,0.0,0.0,1.0,0.0,0.0,0.0,0.0,0.0,0.0,0.0,0.0,0.0,1.0,0.0,0.0,0.0,0.0,0.0,0.0,0.0,0.0],\"coloraxis\":\"coloraxis\",\"symbol\":\"circle\"},\"mode\":\"markers\",\"name\":\"\",\"scene\":\"scene\",\"showlegend\":false,\"x\":[3,2,3,1,4,1,3,1,4,1,5,4,4,3,1,1,1,4,3,1,1,4,1,3,3,1,1,4,3,1,1,1,3,3,1,3,3,1,1,1,5,4,4,4,3,5,1,1,4,1,4,1,1,1,2,3,1,4,1,4,1,4,1,4,1,4,3,3,1,4,1,1,4,3,1,1,3,1,4,4,1,5,3,4,1,4,1,1,3,1,4,1,4,5,2,4,1,4,4,5,5,1,4,3,3,3,1,4,3,1,1,3,3,3,1,1,4,3,1,5,1,4,3,1,4,1,1,4,1,3,3,4,1,1,4,1,5,3,1,4,1,4,1,1,4,1,4,1,1,4,1,1,1,3,1,4,1,1,1,3,4,4,1,4,1,1,1,4,3,3,1,1,1,1,1,1,4,1,4,1,3,5,3,1,1,1,4,3,4,1,3,1,3,3,1,3,1,1,4,3,1,1,1,1,4,1,5,3,4,1,1,1,1,3,3,1,3,1,5,1,3,1,1,1,1,1,1,4,1,4,3,5,1,4,5,1,1,1,4,1,1,1,3,1,1,5,1,4,1,2,3,3,1,4,1,3,1,4,3,1,3,1,1,4,5,1,1,1,1,1,4,1,4,2,1,4,1,4,5,1,1,4,4,1,4,1,4,1,4,3,1,4,1,4,1,1,4,4,1,5,1,1,3,1,4,5,1,1,4,3,1,4,1,1,4,3,1,1,1,3,1,1,3,1,4,1,1,1,1,4,1,1,1,4,1,5,1,4,1,2,3,3,4,1,3,1,1,1,1,3,3,1,4,3,1,3,1,5,4,2,1,4,3,1,1,4,5,1,1,4,3,4,1,4,1,1,1,3,1,4,4,4,4,1,1,2,1,4,3,1,1,1,4,1,1,3,4,1,2,1,4,3,3,1,1,1,1,4,1,1,1,3,1,1,1,3,1,1,1,1,1,1,1,1,1,1,1,2,4,1,3,5,1,1,3,1,4,3,3,1,4,4,1,1,1,3,3,1,1,4,1,1,4,1,1,1,4,1,3,1,4,1,1,1,1,4,1,4,4,3,1,4,5,1,1,4,5,1,3,3,1,4,3,3,4,1,1,1,1,4,4,1,2,1,4,1,1,1,1,1,1,3,4,1,1,1,1,5,5,1,1,1,1,4,2,2,1,1,1,1,1,4,1,1,1,5,1,1,1,4,1,1,5,3,3,1,4,1,1,1,3,3,4,1,1,4,3,1,2,2,4,3,1,3,1,1,1,4,3,3,3,1,3,1,3,1,1,1,1,1,3,1,4,3,1,4,1,3,1,1,4,1,3,4,3,1,4,2,3,4,3,3,1,4,1,1,1,1,3,3,1,2,1,4,3,1,1,4,1,1,4,2,4,1,1,1,1,1,1,1,1,3,2,3,3,3,3,3,3,1,1,1,4,1,1,1,4,1,1,2,2,2,2,3,1,1,4,4,1,1,3,1,1,3,1,1,4,3,3,3,4,3,1,1,1,3,4,3,1,1,1,1,2,1,1,1,1,1,2,3,1,4,3,1,4,1,3,3,1,1,1,1,3,1,1,3,3,3,1,1,1,1,3,1,1,1,4,1,1,3,3,1,1,1,1,1,1,1,1,1,1,1,1,1,1,3,3,1,1,1,1,1,1,2,2,4,1,1,3,1,1,1,1,3,1,3,1,2,1,4,1,1,1,1,1,1,1,4,1,4,1,1,2,3,1,4,1,1,1,1,1,3,1,1,1,1,1,1,3,3,3,1,1,1,1,4,1,1,1,1,1,1,1,1,3,1,1,1,1,1,3,1,1,1,1,1,3,3,1,1,1,4,1,1,1,1,1,1,3,3,2,1,1,4,1,2,2,2,3,3,1,1,4,1,1,1,1,1,1,1,3,3,1,1,1,4,1,1,1,1,1,4,3,1,1,1,3,1,1,3,3,3,3,1,3,3,3,4,1,1,3,1,3,1,1,1,1,3,3,1,1,1,1,1,1,1,3,1,1,1,1,1,1,1,2,3,1,1,1,4,2,3,1,4,1,1,1,3,3,1,1,1,1,1,1,1,3,1,1,1,1,1,3,3,1,1,1,1,4,1,1,1,3,1,3,1,4,3,1,4,1,1,1,3,1,1,1,3,1,1,1,1,1,1,2,3,3,3,4,1,1,3,1,1,1,1,3,3,1,4,1,1,1,1,1,4,1,1,1,1,3,1,1,1,3,1,1,3,1,1,1,1,3,3,1,1,1,4,1,3,1,3,3,1,3,1,3,3,3,1,1,4,3,3,4,1,1,1,1,1,1,1,1,3,1,2,4,1,3,1,1,1,1,1,2,2,4,4,1,3,3,1,3,3,3,1,1,3,3,1,4,1,1,1,3,1,2,3,3,1,3,3,1,1,1,1,1,3,1,1,1,4,1,1,1,1,3,3,3,3,1,3,2,1,1,1,3,1,1,1,3,3,1,1,4,3,2,2,3,3,4,2,2,2,1,1,4,1,1,1,1,2,3,4,1,1,1,1,1,1,1,2,3,4,3,1,3,1,1,1,3,1,1,1,1,1,4,1,1,1,1,2,2,2,2,2,4,3,1,3,1,4,1,4,1,1,3,1,4,3,1,1,1,1,1,1,1,1,1,1,2,2,3,3,3,3,1,1,1,1,4,1,3,1,1,1,1,3,4,3,1,1,1,1,1,1,1,1,3,1,1,1,1,1,1,3,2,2,3,3,1,4,1,1,1,1,3,1,1,1,1,1,1,3,1,1,1,3,1,1,3,4,1,1,1,1,1,1,1,1,2,1,1,1,4,1,1,4,1,1,1,1,1,1,1,1,2,3,4,1,3,4,2,2,1,3,1,4,1,1,1,1,1,3,1,1,4,1,1,3,1,1,1,1,1,1,4,1,1,1,4,1,1,1,1,1,1,1,1,1,4,1,1,1,3,3,1,1,1],\"y\":[211.3375,151.55,151.55,151.55,151.55,26.55,77.9583,0.0,51.4792,49.5042,227.525,227.525,69.3,78.85,30.0,25.925,247.5208,247.5208,76.2917,75.2417,52.5542,52.5542,30.0,227.525,221.7792,26.0,91.0792,91.0792,135.6333,26.55,35.5,31.0,164.8667,26.55,26.55,262.375,55.0,26.55,30.5,50.4958,39.6,27.7208,51.4792,76.2917,134.5,26.55,31.0,26.2875,27.4458,512.3292,512.3292,5.0,47.1,47.1,120.0,120.0,120.0,120.0,26.0,27.7208,78.85,78.85,61.175,61.175,53.1,53.1,262.375,86.5,29.7,55.0,0.0,136.7792,136.7792,151.55,52.0,25.5875,83.1583,83.1583,83.1583,25.7,26.55,71.0,71.0,26.55,71.2833,71.2833,26.55,30.5,151.55,52.0,52.0,57.0,57.0,81.8583,81.8583,81.8583,106.425,247.5208,106.425,39.6,56.9292,29.7,83.1583,227.525,78.2667,31.6792,221.7792,31.6833,110.8833,26.3875,27.75,263.0,263.0,263.0,263.0,263.0,263.0,56.9292,26.55,133.65,27.7208,133.65,49.5,79.2,79.2,0.0,53.1,53.1,38.5,211.5,59.4,59.4,79.2,89.1042,89.1042,34.6542,28.5,30.0,153.4625,153.4625,63.3583,63.3583,79.2,55.4417,55.4417,76.7292,76.7292,42.4,83.475,83.475,0.0,76.7292,30.0,83.1583,93.5,93.5,42.5,51.8625,50.0,57.9792,57.9792,77.9583,52.0,52.0,26.55,90.0,30.6958,90.0,80.0,28.7125,0.0,26.0,26.0,211.5,29.7,51.8625,51.8625,52.5542,52.5542,26.55,211.3375,25.9292,106.425,512.3292,27.7208,26.55,27.7208,39.4,39.4,30.0,77.9583,45.5,146.5208,211.3375,26.0,86.5,29.7,53.1,53.1,49.5042,75.2417,51.8625,26.2875,82.1708,82.1708,26.55,90.0,90.0,90.0,57.75,30.5,42.4,29.7,113.275,113.275,113.275,26.2833,26.0,108.9,25.7417,61.9792,61.9792,27.7208,0.0,28.5,93.5,66.6,66.6,108.9,108.9,93.5,30.5,52.0,83.1583,0.0,39.6,135.6333,227.525,211.3375,50.4958,26.55,50.0,27.7208,79.2,40.125,86.5,59.4,59.4,26.55,262.375,262.375,262.375,262.375,262.375,30.5,69.3,26.0,57.75,31.0,26.55,153.4625,26.2875,55.9,55.9,35.5,35.5,26.55,30.6958,60.0,26.0,60.0,82.2667,82.2667,134.5,134.5,134.5,146.5208,146.5208,30.5,26.55,55.4417,55.4417,78.2667,27.7208,80.0,221.7792,221.7792,32.3208,25.9292,79.65,79.65,79.65,52.0,52.0,110.8833,110.8833,110.8833,79.2,28.5375,27.7208,33.5,34.0208,512.3292,75.25,75.25,26.55,77.2875,77.2875,135.6333,164.8667,164.8667,164.8667,211.5,211.5,211.5,26.55,61.3792,61.3792,35.0,134.5,35.5,26.55,135.6333,24.0,24.0,13.0,11.5,10.5,26.0,26.0,13.0,11.5,10.5,13.0,10.5,12.525,26.0,26.0,26.0,39.0,39.0,39.0,39.0,13.0,13.0,13.0,13.0,13.0,13.0,13.0,39.0,39.0,39.0,26.0,26.0,13.0,13.0,13.0,13.0,29.0,29.0,29.0,21.0,0.0,13.0,26.0,26.0,13.5,26.0,26.0,30.0,30.0,26.0,26.0,10.5,13.0,10.5,26.25,26.25,26.25,10.5,13.0,21.0,11.5,0.0,36.75,73.5,36.75,13.0,13.0,73.5,27.7208,27.7208,31.5,73.5,23.0,23.0,26.0,32.5,32.5,32.5,13.8583,13.8583,13.0,13.0,13.0,26.0,26.0,10.5,13.0,0.0,13.0,26.0,21.0,21.0,13.0,26.0,10.5,10.5,11.5,11.5,13.5,13.0,13.0,13.0,13.0,13.0,14.5,14.5,13.0,33.0,33.0,10.5,10.5,26.25,26.25,26.25,65.0,65.0,65.0,65.0,16.0,73.5,73.5,73.5,13.0,23.0,11.5,13.0,23.0,13.0,26.0,26.0,73.5,13.0,26.0,26.0,12.275,10.5,27.0,27.0,15.0,31.5,31.5,10.5,13.7917,26.0,26.0,21.0,12.35,12.35,13.5,12.35,0.0,10.5,26.0,26.0,10.7083,41.5792,41.5792,41.5792,41.5792,12.0,33.0,10.5,12.875,10.5,12.35,26.0,26.0,10.5,15.0458,37.0042,37.0042,37.0042,15.5792,13.0,16.0,13.5,13.0,26.0,19.5,19.5,10.5,13.0,13.0,10.5,13.0,14.0,26.0,10.5,9.6875,30.0708,30.0708,26.0,26.0,26.0,13.0,36.75,13.5,13.8625,10.5,13.0,10.5,13.8625,10.5,13.8583,10.5,0.0,26.0,10.5,15.05,13.0,21.0,26.0,21.0,13.0,13.0,12.7375,15.0333,26.0,26.0,26.0,10.5,21.0,21.0,13.0,15.0458,18.75,18.75,18.75,10.5,10.5,10.5,13.0,13.0,26.0,26.0,13.0,36.75,13.0,13.5,12.35,10.5,13.0,13.0,15.0458,10.5,13.0,65.0,10.5,13.0,12.65,10.5,21.0,21.0,13.0,21.0,21.0,10.5,21.0,0.0,15.75,15.75,13.0,26.0,26.0,23.0,23.0,23.0,27.75,27.75,27.75,27.75,10.5,12.875,13.0,13.0,13.5,13.0,7.55,20.25,20.25,20.25,7.65,7.65,7.925,7.2292,7.25,8.05,9.475,9.35,9.35,18.7875,7.8875,7.925,7.05,7.05,8.05,8.3,22.525,7.8542,31.275,31.275,31.275,7.925,7.775,31.275,31.275,31.275,7.7958,7.775,31.275,7.8542,7.8958,17.8,17.8,7.775,7.05,31.3875,31.3875,31.3875,31.3875,31.3875,31.3875,7.7958,31.3875,7.225,7.225,7.05,14.4583,7.225,7.8542,7.2292,7.225,15.85,15.85,19.2583,19.2583,19.2583,19.2583,8.05,7.225,7.8958,7.2292,14.4542,14.4542,7.8792,8.05,8.05,7.775,9.35,7.2292,4.0125,56.4958,7.775,7.75,7.8958,15.2458,15.2458,7.225,15.2458,7.75,15.5,15.5,16.1,7.725,7.8542,7.0458,7.25,7.7958,8.05,7.2833,7.8208,6.75,7.8792,8.6625,8.6625,8.6625,8.6625,8.6625,8.6625,7.75,7.75,8.05,14.4583,14.4583,7.7958,7.8542,7.75,7.75,7.25,8.05,7.7333,56.4958,8.05,14.4542,14.4542,7.05,8.05,7.25,7.4958,7.4958,7.7333,7.75,7.75,7.6292,7.75,8.05,7.8958,7.8958,7.8958,8.05,15.9,15.9,15.9,7.25,8.1583,16.1,16.1,8.6625,7.225,8.05,10.5167,10.1708,6.95,7.75,14.4,14.4,14.4,7.8958,7.8958,24.15,8.05,24.15,8.05,16.1,16.1,17.4,17.4,9.5,9.5,20.575,20.575,20.575,20.575,7.8958,7.8958,7.8958,7.25,7.25,7.8792,7.8958,8.6625,7.8958,7.2292,7.75,8.05,12.475,7.75,8.05,7.8958,7.75,7.55,13.9,13.9,7.775,7.775,6.975,7.225,7.2292,7.2292,7.2292,7.25,12.475,7.225,15.1,7.75,7.05,7.7958,7.75,7.75,6.95,7.8792,7.75,56.4958,34.375,34.375,8.05,34.375,34.375,34.375,7.75,7.25,7.7417,14.5,7.8958,8.05,7.7333,7.75,20.525,20.525,7.85,20.525,7.05,46.9,46.9,46.9,46.9,46.9,46.9,46.9,46.9,8.05,8.3625,8.05,9.8458,7.925,7.925,7.775,8.85,7.7333,19.9667,19.9667,15.85,15.85,9.5,7.2292,14.1083,7.8542,7.8542,14.1083,7.55,7.25,6.8583,18.7875,7.75,6.975,56.4958,6.75,7.925,7.925,8.9625,7.8958,7.775,7.75,12.2875,12.2875,6.45,22.525,7.925,7.75,8.05,7.65,7.8875,7.2292,7.8958,7.925,7.925,7.8958,7.8958,7.7958,7.05,7.8542,7.8542,7.0542,7.75,8.1125,6.4958,7.775,7.7958,8.6542,7.775,7.8542,11.1333,11.1333,0.0,7.775,0.0,11.1333,23.45,23.45,23.45,23.45,7.8958,7.8542,7.8542,9.825,9.825,7.925,7.125,8.4333,7.8958,7.7958,7.8542,7.5208,13.4167,13.4167,7.2292,7.2292,7.75,7.25,7.75,7.75,7.8292,8.05,7.75,14.4542,14.4542,7.75,7.75,7.7375,8.6625,8.6625,22.025,22.025,22.025,12.1833,7.8542,12.1833,7.8958,7.2292,7.225,9.5875,7.8958,56.4958,56.4958,7.25,7.75,56.4958,9.4833,7.775,7.775,7.225,25.4667,25.4667,25.4667,25.4667,25.4667,7.925,6.4375,15.5,15.5,0.0,24.15,9.5,7.775,7.75,15.55,15.55,7.925,7.8792,56.4958,7.55,16.1,16.1,7.8792,7.25,8.6625,7.0542,7.8542,7.5792,7.8958,7.55,7.75,7.1417,7.125,7.8792,7.75,8.05,7.925,7.2292,7.75,7.7375,7.2292,7.8958,7.8958,7.225,7.8958,7.75,7.75,23.25,23.25,23.25,7.7875,15.5,7.8792,8.0292,7.75,7.75,16.1,16.1,7.75,8.05,8.05,8.05,7.75,7.775,8.05,7.8958,7.8958,7.8958,7.8958,7.8792,7.65,12.475,12.475,8.05,24.15,24.15,8.4583,8.05,7.75,7.775,15.2458,15.2458,15.2458,7.2292,8.05,7.7333,7.75,8.05,15.5,15.5,15.5,7.75,7.8958,7.225,15.7417,15.7417,15.7417,8.05,7.8958,7.2292,7.75,7.8958,11.2417,11.2417,7.925,8.05,7.775,7.8542,7.8542,7.125,7.925,7.8,7.2292,7.75,6.2375,15.5,7.8292,15.5,7.7333,7.75,7.75,9.225,7.75,7.75,7.8792,7.775,7.75,7.8292,3.1708,22.525,8.4042,7.3125,7.8542,7.8542,7.775,9.225,8.6625,8.6625,8.6625,9.2167,8.6833,7.6292,21.075,21.075,21.075,21.075,21.075,39.6875,39.6875,39.6875,39.6875,39.6875,39.6875,8.6625,14.5,8.7125,7.8958,13.775,13.775,13.775,7.0,7.775,8.05,7.925,7.925,7.25,7.775,22.3583,22.3583,22.3583,8.1375,8.05,7.8958,7.8958,7.8958,7.775,7.775,8.05,7.8958,8.6625,8.6625,7.8958,8.1125,7.2292,7.25,7.8958,8.05,29.125,29.125,29.125,29.125,29.125,29.125,39.6875,7.125,7.7208,14.5,14.5,14.5,14.5,8.05,7.775,20.2125,20.2125,20.2125,8.05,8.05,8.05,7.75,24.15,7.2292,7.225,7.225,7.7292,7.575,7.25,69.55,69.55,69.55,69.55,69.55,69.55,69.55,69.55,69.55,69.55,69.55,9.325,7.65,7.925,21.6792,21.6792,21.6792,16.7,16.7,16.7,9.5,8.05,8.05,7.725,7.8958,7.75,9.5,15.1,7.7792,8.05,8.05,7.2292,8.05,7.8958,7.925,7.4958,27.9,27.9,27.9,27.9,27.9,27.9,7.8958,8.05,8.6625,7.75,7.7333,7.65,8.05,8.05,8.05,7.8958,8.6625,7.55,8.05,null,7.8958,9.8375,7.925,8.6625,10.4625,10.4625,8.05,7.925,7.05,7.775,9.225,7.7958,7.7958,8.05,8.5167,6.4375,6.4375,7.225,8.5167,8.05,16.1,16.1,7.925,7.75,7.8958,8.05,8.05,7.2292,0.0,7.2292,15.2458,15.2458,15.2458,7.8958,9.8417,9.5875,14.5,14.5,14.5,24.15,24.15,24.15,9.5,9.5,9.5,9.5,9.0,18.0,18.0,18.0,18.0,7.225,7.8542,7.8542,7.8958,9.0,8.05,7.55,8.05,9.5,7.2292,7.75,6.4958,6.4958,7.0,8.7125,7.55,8.05,16.1,7.25,8.6625,7.25,9.5,14.4542,14.4542,7.225,7.225,14.4583,14.4542,14.4542,7.225,7.225,7.875],\"z\":[29.0,0.9167,2.0,30.0,25.0,48.0,63.0,39.0,53.0,71.0,47.0,18.0,24.0,26.0,80.0,null,24.0,50.0,32.0,36.0,37.0,47.0,26.0,42.0,29.0,25.0,25.0,19.0,35.0,28.0,45.0,40.0,30.0,58.0,42.0,45.0,22.0,null,41.0,48.0,null,44.0,59.0,60.0,41.0,45.0,null,42.0,53.0,36.0,58.0,33.0,28.0,17.0,11.0,14.0,36.0,36.0,49.0,null,36.0,76.0,46.0,47.0,27.0,33.0,36.0,30.0,45.0,null,null,27.0,26.0,22.0,null,47.0,39.0,37.0,64.0,55.0,null,70.0,36.0,64.0,39.0,38.0,51.0,27.0,33.0,31.0,27.0,31.0,17.0,53.0,4.0,54.0,50.0,27.0,48.0,48.0,49.0,39.0,23.0,38.0,54.0,36.0,null,null,null,36.0,30.0,24.0,28.0,23.0,19.0,64.0,60.0,30.0,null,50.0,43.0,null,22.0,60.0,48.0,null,37.0,35.0,47.0,35.0,22.0,45.0,24.0,49.0,null,71.0,53.0,19.0,38.0,58.0,23.0,45.0,46.0,25.0,25.0,48.0,49.0,null,45.0,35.0,40.0,27.0,null,24.0,55.0,52.0,42.0,null,55.0,16.0,44.0,51.0,42.0,35.0,35.0,38.0,null,35.0,38.0,50.0,49.0,46.0,50.0,32.5,58.0,41.0,null,42.0,45.0,null,39.0,49.0,30.0,35.0,null,42.0,55.0,16.0,51.0,29.0,21.0,30.0,58.0,15.0,30.0,16.0,null,19.0,18.0,24.0,46.0,54.0,36.0,28.0,null,65.0,44.0,33.0,37.0,30.0,55.0,47.0,37.0,31.0,23.0,58.0,19.0,64.0,39.0,null,22.0,65.0,28.5,null,45.5,23.0,29.0,22.0,18.0,17.0,30.0,52.0,47.0,56.0,38.0,null,22.0,null,43.0,31.0,45.0,null,33.0,46.0,36.0,33.0,55.0,54.0,33.0,13.0,18.0,21.0,61.0,48.0,null,24.0,null,35.0,30.0,34.0,40.0,35.0,50.0,39.0,56.0,28.0,56.0,56.0,24.0,null,18.0,24.0,23.0,6.0,45.0,40.0,57.0,null,32.0,62.0,54.0,43.0,52.0,null,62.0,67.0,63.0,61.0,48.0,18.0,52.0,39.0,48.0,null,49.0,17.0,39.0,null,31.0,40.0,61.0,47.0,35.0,64.0,60.0,60.0,54.0,21.0,55.0,31.0,57.0,45.0,50.0,27.0,50.0,21.0,51.0,21.0,null,31.0,null,62.0,36.0,30.0,28.0,30.0,18.0,25.0,34.0,36.0,57.0,18.0,23.0,36.0,28.0,51.0,32.0,19.0,28.0,1.0,4.0,12.0,36.0,34.0,19.0,23.0,26.0,42.0,27.0,24.0,15.0,60.0,40.0,20.0,25.0,36.0,25.0,42.0,42.0,0.8333,26.0,22.0,35.0,null,19.0,44.0,54.0,52.0,37.0,29.0,25.0,45.0,29.0,28.0,29.0,28.0,24.0,8.0,31.0,31.0,22.0,30.0,null,21.0,null,8.0,18.0,48.0,28.0,32.0,17.0,29.0,24.0,25.0,18.0,18.0,34.0,54.0,8.0,42.0,34.0,27.0,30.0,23.0,21.0,18.0,40.0,29.0,18.0,36.0,null,38.0,35.0,38.0,34.0,34.0,16.0,26.0,47.0,21.0,21.0,24.0,24.0,34.0,30.0,52.0,30.0,0.6667,24.0,44.0,6.0,28.0,62.0,30.0,7.0,43.0,45.0,24.0,24.0,49.0,48.0,55.0,24.0,32.0,21.0,18.0,20.0,23.0,36.0,54.0,50.0,44.0,29.0,21.0,42.0,63.0,60.0,33.0,17.0,42.0,24.0,47.0,24.0,22.0,32.0,23.0,34.0,24.0,22.0,null,35.0,45.0,57.0,null,31.0,26.0,30.0,null,1.0,3.0,25.0,22.0,17.0,null,34.0,36.0,24.0,61.0,50.0,42.0,57.0,null,1.0,31.0,24.0,null,30.0,40.0,32.0,30.0,46.0,13.0,41.0,19.0,39.0,48.0,70.0,27.0,54.0,39.0,16.0,62.0,32.5,14.0,2.0,3.0,36.5,26.0,19.0,28.0,20.0,29.0,39.0,22.0,null,23.0,29.0,28.0,null,50.0,19.0,null,41.0,21.0,19.0,43.0,32.0,34.0,30.0,27.0,2.0,8.0,33.0,36.0,34.0,30.0,28.0,23.0,0.8333,3.0,24.0,50.0,19.0,21.0,26.0,25.0,27.0,25.0,18.0,20.0,30.0,59.0,30.0,35.0,40.0,25.0,41.0,25.0,18.5,14.0,50.0,23.0,28.0,27.0,29.0,27.0,40.0,31.0,30.0,23.0,31.0,null,12.0,40.0,32.5,27.0,29.0,2.0,4.0,29.0,0.9167,5.0,36.0,33.0,66.0,null,31.0,null,26.0,24.0,42.0,13.0,16.0,35.0,16.0,25.0,20.0,18.0,30.0,26.0,40.0,0.8333,18.0,26.0,26.0,20.0,24.0,25.0,35.0,18.0,32.0,19.0,4.0,6.0,2.0,17.0,38.0,9.0,11.0,39.0,27.0,26.0,39.0,20.0,26.0,25.0,18.0,24.0,35.0,5.0,9.0,3.0,13.0,5.0,40.0,23.0,38.0,45.0,21.0,23.0,17.0,30.0,23.0,13.0,20.0,32.0,33.0,0.75,0.75,5.0,24.0,18.0,40.0,26.0,20.0,18.0,45.0,27.0,22.0,19.0,26.0,22.0,null,20.0,32.0,21.0,18.0,26.0,6.0,9.0,null,null,null,40.0,32.0,21.0,22.0,20.0,29.0,22.0,22.0,35.0,18.5,21.0,19.0,18.0,21.0,30.0,18.0,38.0,17.0,17.0,21.0,21.0,21.0,null,null,28.0,24.0,16.0,37.0,28.0,24.0,21.0,32.0,29.0,26.0,18.0,20.0,18.0,24.0,36.0,24.0,31.0,31.0,22.0,30.0,70.5,43.0,35.0,27.0,19.0,30.0,9.0,3.0,36.0,59.0,19.0,17.0,44.0,17.0,22.5,45.0,22.0,19.0,30.0,29.0,0.3333,34.0,28.0,27.0,25.0,24.0,22.0,21.0,17.0,null,null,36.5,36.0,30.0,16.0,1.0,0.1667,26.0,33.0,25.0,null,null,22.0,36.0,19.0,17.0,42.0,43.0,null,32.0,19.0,30.0,24.0,23.0,33.0,65.0,24.0,23.0,22.0,18.0,16.0,45.0,null,39.0,17.0,15.0,47.0,5.0,null,40.5,40.5,null,18.0,null,null,null,26.0,null,null,21.0,9.0,null,18.0,16.0,48.0,null,null,25.0,null,null,22.0,16.0,null,9.0,33.0,41.0,31.0,38.0,9.0,1.0,11.0,10.0,16.0,14.0,40.0,43.0,51.0,32.0,null,20.0,37.0,28.0,19.0,24.0,17.0,null,null,28.0,24.0,20.0,23.5,41.0,26.0,21.0,45.0,null,25.0,null,11.0,null,27.0,null,18.0,26.0,23.0,22.0,28.0,28.0,null,2.0,22.0,43.0,28.0,27.0,null,null,42.0,null,30.0,null,27.0,25.0,null,29.0,21.0,null,20.0,48.0,17.0,null,null,34.0,26.0,22.0,33.0,31.0,29.0,4.0,1.0,49.0,33.0,19.0,27.0,null,null,null,null,23.0,32.0,27.0,20.0,21.0,32.0,17.0,21.0,30.0,21.0,33.0,22.0,4.0,39.0,null,18.5,null,null,null,null,34.5,44.0,null,null,null,null,null,null,22.0,26.0,4.0,29.0,26.0,1.0,18.0,36.0,null,25.0,null,37.0,null,null,null,22.0,null,26.0,29.0,29.0,22.0,22.0,null,null,null,null,null,32.0,34.5,null,null,36.0,39.0,24.0,25.0,45.0,36.0,30.0,20.0,null,28.0,null,30.0,26.0,null,20.5,27.0,51.0,23.0,32.0,null,null,null,24.0,22.0,null,null,null,29.0,null,30.5,null,null,35.0,33.0,null,null,null,null,null,null,null,null,null,null,15.0,35.0,null,24.0,19.0,null,null,null,55.5,null,21.0,null,24.0,21.0,28.0,null,null,25.0,6.0,27.0,null,null,null,null,34.0,null,null,null,null,null,null,null,null,24.0,null,null,null,null,18.0,22.0,15.0,1.0,20.0,19.0,33.0,null,null,null,null,12.0,14.0,29.0,28.0,18.0,26.0,21.0,41.0,39.0,21.0,28.5,22.0,61.0,null,null,null,null,null,null,23.0,null,null,null,22.0,null,null,9.0,28.0,42.0,null,31.0,28.0,32.0,20.0,23.0,20.0,20.0,16.0,31.0,null,2.0,6.0,3.0,8.0,29.0,1.0,7.0,2.0,16.0,14.0,41.0,21.0,19.0,null,32.0,0.75,3.0,26.0,null,null,null,21.0,25.0,22.0,25.0,null,null,null,null,24.0,28.0,19.0,null,25.0,18.0,32.0,null,17.0,24.0,null,null,null,null,38.0,21.0,10.0,4.0,7.0,2.0,8.0,39.0,22.0,35.0,null,null,null,50.0,47.0,null,null,2.0,18.0,41.0,null,50.0,16.0,null,null,null,25.0,null,null,null,38.5,null,14.5,null,null,null,null,null,null,null,null,null,24.0,21.0,39.0,null,null,null,1.0,24.0,4.0,25.0,20.0,24.5,null,null,null,29.0,null,null,null,null,22.0,null,40.0,21.0,18.0,4.0,10.0,9.0,2.0,40.0,45.0,null,null,null,null,null,19.0,30.0,null,32.0,null,33.0,23.0,21.0,60.5,19.0,22.0,31.0,27.0,2.0,29.0,16.0,44.0,25.0,74.0,14.0,24.0,25.0,34.0,0.4167,null,null,null,16.0,null,null,null,32.0,null,null,30.5,44.0,null,25.0,null,7.0,9.0,29.0,36.0,18.0,63.0,null,11.5,40.5,10.0,36.0,30.0,null,33.0,28.0,28.0,47.0,18.0,31.0,16.0,31.0,22.0,20.0,14.0,22.0,22.0,null,null,null,32.5,38.0,51.0,18.0,21.0,47.0,null,null,null,28.5,21.0,27.0,null,36.0,27.0,15.0,45.5,null,null,14.5,null,26.5,27.0,29.0],\"type\":\"scatter3d\"}],                        {\"template\":{\"data\":{\"bar\":[{\"error_x\":{\"color\":\"#2a3f5f\"},\"error_y\":{\"color\":\"#2a3f5f\"},\"marker\":{\"line\":{\"color\":\"#E5ECF6\",\"width\":0.5},\"pattern\":{\"fillmode\":\"overlay\",\"size\":10,\"solidity\":0.2}},\"type\":\"bar\"}],\"barpolar\":[{\"marker\":{\"line\":{\"color\":\"#E5ECF6\",\"width\":0.5},\"pattern\":{\"fillmode\":\"overlay\",\"size\":10,\"solidity\":0.2}},\"type\":\"barpolar\"}],\"carpet\":[{\"aaxis\":{\"endlinecolor\":\"#2a3f5f\",\"gridcolor\":\"white\",\"linecolor\":\"white\",\"minorgridcolor\":\"white\",\"startlinecolor\":\"#2a3f5f\"},\"baxis\":{\"endlinecolor\":\"#2a3f5f\",\"gridcolor\":\"white\",\"linecolor\":\"white\",\"minorgridcolor\":\"white\",\"startlinecolor\":\"#2a3f5f\"},\"type\":\"carpet\"}],\"choropleth\":[{\"colorbar\":{\"outlinewidth\":0,\"ticks\":\"\"},\"type\":\"choropleth\"}],\"contour\":[{\"colorbar\":{\"outlinewidth\":0,\"ticks\":\"\"},\"colorscale\":[[0.0,\"#0d0887\"],[0.1111111111111111,\"#46039f\"],[0.2222222222222222,\"#7201a8\"],[0.3333333333333333,\"#9c179e\"],[0.4444444444444444,\"#bd3786\"],[0.5555555555555556,\"#d8576b\"],[0.6666666666666666,\"#ed7953\"],[0.7777777777777778,\"#fb9f3a\"],[0.8888888888888888,\"#fdca26\"],[1.0,\"#f0f921\"]],\"type\":\"contour\"}],\"contourcarpet\":[{\"colorbar\":{\"outlinewidth\":0,\"ticks\":\"\"},\"type\":\"contourcarpet\"}],\"heatmap\":[{\"colorbar\":{\"outlinewidth\":0,\"ticks\":\"\"},\"colorscale\":[[0.0,\"#0d0887\"],[0.1111111111111111,\"#46039f\"],[0.2222222222222222,\"#7201a8\"],[0.3333333333333333,\"#9c179e\"],[0.4444444444444444,\"#bd3786\"],[0.5555555555555556,\"#d8576b\"],[0.6666666666666666,\"#ed7953\"],[0.7777777777777778,\"#fb9f3a\"],[0.8888888888888888,\"#fdca26\"],[1.0,\"#f0f921\"]],\"type\":\"heatmap\"}],\"heatmapgl\":[{\"colorbar\":{\"outlinewidth\":0,\"ticks\":\"\"},\"colorscale\":[[0.0,\"#0d0887\"],[0.1111111111111111,\"#46039f\"],[0.2222222222222222,\"#7201a8\"],[0.3333333333333333,\"#9c179e\"],[0.4444444444444444,\"#bd3786\"],[0.5555555555555556,\"#d8576b\"],[0.6666666666666666,\"#ed7953\"],[0.7777777777777778,\"#fb9f3a\"],[0.8888888888888888,\"#fdca26\"],[1.0,\"#f0f921\"]],\"type\":\"heatmapgl\"}],\"histogram\":[{\"marker\":{\"pattern\":{\"fillmode\":\"overlay\",\"size\":10,\"solidity\":0.2}},\"type\":\"histogram\"}],\"histogram2d\":[{\"colorbar\":{\"outlinewidth\":0,\"ticks\":\"\"},\"colorscale\":[[0.0,\"#0d0887\"],[0.1111111111111111,\"#46039f\"],[0.2222222222222222,\"#7201a8\"],[0.3333333333333333,\"#9c179e\"],[0.4444444444444444,\"#bd3786\"],[0.5555555555555556,\"#d8576b\"],[0.6666666666666666,\"#ed7953\"],[0.7777777777777778,\"#fb9f3a\"],[0.8888888888888888,\"#fdca26\"],[1.0,\"#f0f921\"]],\"type\":\"histogram2d\"}],\"histogram2dcontour\":[{\"colorbar\":{\"outlinewidth\":0,\"ticks\":\"\"},\"colorscale\":[[0.0,\"#0d0887\"],[0.1111111111111111,\"#46039f\"],[0.2222222222222222,\"#7201a8\"],[0.3333333333333333,\"#9c179e\"],[0.4444444444444444,\"#bd3786\"],[0.5555555555555556,\"#d8576b\"],[0.6666666666666666,\"#ed7953\"],[0.7777777777777778,\"#fb9f3a\"],[0.8888888888888888,\"#fdca26\"],[1.0,\"#f0f921\"]],\"type\":\"histogram2dcontour\"}],\"mesh3d\":[{\"colorbar\":{\"outlinewidth\":0,\"ticks\":\"\"},\"type\":\"mesh3d\"}],\"parcoords\":[{\"line\":{\"colorbar\":{\"outlinewidth\":0,\"ticks\":\"\"}},\"type\":\"parcoords\"}],\"pie\":[{\"automargin\":true,\"type\":\"pie\"}],\"scatter\":[{\"marker\":{\"colorbar\":{\"outlinewidth\":0,\"ticks\":\"\"}},\"type\":\"scatter\"}],\"scatter3d\":[{\"line\":{\"colorbar\":{\"outlinewidth\":0,\"ticks\":\"\"}},\"marker\":{\"colorbar\":{\"outlinewidth\":0,\"ticks\":\"\"}},\"type\":\"scatter3d\"}],\"scattercarpet\":[{\"marker\":{\"colorbar\":{\"outlinewidth\":0,\"ticks\":\"\"}},\"type\":\"scattercarpet\"}],\"scattergeo\":[{\"marker\":{\"colorbar\":{\"outlinewidth\":0,\"ticks\":\"\"}},\"type\":\"scattergeo\"}],\"scattergl\":[{\"marker\":{\"colorbar\":{\"outlinewidth\":0,\"ticks\":\"\"}},\"type\":\"scattergl\"}],\"scattermapbox\":[{\"marker\":{\"colorbar\":{\"outlinewidth\":0,\"ticks\":\"\"}},\"type\":\"scattermapbox\"}],\"scatterpolar\":[{\"marker\":{\"colorbar\":{\"outlinewidth\":0,\"ticks\":\"\"}},\"type\":\"scatterpolar\"}],\"scatterpolargl\":[{\"marker\":{\"colorbar\":{\"outlinewidth\":0,\"ticks\":\"\"}},\"type\":\"scatterpolargl\"}],\"scatterternary\":[{\"marker\":{\"colorbar\":{\"outlinewidth\":0,\"ticks\":\"\"}},\"type\":\"scatterternary\"}],\"surface\":[{\"colorbar\":{\"outlinewidth\":0,\"ticks\":\"\"},\"colorscale\":[[0.0,\"#0d0887\"],[0.1111111111111111,\"#46039f\"],[0.2222222222222222,\"#7201a8\"],[0.3333333333333333,\"#9c179e\"],[0.4444444444444444,\"#bd3786\"],[0.5555555555555556,\"#d8576b\"],[0.6666666666666666,\"#ed7953\"],[0.7777777777777778,\"#fb9f3a\"],[0.8888888888888888,\"#fdca26\"],[1.0,\"#f0f921\"]],\"type\":\"surface\"}],\"table\":[{\"cells\":{\"fill\":{\"color\":\"#EBF0F8\"},\"line\":{\"color\":\"white\"}},\"header\":{\"fill\":{\"color\":\"#C8D4E3\"},\"line\":{\"color\":\"white\"}},\"type\":\"table\"}]},\"layout\":{\"annotationdefaults\":{\"arrowcolor\":\"#2a3f5f\",\"arrowhead\":0,\"arrowwidth\":1},\"autotypenumbers\":\"strict\",\"coloraxis\":{\"colorbar\":{\"outlinewidth\":0,\"ticks\":\"\"}},\"colorscale\":{\"diverging\":[[0,\"#8e0152\"],[0.1,\"#c51b7d\"],[0.2,\"#de77ae\"],[0.3,\"#f1b6da\"],[0.4,\"#fde0ef\"],[0.5,\"#f7f7f7\"],[0.6,\"#e6f5d0\"],[0.7,\"#b8e186\"],[0.8,\"#7fbc41\"],[0.9,\"#4d9221\"],[1,\"#276419\"]],\"sequential\":[[0.0,\"#0d0887\"],[0.1111111111111111,\"#46039f\"],[0.2222222222222222,\"#7201a8\"],[0.3333333333333333,\"#9c179e\"],[0.4444444444444444,\"#bd3786\"],[0.5555555555555556,\"#d8576b\"],[0.6666666666666666,\"#ed7953\"],[0.7777777777777778,\"#fb9f3a\"],[0.8888888888888888,\"#fdca26\"],[1.0,\"#f0f921\"]],\"sequentialminus\":[[0.0,\"#0d0887\"],[0.1111111111111111,\"#46039f\"],[0.2222222222222222,\"#7201a8\"],[0.3333333333333333,\"#9c179e\"],[0.4444444444444444,\"#bd3786\"],[0.5555555555555556,\"#d8576b\"],[0.6666666666666666,\"#ed7953\"],[0.7777777777777778,\"#fb9f3a\"],[0.8888888888888888,\"#fdca26\"],[1.0,\"#f0f921\"]]},\"colorway\":[\"#636efa\",\"#EF553B\",\"#00cc96\",\"#ab63fa\",\"#FFA15A\",\"#19d3f3\",\"#FF6692\",\"#B6E880\",\"#FF97FF\",\"#FECB52\"],\"font\":{\"color\":\"#2a3f5f\"},\"geo\":{\"bgcolor\":\"white\",\"lakecolor\":\"white\",\"landcolor\":\"#E5ECF6\",\"showlakes\":true,\"showland\":true,\"subunitcolor\":\"white\"},\"hoverlabel\":{\"align\":\"left\"},\"hovermode\":\"closest\",\"mapbox\":{\"style\":\"light\"},\"paper_bgcolor\":\"white\",\"plot_bgcolor\":\"#E5ECF6\",\"polar\":{\"angularaxis\":{\"gridcolor\":\"white\",\"linecolor\":\"white\",\"ticks\":\"\"},\"bgcolor\":\"#E5ECF6\",\"radialaxis\":{\"gridcolor\":\"white\",\"linecolor\":\"white\",\"ticks\":\"\"}},\"scene\":{\"xaxis\":{\"backgroundcolor\":\"#E5ECF6\",\"gridcolor\":\"white\",\"gridwidth\":2,\"linecolor\":\"white\",\"showbackground\":true,\"ticks\":\"\",\"zerolinecolor\":\"white\"},\"yaxis\":{\"backgroundcolor\":\"#E5ECF6\",\"gridcolor\":\"white\",\"gridwidth\":2,\"linecolor\":\"white\",\"showbackground\":true,\"ticks\":\"\",\"zerolinecolor\":\"white\"},\"zaxis\":{\"backgroundcolor\":\"#E5ECF6\",\"gridcolor\":\"white\",\"gridwidth\":2,\"linecolor\":\"white\",\"showbackground\":true,\"ticks\":\"\",\"zerolinecolor\":\"white\"}},\"shapedefaults\":{\"line\":{\"color\":\"#2a3f5f\"}},\"ternary\":{\"aaxis\":{\"gridcolor\":\"white\",\"linecolor\":\"white\",\"ticks\":\"\"},\"baxis\":{\"gridcolor\":\"white\",\"linecolor\":\"white\",\"ticks\":\"\"},\"bgcolor\":\"#E5ECF6\",\"caxis\":{\"gridcolor\":\"white\",\"linecolor\":\"white\",\"ticks\":\"\"}},\"title\":{\"x\":0.05},\"xaxis\":{\"automargin\":true,\"gridcolor\":\"white\",\"linecolor\":\"white\",\"ticks\":\"\",\"title\":{\"standoff\":15},\"zerolinecolor\":\"white\",\"zerolinewidth\":2},\"yaxis\":{\"automargin\":true,\"gridcolor\":\"white\",\"linecolor\":\"white\",\"ticks\":\"\",\"title\":{\"standoff\":15},\"zerolinecolor\":\"white\",\"zerolinewidth\":2}}},\"scene\":{\"domain\":{\"x\":[0.0,1.0],\"y\":[0.0,1.0]},\"xaxis\":{\"title\":{\"text\":\"title\"}},\"yaxis\":{\"title\":{\"text\":\"fare\"}},\"zaxis\":{\"title\":{\"text\":\"age\"}}},\"coloraxis\":{\"colorbar\":{\"title\":{\"text\":\"color\"}},\"colorscale\":[[0.0,\"#0d0887\"],[0.1111111111111111,\"#46039f\"],[0.2222222222222222,\"#7201a8\"],[0.3333333333333333,\"#9c179e\"],[0.4444444444444444,\"#bd3786\"],[0.5555555555555556,\"#d8576b\"],[0.6666666666666666,\"#ed7953\"],[0.7777777777777778,\"#fb9f3a\"],[0.8888888888888888,\"#fdca26\"],[1.0,\"#f0f921\"]]},\"legend\":{\"tracegroupgap\":0},\"margin\":{\"t\":60}},                        {\"responsive\": true}                    ).then(function(){\n",
              "                            \n",
              "var gd = document.getElementById('409fde4b-27d2-4b8b-94bf-b461cdfc6328');\n",
              "var x = new MutationObserver(function (mutations, observer) {{\n",
              "        var display = window.getComputedStyle(gd).display;\n",
              "        if (!display || display === 'none') {{\n",
              "            console.log([gd, 'removed!']);\n",
              "            Plotly.purge(gd);\n",
              "            observer.disconnect();\n",
              "        }}\n",
              "}});\n",
              "\n",
              "// Listen for the removal of the full notebook cells\n",
              "var notebookContainer = gd.closest('#notebook-container');\n",
              "if (notebookContainer) {{\n",
              "    x.observe(notebookContainer, {childList: true});\n",
              "}}\n",
              "\n",
              "// Listen for the clearing of the current output cell\n",
              "var outputEl = gd.closest('.output');\n",
              "if (outputEl) {{\n",
              "    x.observe(outputEl, {childList: true});\n",
              "}}\n",
              "\n",
              "                        })                };                            </script>        </div>\n",
              "</body>\n",
              "</html>"
            ]
          },
          "metadata": {}
        }
      ]
    },
    {
      "cell_type": "code",
      "source": [
        ""
      ],
      "metadata": {
        "id": "jC6SQl_5ZfyT"
      },
      "execution_count": null,
      "outputs": []
    }
  ]
}
